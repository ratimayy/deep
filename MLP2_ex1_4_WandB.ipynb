{
  "nbformat": 4,
  "nbformat_minor": 0,
  "metadata": {
    "colab": {
      "provenance": [],
      "collapsed_sections": [
        "QsNLz02cTzDS"
      ],
      "gpuType": "L4",
      "include_colab_link": true
    },
    "kernelspec": {
      "name": "python3",
      "display_name": "Python 3"
    },
    "language_info": {
      "name": "python"
    },
    "widgets": {
      "application/vnd.jupyter.widget-state+json": {
        "16cd5a7de6e54ffa91045f36a35bc5ec": {
          "model_module": "@jupyter-widgets/controls",
          "model_name": "VBoxModel",
          "model_module_version": "1.5.0",
          "state": {
            "_dom_classes": [],
            "_model_module": "@jupyter-widgets/controls",
            "_model_module_version": "1.5.0",
            "_model_name": "VBoxModel",
            "_view_count": null,
            "_view_module": "@jupyter-widgets/controls",
            "_view_module_version": "1.5.0",
            "_view_name": "VBoxView",
            "box_style": "",
            "children": [
              "IPY_MODEL_e8195528297749938a276dd3dcefb90a",
              "IPY_MODEL_4b9bc5be24124d36be36134fc97a7d76"
            ],
            "layout": "IPY_MODEL_798cd7888856434594e1f8e96acb9052"
          }
        },
        "e8195528297749938a276dd3dcefb90a": {
          "model_module": "@jupyter-widgets/controls",
          "model_name": "LabelModel",
          "model_module_version": "1.5.0",
          "state": {
            "_dom_classes": [],
            "_model_module": "@jupyter-widgets/controls",
            "_model_module_version": "1.5.0",
            "_model_name": "LabelModel",
            "_view_count": null,
            "_view_module": "@jupyter-widgets/controls",
            "_view_module_version": "1.5.0",
            "_view_name": "LabelView",
            "description": "",
            "description_tooltip": null,
            "layout": "IPY_MODEL_5c983d75193f45618f324b5f06f64ca6",
            "placeholder": "​",
            "style": "IPY_MODEL_ca84eb479b174700a79fa344481b6b7e",
            "value": "0.248 MB of 0.248 MB uploaded\r"
          }
        },
        "4b9bc5be24124d36be36134fc97a7d76": {
          "model_module": "@jupyter-widgets/controls",
          "model_name": "FloatProgressModel",
          "model_module_version": "1.5.0",
          "state": {
            "_dom_classes": [],
            "_model_module": "@jupyter-widgets/controls",
            "_model_module_version": "1.5.0",
            "_model_name": "FloatProgressModel",
            "_view_count": null,
            "_view_module": "@jupyter-widgets/controls",
            "_view_module_version": "1.5.0",
            "_view_name": "ProgressView",
            "bar_style": "",
            "description": "",
            "description_tooltip": null,
            "layout": "IPY_MODEL_53dd27f7a68c432eaa4bd2d780193eb1",
            "max": 1,
            "min": 0,
            "orientation": "horizontal",
            "style": "IPY_MODEL_0d1c13c9fc0044c682a6e86e94175f0d",
            "value": 1
          }
        },
        "798cd7888856434594e1f8e96acb9052": {
          "model_module": "@jupyter-widgets/base",
          "model_name": "LayoutModel",
          "model_module_version": "1.2.0",
          "state": {
            "_model_module": "@jupyter-widgets/base",
            "_model_module_version": "1.2.0",
            "_model_name": "LayoutModel",
            "_view_count": null,
            "_view_module": "@jupyter-widgets/base",
            "_view_module_version": "1.2.0",
            "_view_name": "LayoutView",
            "align_content": null,
            "align_items": null,
            "align_self": null,
            "border": null,
            "bottom": null,
            "display": null,
            "flex": null,
            "flex_flow": null,
            "grid_area": null,
            "grid_auto_columns": null,
            "grid_auto_flow": null,
            "grid_auto_rows": null,
            "grid_column": null,
            "grid_gap": null,
            "grid_row": null,
            "grid_template_areas": null,
            "grid_template_columns": null,
            "grid_template_rows": null,
            "height": null,
            "justify_content": null,
            "justify_items": null,
            "left": null,
            "margin": null,
            "max_height": null,
            "max_width": null,
            "min_height": null,
            "min_width": null,
            "object_fit": null,
            "object_position": null,
            "order": null,
            "overflow": null,
            "overflow_x": null,
            "overflow_y": null,
            "padding": null,
            "right": null,
            "top": null,
            "visibility": null,
            "width": null
          }
        },
        "5c983d75193f45618f324b5f06f64ca6": {
          "model_module": "@jupyter-widgets/base",
          "model_name": "LayoutModel",
          "model_module_version": "1.2.0",
          "state": {
            "_model_module": "@jupyter-widgets/base",
            "_model_module_version": "1.2.0",
            "_model_name": "LayoutModel",
            "_view_count": null,
            "_view_module": "@jupyter-widgets/base",
            "_view_module_version": "1.2.0",
            "_view_name": "LayoutView",
            "align_content": null,
            "align_items": null,
            "align_self": null,
            "border": null,
            "bottom": null,
            "display": null,
            "flex": null,
            "flex_flow": null,
            "grid_area": null,
            "grid_auto_columns": null,
            "grid_auto_flow": null,
            "grid_auto_rows": null,
            "grid_column": null,
            "grid_gap": null,
            "grid_row": null,
            "grid_template_areas": null,
            "grid_template_columns": null,
            "grid_template_rows": null,
            "height": null,
            "justify_content": null,
            "justify_items": null,
            "left": null,
            "margin": null,
            "max_height": null,
            "max_width": null,
            "min_height": null,
            "min_width": null,
            "object_fit": null,
            "object_position": null,
            "order": null,
            "overflow": null,
            "overflow_x": null,
            "overflow_y": null,
            "padding": null,
            "right": null,
            "top": null,
            "visibility": null,
            "width": null
          }
        },
        "ca84eb479b174700a79fa344481b6b7e": {
          "model_module": "@jupyter-widgets/controls",
          "model_name": "DescriptionStyleModel",
          "model_module_version": "1.5.0",
          "state": {
            "_model_module": "@jupyter-widgets/controls",
            "_model_module_version": "1.5.0",
            "_model_name": "DescriptionStyleModel",
            "_view_count": null,
            "_view_module": "@jupyter-widgets/base",
            "_view_module_version": "1.2.0",
            "_view_name": "StyleView",
            "description_width": ""
          }
        },
        "53dd27f7a68c432eaa4bd2d780193eb1": {
          "model_module": "@jupyter-widgets/base",
          "model_name": "LayoutModel",
          "model_module_version": "1.2.0",
          "state": {
            "_model_module": "@jupyter-widgets/base",
            "_model_module_version": "1.2.0",
            "_model_name": "LayoutModel",
            "_view_count": null,
            "_view_module": "@jupyter-widgets/base",
            "_view_module_version": "1.2.0",
            "_view_name": "LayoutView",
            "align_content": null,
            "align_items": null,
            "align_self": null,
            "border": null,
            "bottom": null,
            "display": null,
            "flex": null,
            "flex_flow": null,
            "grid_area": null,
            "grid_auto_columns": null,
            "grid_auto_flow": null,
            "grid_auto_rows": null,
            "grid_column": null,
            "grid_gap": null,
            "grid_row": null,
            "grid_template_areas": null,
            "grid_template_columns": null,
            "grid_template_rows": null,
            "height": null,
            "justify_content": null,
            "justify_items": null,
            "left": null,
            "margin": null,
            "max_height": null,
            "max_width": null,
            "min_height": null,
            "min_width": null,
            "object_fit": null,
            "object_position": null,
            "order": null,
            "overflow": null,
            "overflow_x": null,
            "overflow_y": null,
            "padding": null,
            "right": null,
            "top": null,
            "visibility": null,
            "width": null
          }
        },
        "0d1c13c9fc0044c682a6e86e94175f0d": {
          "model_module": "@jupyter-widgets/controls",
          "model_name": "ProgressStyleModel",
          "model_module_version": "1.5.0",
          "state": {
            "_model_module": "@jupyter-widgets/controls",
            "_model_module_version": "1.5.0",
            "_model_name": "ProgressStyleModel",
            "_view_count": null,
            "_view_module": "@jupyter-widgets/base",
            "_view_module_version": "1.2.0",
            "_view_name": "StyleView",
            "bar_color": null,
            "description_width": ""
          }
        },
        "d8e5ed40f0dc4290885920ef3e835522": {
          "model_module": "@jupyter-widgets/controls",
          "model_name": "VBoxModel",
          "model_module_version": "1.5.0",
          "state": {
            "_dom_classes": [],
            "_model_module": "@jupyter-widgets/controls",
            "_model_module_version": "1.5.0",
            "_model_name": "VBoxModel",
            "_view_count": null,
            "_view_module": "@jupyter-widgets/controls",
            "_view_module_version": "1.5.0",
            "_view_name": "VBoxView",
            "box_style": "",
            "children": [
              "IPY_MODEL_108bc8904fac4b729c268306900f5e15",
              "IPY_MODEL_02c531fcb519475cb49356da87dcac05"
            ],
            "layout": "IPY_MODEL_00e0ef16c8f447c680d8e94dea84e507"
          }
        },
        "108bc8904fac4b729c268306900f5e15": {
          "model_module": "@jupyter-widgets/controls",
          "model_name": "LabelModel",
          "model_module_version": "1.5.0",
          "state": {
            "_dom_classes": [],
            "_model_module": "@jupyter-widgets/controls",
            "_model_module_version": "1.5.0",
            "_model_name": "LabelModel",
            "_view_count": null,
            "_view_module": "@jupyter-widgets/controls",
            "_view_module_version": "1.5.0",
            "_view_name": "LabelView",
            "description": "",
            "description_tooltip": null,
            "layout": "IPY_MODEL_bd27ddad3fd247d2beb919eb2fdfd131",
            "placeholder": "​",
            "style": "IPY_MODEL_b3aef9b45c0245329b899be31e0771f7",
            "value": "4.708 MB of 4.708 MB uploaded\r"
          }
        },
        "02c531fcb519475cb49356da87dcac05": {
          "model_module": "@jupyter-widgets/controls",
          "model_name": "FloatProgressModel",
          "model_module_version": "1.5.0",
          "state": {
            "_dom_classes": [],
            "_model_module": "@jupyter-widgets/controls",
            "_model_module_version": "1.5.0",
            "_model_name": "FloatProgressModel",
            "_view_count": null,
            "_view_module": "@jupyter-widgets/controls",
            "_view_module_version": "1.5.0",
            "_view_name": "ProgressView",
            "bar_style": "",
            "description": "",
            "description_tooltip": null,
            "layout": "IPY_MODEL_03614891fd95413cba65f5c8c3710650",
            "max": 1,
            "min": 0,
            "orientation": "horizontal",
            "style": "IPY_MODEL_fa0ff4805b9745798051175e4430ff8a",
            "value": 1
          }
        },
        "00e0ef16c8f447c680d8e94dea84e507": {
          "model_module": "@jupyter-widgets/base",
          "model_name": "LayoutModel",
          "model_module_version": "1.2.0",
          "state": {
            "_model_module": "@jupyter-widgets/base",
            "_model_module_version": "1.2.0",
            "_model_name": "LayoutModel",
            "_view_count": null,
            "_view_module": "@jupyter-widgets/base",
            "_view_module_version": "1.2.0",
            "_view_name": "LayoutView",
            "align_content": null,
            "align_items": null,
            "align_self": null,
            "border": null,
            "bottom": null,
            "display": null,
            "flex": null,
            "flex_flow": null,
            "grid_area": null,
            "grid_auto_columns": null,
            "grid_auto_flow": null,
            "grid_auto_rows": null,
            "grid_column": null,
            "grid_gap": null,
            "grid_row": null,
            "grid_template_areas": null,
            "grid_template_columns": null,
            "grid_template_rows": null,
            "height": null,
            "justify_content": null,
            "justify_items": null,
            "left": null,
            "margin": null,
            "max_height": null,
            "max_width": null,
            "min_height": null,
            "min_width": null,
            "object_fit": null,
            "object_position": null,
            "order": null,
            "overflow": null,
            "overflow_x": null,
            "overflow_y": null,
            "padding": null,
            "right": null,
            "top": null,
            "visibility": null,
            "width": null
          }
        },
        "bd27ddad3fd247d2beb919eb2fdfd131": {
          "model_module": "@jupyter-widgets/base",
          "model_name": "LayoutModel",
          "model_module_version": "1.2.0",
          "state": {
            "_model_module": "@jupyter-widgets/base",
            "_model_module_version": "1.2.0",
            "_model_name": "LayoutModel",
            "_view_count": null,
            "_view_module": "@jupyter-widgets/base",
            "_view_module_version": "1.2.0",
            "_view_name": "LayoutView",
            "align_content": null,
            "align_items": null,
            "align_self": null,
            "border": null,
            "bottom": null,
            "display": null,
            "flex": null,
            "flex_flow": null,
            "grid_area": null,
            "grid_auto_columns": null,
            "grid_auto_flow": null,
            "grid_auto_rows": null,
            "grid_column": null,
            "grid_gap": null,
            "grid_row": null,
            "grid_template_areas": null,
            "grid_template_columns": null,
            "grid_template_rows": null,
            "height": null,
            "justify_content": null,
            "justify_items": null,
            "left": null,
            "margin": null,
            "max_height": null,
            "max_width": null,
            "min_height": null,
            "min_width": null,
            "object_fit": null,
            "object_position": null,
            "order": null,
            "overflow": null,
            "overflow_x": null,
            "overflow_y": null,
            "padding": null,
            "right": null,
            "top": null,
            "visibility": null,
            "width": null
          }
        },
        "b3aef9b45c0245329b899be31e0771f7": {
          "model_module": "@jupyter-widgets/controls",
          "model_name": "DescriptionStyleModel",
          "model_module_version": "1.5.0",
          "state": {
            "_model_module": "@jupyter-widgets/controls",
            "_model_module_version": "1.5.0",
            "_model_name": "DescriptionStyleModel",
            "_view_count": null,
            "_view_module": "@jupyter-widgets/base",
            "_view_module_version": "1.2.0",
            "_view_name": "StyleView",
            "description_width": ""
          }
        },
        "03614891fd95413cba65f5c8c3710650": {
          "model_module": "@jupyter-widgets/base",
          "model_name": "LayoutModel",
          "model_module_version": "1.2.0",
          "state": {
            "_model_module": "@jupyter-widgets/base",
            "_model_module_version": "1.2.0",
            "_model_name": "LayoutModel",
            "_view_count": null,
            "_view_module": "@jupyter-widgets/base",
            "_view_module_version": "1.2.0",
            "_view_name": "LayoutView",
            "align_content": null,
            "align_items": null,
            "align_self": null,
            "border": null,
            "bottom": null,
            "display": null,
            "flex": null,
            "flex_flow": null,
            "grid_area": null,
            "grid_auto_columns": null,
            "grid_auto_flow": null,
            "grid_auto_rows": null,
            "grid_column": null,
            "grid_gap": null,
            "grid_row": null,
            "grid_template_areas": null,
            "grid_template_columns": null,
            "grid_template_rows": null,
            "height": null,
            "justify_content": null,
            "justify_items": null,
            "left": null,
            "margin": null,
            "max_height": null,
            "max_width": null,
            "min_height": null,
            "min_width": null,
            "object_fit": null,
            "object_position": null,
            "order": null,
            "overflow": null,
            "overflow_x": null,
            "overflow_y": null,
            "padding": null,
            "right": null,
            "top": null,
            "visibility": null,
            "width": null
          }
        },
        "fa0ff4805b9745798051175e4430ff8a": {
          "model_module": "@jupyter-widgets/controls",
          "model_name": "ProgressStyleModel",
          "model_module_version": "1.5.0",
          "state": {
            "_model_module": "@jupyter-widgets/controls",
            "_model_module_version": "1.5.0",
            "_model_name": "ProgressStyleModel",
            "_view_count": null,
            "_view_module": "@jupyter-widgets/base",
            "_view_module_version": "1.2.0",
            "_view_name": "StyleView",
            "bar_color": null,
            "description_width": ""
          }
        },
        "3326d4567278417f8484814352c0201f": {
          "model_module": "@jupyter-widgets/controls",
          "model_name": "VBoxModel",
          "model_module_version": "1.5.0",
          "state": {
            "_dom_classes": [],
            "_model_module": "@jupyter-widgets/controls",
            "_model_module_version": "1.5.0",
            "_model_name": "VBoxModel",
            "_view_count": null,
            "_view_module": "@jupyter-widgets/controls",
            "_view_module_version": "1.5.0",
            "_view_name": "VBoxView",
            "box_style": "",
            "children": [
              "IPY_MODEL_b9b67f4be80d41068905b19911bf9a04",
              "IPY_MODEL_cf47737c625c4f10921d15c6a67b4ca3"
            ],
            "layout": "IPY_MODEL_3dec901948a4468bb9161aa1f67f4f2e"
          }
        },
        "b9b67f4be80d41068905b19911bf9a04": {
          "model_module": "@jupyter-widgets/controls",
          "model_name": "LabelModel",
          "model_module_version": "1.5.0",
          "state": {
            "_dom_classes": [],
            "_model_module": "@jupyter-widgets/controls",
            "_model_module_version": "1.5.0",
            "_model_name": "LabelModel",
            "_view_count": null,
            "_view_module": "@jupyter-widgets/controls",
            "_view_module_version": "1.5.0",
            "_view_name": "LabelView",
            "description": "",
            "description_tooltip": null,
            "layout": "IPY_MODEL_729702be406046d39e98cf88f721c8ad",
            "placeholder": "​",
            "style": "IPY_MODEL_a27ff4bb5d8c478699f6f4a969335186",
            "value": "0.952 MB of 0.952 MB uploaded\r"
          }
        },
        "cf47737c625c4f10921d15c6a67b4ca3": {
          "model_module": "@jupyter-widgets/controls",
          "model_name": "FloatProgressModel",
          "model_module_version": "1.5.0",
          "state": {
            "_dom_classes": [],
            "_model_module": "@jupyter-widgets/controls",
            "_model_module_version": "1.5.0",
            "_model_name": "FloatProgressModel",
            "_view_count": null,
            "_view_module": "@jupyter-widgets/controls",
            "_view_module_version": "1.5.0",
            "_view_name": "ProgressView",
            "bar_style": "",
            "description": "",
            "description_tooltip": null,
            "layout": "IPY_MODEL_5b2a03d4cd224a039aa77cfb83972120",
            "max": 1,
            "min": 0,
            "orientation": "horizontal",
            "style": "IPY_MODEL_88fb0ab4590f4c21a40d7a62ee029e68",
            "value": 1
          }
        },
        "3dec901948a4468bb9161aa1f67f4f2e": {
          "model_module": "@jupyter-widgets/base",
          "model_name": "LayoutModel",
          "model_module_version": "1.2.0",
          "state": {
            "_model_module": "@jupyter-widgets/base",
            "_model_module_version": "1.2.0",
            "_model_name": "LayoutModel",
            "_view_count": null,
            "_view_module": "@jupyter-widgets/base",
            "_view_module_version": "1.2.0",
            "_view_name": "LayoutView",
            "align_content": null,
            "align_items": null,
            "align_self": null,
            "border": null,
            "bottom": null,
            "display": null,
            "flex": null,
            "flex_flow": null,
            "grid_area": null,
            "grid_auto_columns": null,
            "grid_auto_flow": null,
            "grid_auto_rows": null,
            "grid_column": null,
            "grid_gap": null,
            "grid_row": null,
            "grid_template_areas": null,
            "grid_template_columns": null,
            "grid_template_rows": null,
            "height": null,
            "justify_content": null,
            "justify_items": null,
            "left": null,
            "margin": null,
            "max_height": null,
            "max_width": null,
            "min_height": null,
            "min_width": null,
            "object_fit": null,
            "object_position": null,
            "order": null,
            "overflow": null,
            "overflow_x": null,
            "overflow_y": null,
            "padding": null,
            "right": null,
            "top": null,
            "visibility": null,
            "width": null
          }
        },
        "729702be406046d39e98cf88f721c8ad": {
          "model_module": "@jupyter-widgets/base",
          "model_name": "LayoutModel",
          "model_module_version": "1.2.0",
          "state": {
            "_model_module": "@jupyter-widgets/base",
            "_model_module_version": "1.2.0",
            "_model_name": "LayoutModel",
            "_view_count": null,
            "_view_module": "@jupyter-widgets/base",
            "_view_module_version": "1.2.0",
            "_view_name": "LayoutView",
            "align_content": null,
            "align_items": null,
            "align_self": null,
            "border": null,
            "bottom": null,
            "display": null,
            "flex": null,
            "flex_flow": null,
            "grid_area": null,
            "grid_auto_columns": null,
            "grid_auto_flow": null,
            "grid_auto_rows": null,
            "grid_column": null,
            "grid_gap": null,
            "grid_row": null,
            "grid_template_areas": null,
            "grid_template_columns": null,
            "grid_template_rows": null,
            "height": null,
            "justify_content": null,
            "justify_items": null,
            "left": null,
            "margin": null,
            "max_height": null,
            "max_width": null,
            "min_height": null,
            "min_width": null,
            "object_fit": null,
            "object_position": null,
            "order": null,
            "overflow": null,
            "overflow_x": null,
            "overflow_y": null,
            "padding": null,
            "right": null,
            "top": null,
            "visibility": null,
            "width": null
          }
        },
        "a27ff4bb5d8c478699f6f4a969335186": {
          "model_module": "@jupyter-widgets/controls",
          "model_name": "DescriptionStyleModel",
          "model_module_version": "1.5.0",
          "state": {
            "_model_module": "@jupyter-widgets/controls",
            "_model_module_version": "1.5.0",
            "_model_name": "DescriptionStyleModel",
            "_view_count": null,
            "_view_module": "@jupyter-widgets/base",
            "_view_module_version": "1.2.0",
            "_view_name": "StyleView",
            "description_width": ""
          }
        },
        "5b2a03d4cd224a039aa77cfb83972120": {
          "model_module": "@jupyter-widgets/base",
          "model_name": "LayoutModel",
          "model_module_version": "1.2.0",
          "state": {
            "_model_module": "@jupyter-widgets/base",
            "_model_module_version": "1.2.0",
            "_model_name": "LayoutModel",
            "_view_count": null,
            "_view_module": "@jupyter-widgets/base",
            "_view_module_version": "1.2.0",
            "_view_name": "LayoutView",
            "align_content": null,
            "align_items": null,
            "align_self": null,
            "border": null,
            "bottom": null,
            "display": null,
            "flex": null,
            "flex_flow": null,
            "grid_area": null,
            "grid_auto_columns": null,
            "grid_auto_flow": null,
            "grid_auto_rows": null,
            "grid_column": null,
            "grid_gap": null,
            "grid_row": null,
            "grid_template_areas": null,
            "grid_template_columns": null,
            "grid_template_rows": null,
            "height": null,
            "justify_content": null,
            "justify_items": null,
            "left": null,
            "margin": null,
            "max_height": null,
            "max_width": null,
            "min_height": null,
            "min_width": null,
            "object_fit": null,
            "object_position": null,
            "order": null,
            "overflow": null,
            "overflow_x": null,
            "overflow_y": null,
            "padding": null,
            "right": null,
            "top": null,
            "visibility": null,
            "width": null
          }
        },
        "88fb0ab4590f4c21a40d7a62ee029e68": {
          "model_module": "@jupyter-widgets/controls",
          "model_name": "ProgressStyleModel",
          "model_module_version": "1.5.0",
          "state": {
            "_model_module": "@jupyter-widgets/controls",
            "_model_module_version": "1.5.0",
            "_model_name": "ProgressStyleModel",
            "_view_count": null,
            "_view_module": "@jupyter-widgets/base",
            "_view_module_version": "1.2.0",
            "_view_name": "StyleView",
            "bar_color": null,
            "description_width": ""
          }
        },
        "b3d9a1f92e6c414ba2f02e71bdf78950": {
          "model_module": "@jupyter-widgets/controls",
          "model_name": "VBoxModel",
          "model_module_version": "1.5.0",
          "state": {
            "_dom_classes": [],
            "_model_module": "@jupyter-widgets/controls",
            "_model_module_version": "1.5.0",
            "_model_name": "VBoxModel",
            "_view_count": null,
            "_view_module": "@jupyter-widgets/controls",
            "_view_module_version": "1.5.0",
            "_view_name": "VBoxView",
            "box_style": "",
            "children": [
              "IPY_MODEL_bba112ecf3cb4110aa2d7bd589bd1d2c",
              "IPY_MODEL_1b138f72df774afb9f077a3a74ca371e"
            ],
            "layout": "IPY_MODEL_e1ab0243b2aa47d5bb7d2d1b1d27caae"
          }
        },
        "bba112ecf3cb4110aa2d7bd589bd1d2c": {
          "model_module": "@jupyter-widgets/controls",
          "model_name": "LabelModel",
          "model_module_version": "1.5.0",
          "state": {
            "_dom_classes": [],
            "_model_module": "@jupyter-widgets/controls",
            "_model_module_version": "1.5.0",
            "_model_name": "LabelModel",
            "_view_count": null,
            "_view_module": "@jupyter-widgets/controls",
            "_view_module_version": "1.5.0",
            "_view_name": "LabelView",
            "description": "",
            "description_tooltip": null,
            "layout": "IPY_MODEL_bb0731c2110f44ba90ce2dfa27a62244",
            "placeholder": "​",
            "style": "IPY_MODEL_5f69c5ccd49042079f7372bb84d8c196",
            "value": "0.012 MB of 0.012 MB uploaded\r"
          }
        },
        "1b138f72df774afb9f077a3a74ca371e": {
          "model_module": "@jupyter-widgets/controls",
          "model_name": "FloatProgressModel",
          "model_module_version": "1.5.0",
          "state": {
            "_dom_classes": [],
            "_model_module": "@jupyter-widgets/controls",
            "_model_module_version": "1.5.0",
            "_model_name": "FloatProgressModel",
            "_view_count": null,
            "_view_module": "@jupyter-widgets/controls",
            "_view_module_version": "1.5.0",
            "_view_name": "ProgressView",
            "bar_style": "",
            "description": "",
            "description_tooltip": null,
            "layout": "IPY_MODEL_b39359bff5a9479a8e5c13def07ca076",
            "max": 1,
            "min": 0,
            "orientation": "horizontal",
            "style": "IPY_MODEL_3144975f8d544c74b24dd1d6dd02a69e",
            "value": 1
          }
        },
        "e1ab0243b2aa47d5bb7d2d1b1d27caae": {
          "model_module": "@jupyter-widgets/base",
          "model_name": "LayoutModel",
          "model_module_version": "1.2.0",
          "state": {
            "_model_module": "@jupyter-widgets/base",
            "_model_module_version": "1.2.0",
            "_model_name": "LayoutModel",
            "_view_count": null,
            "_view_module": "@jupyter-widgets/base",
            "_view_module_version": "1.2.0",
            "_view_name": "LayoutView",
            "align_content": null,
            "align_items": null,
            "align_self": null,
            "border": null,
            "bottom": null,
            "display": null,
            "flex": null,
            "flex_flow": null,
            "grid_area": null,
            "grid_auto_columns": null,
            "grid_auto_flow": null,
            "grid_auto_rows": null,
            "grid_column": null,
            "grid_gap": null,
            "grid_row": null,
            "grid_template_areas": null,
            "grid_template_columns": null,
            "grid_template_rows": null,
            "height": null,
            "justify_content": null,
            "justify_items": null,
            "left": null,
            "margin": null,
            "max_height": null,
            "max_width": null,
            "min_height": null,
            "min_width": null,
            "object_fit": null,
            "object_position": null,
            "order": null,
            "overflow": null,
            "overflow_x": null,
            "overflow_y": null,
            "padding": null,
            "right": null,
            "top": null,
            "visibility": null,
            "width": null
          }
        },
        "bb0731c2110f44ba90ce2dfa27a62244": {
          "model_module": "@jupyter-widgets/base",
          "model_name": "LayoutModel",
          "model_module_version": "1.2.0",
          "state": {
            "_model_module": "@jupyter-widgets/base",
            "_model_module_version": "1.2.0",
            "_model_name": "LayoutModel",
            "_view_count": null,
            "_view_module": "@jupyter-widgets/base",
            "_view_module_version": "1.2.0",
            "_view_name": "LayoutView",
            "align_content": null,
            "align_items": null,
            "align_self": null,
            "border": null,
            "bottom": null,
            "display": null,
            "flex": null,
            "flex_flow": null,
            "grid_area": null,
            "grid_auto_columns": null,
            "grid_auto_flow": null,
            "grid_auto_rows": null,
            "grid_column": null,
            "grid_gap": null,
            "grid_row": null,
            "grid_template_areas": null,
            "grid_template_columns": null,
            "grid_template_rows": null,
            "height": null,
            "justify_content": null,
            "justify_items": null,
            "left": null,
            "margin": null,
            "max_height": null,
            "max_width": null,
            "min_height": null,
            "min_width": null,
            "object_fit": null,
            "object_position": null,
            "order": null,
            "overflow": null,
            "overflow_x": null,
            "overflow_y": null,
            "padding": null,
            "right": null,
            "top": null,
            "visibility": null,
            "width": null
          }
        },
        "5f69c5ccd49042079f7372bb84d8c196": {
          "model_module": "@jupyter-widgets/controls",
          "model_name": "DescriptionStyleModel",
          "model_module_version": "1.5.0",
          "state": {
            "_model_module": "@jupyter-widgets/controls",
            "_model_module_version": "1.5.0",
            "_model_name": "DescriptionStyleModel",
            "_view_count": null,
            "_view_module": "@jupyter-widgets/base",
            "_view_module_version": "1.2.0",
            "_view_name": "StyleView",
            "description_width": ""
          }
        },
        "b39359bff5a9479a8e5c13def07ca076": {
          "model_module": "@jupyter-widgets/base",
          "model_name": "LayoutModel",
          "model_module_version": "1.2.0",
          "state": {
            "_model_module": "@jupyter-widgets/base",
            "_model_module_version": "1.2.0",
            "_model_name": "LayoutModel",
            "_view_count": null,
            "_view_module": "@jupyter-widgets/base",
            "_view_module_version": "1.2.0",
            "_view_name": "LayoutView",
            "align_content": null,
            "align_items": null,
            "align_self": null,
            "border": null,
            "bottom": null,
            "display": null,
            "flex": null,
            "flex_flow": null,
            "grid_area": null,
            "grid_auto_columns": null,
            "grid_auto_flow": null,
            "grid_auto_rows": null,
            "grid_column": null,
            "grid_gap": null,
            "grid_row": null,
            "grid_template_areas": null,
            "grid_template_columns": null,
            "grid_template_rows": null,
            "height": null,
            "justify_content": null,
            "justify_items": null,
            "left": null,
            "margin": null,
            "max_height": null,
            "max_width": null,
            "min_height": null,
            "min_width": null,
            "object_fit": null,
            "object_position": null,
            "order": null,
            "overflow": null,
            "overflow_x": null,
            "overflow_y": null,
            "padding": null,
            "right": null,
            "top": null,
            "visibility": null,
            "width": null
          }
        },
        "3144975f8d544c74b24dd1d6dd02a69e": {
          "model_module": "@jupyter-widgets/controls",
          "model_name": "ProgressStyleModel",
          "model_module_version": "1.5.0",
          "state": {
            "_model_module": "@jupyter-widgets/controls",
            "_model_module_version": "1.5.0",
            "_model_name": "ProgressStyleModel",
            "_view_count": null,
            "_view_module": "@jupyter-widgets/base",
            "_view_module_version": "1.2.0",
            "_view_name": "StyleView",
            "bar_color": null,
            "description_width": ""
          }
        }
      }
    },
    "accelerator": "GPU"
  },
  "cells": [
    {
      "cell_type": "markdown",
      "metadata": {
        "id": "view-in-github",
        "colab_type": "text"
      },
      "source": [
        "<a href=\"https://colab.research.google.com/github/ratimayy/deep/blob/main/MLP2_ex1_4_WandB.ipynb\" target=\"_parent\"><img src=\"https://colab.research.google.com/assets/colab-badge.svg\" alt=\"Open In Colab\"/></a>"
      ]
    },
    {
      "cell_type": "markdown",
      "source": [
        "- For data processing, model creation, and model training, this example is almost the same as MLP2_ex1-1. However, there are many new codes in this example regarding usages of the famous WandB (https://wandb.ai/).\n",
        "\n",
        "- In this example you will learn the following new topics:\n",
        "  - How to use the `dotenv` library to securely save your API key in a separated file\n",
        "  - How to login to WandB (required a WandB account)\n",
        "  - How to log hyperparameters of your project in each WandB's run\n",
        "  - How to use `wandb.keras.WandbMetricsLogger()` as a Keras's callback to automatically log:\n",
        "    - System (CPU/GPU/TPU) metrics\n",
        "    - Train and validation metrics defined in `model.compile()`\n",
        "    - Learning rate (both for a fixed value or a learning rate scheduler)\n",
        "  - How to use `wandb.log()` to log custom values\n",
        "  - How to use `wandb.keras.WandbModelCheckpoint()` as a Keras's callback to automatically save model's weights/checkpoints as WandB's artifacts\n",
        "  - How to load the model/weights from WandB's artifact"
      ],
      "metadata": {
        "id": "xgbW0rsZx9OG"
      }
    },
    {
      "cell_type": "markdown",
      "source": [
        "# 1. Prepare the environment"
      ],
      "metadata": {
        "id": "Am8MiduBQF7w"
      }
    },
    {
      "cell_type": "markdown",
      "source": [
        "## 1.1 Non-WandB preparation"
      ],
      "metadata": {
        "id": "LFu4I3GIycJo"
      }
    },
    {
      "cell_type": "code",
      "execution_count": null,
      "metadata": {
        "id": "dP0wi2yRP46L",
        "colab": {
          "base_uri": "https://localhost:8080/"
        },
        "outputId": "3a1c05df-5dc0-4ad6-d140-187eafe05741"
      },
      "outputs": [
        {
          "output_type": "stream",
          "name": "stdout",
          "text": [
            "GPU 0: NVIDIA L4 (UUID: GPU-d2756d80-2e16-9c2d-5dca-a999c6461430)\n"
          ]
        }
      ],
      "source": [
        "# List all NVIDIA GPUs as available in this computer (or Colab's session)\n",
        "!nvidia-smi -L"
      ]
    },
    {
      "cell_type": "code",
      "source": [
        "import sys\n",
        "print( f\"Python {sys.version}\\n\" )\n",
        "\n",
        "import os\n",
        "\n",
        "import numpy as np\n",
        "print( f\"NumPy {np.__version__}\\n\" )\n",
        "\n",
        "import pandas as pd\n",
        "print( f\"Pandas {pd.__version__}\\n\" )\n",
        "\n",
        "import matplotlib\n",
        "import matplotlib.pyplot as plt\n",
        "%matplotlib inline\n",
        "print( f\"Matplotlib {matplotlib.__version__}\\n\" )"
      ],
      "metadata": {
        "id": "lml-duVyQK78",
        "colab": {
          "base_uri": "https://localhost:8080/"
        },
        "outputId": "3cee0e73-d317-4eed-e1bc-4ac3487deb2b"
      },
      "execution_count": null,
      "outputs": [
        {
          "output_type": "stream",
          "name": "stdout",
          "text": [
            "Python 3.10.12 (main, Jul 29 2024, 16:56:48) [GCC 11.4.0]\n",
            "\n",
            "NumPy 1.26.4\n",
            "\n",
            "Pandas 2.1.4\n",
            "\n",
            "Matplotlib 3.7.1\n",
            "\n"
          ]
        }
      ]
    },
    {
      "cell_type": "code",
      "source": [
        "# According to https://community.wandb.ai/t/about-wandbmodelcheckpoint-typeerror-modelcheckpoint-init-got-an-unexpected-keyword-argume/6677/6\n",
        "# Using Keras 3 produces an error >> TypeError: ModelCheckpoint.__init__() got an unexpected keyword argument 'options'\n",
        "# This is a known bug in WandB and it is suggested that we downgrade to Keras 2\n",
        "\n",
        "# Install tensorflow with keras 2 according to https://keras.io/getting_started/\n",
        "# Starting with TensorFlow 2.16, doing pip install tensorflow will install Keras 3.\n",
        "!pip install \"tensorflow<2.16\""
      ],
      "metadata": {
        "colab": {
          "base_uri": "https://localhost:8080/"
        },
        "id": "cDj_0APEZwzq",
        "outputId": "b7f67919-698b-4370-e86d-d0589787854b"
      },
      "execution_count": null,
      "outputs": [
        {
          "output_type": "stream",
          "name": "stdout",
          "text": [
            "Collecting tensorflow<2.16\n",
            "  Downloading tensorflow-2.15.1-cp310-cp310-manylinux_2_17_x86_64.manylinux2014_x86_64.whl.metadata (4.2 kB)\n",
            "Requirement already satisfied: absl-py>=1.0.0 in /usr/local/lib/python3.10/dist-packages (from tensorflow<2.16) (1.4.0)\n",
            "Requirement already satisfied: astunparse>=1.6.0 in /usr/local/lib/python3.10/dist-packages (from tensorflow<2.16) (1.6.3)\n",
            "Requirement already satisfied: flatbuffers>=23.5.26 in /usr/local/lib/python3.10/dist-packages (from tensorflow<2.16) (24.3.25)\n",
            "Requirement already satisfied: gast!=0.5.0,!=0.5.1,!=0.5.2,>=0.2.1 in /usr/local/lib/python3.10/dist-packages (from tensorflow<2.16) (0.6.0)\n",
            "Requirement already satisfied: google-pasta>=0.1.1 in /usr/local/lib/python3.10/dist-packages (from tensorflow<2.16) (0.2.0)\n",
            "Requirement already satisfied: h5py>=2.9.0 in /usr/local/lib/python3.10/dist-packages (from tensorflow<2.16) (3.11.0)\n",
            "Requirement already satisfied: libclang>=13.0.0 in /usr/local/lib/python3.10/dist-packages (from tensorflow<2.16) (18.1.1)\n",
            "Collecting ml-dtypes~=0.3.1 (from tensorflow<2.16)\n",
            "  Downloading ml_dtypes-0.3.2-cp310-cp310-manylinux_2_17_x86_64.manylinux2014_x86_64.whl.metadata (20 kB)\n",
            "Requirement already satisfied: numpy<2.0.0,>=1.23.5 in /usr/local/lib/python3.10/dist-packages (from tensorflow<2.16) (1.26.4)\n",
            "Requirement already satisfied: opt-einsum>=2.3.2 in /usr/local/lib/python3.10/dist-packages (from tensorflow<2.16) (3.3.0)\n",
            "Requirement already satisfied: packaging in /usr/local/lib/python3.10/dist-packages (from tensorflow<2.16) (24.1)\n",
            "Requirement already satisfied: protobuf!=4.21.0,!=4.21.1,!=4.21.2,!=4.21.3,!=4.21.4,!=4.21.5,<5.0.0dev,>=3.20.3 in /usr/local/lib/python3.10/dist-packages (from tensorflow<2.16) (3.20.3)\n",
            "Requirement already satisfied: setuptools in /usr/local/lib/python3.10/dist-packages (from tensorflow<2.16) (71.0.4)\n",
            "Requirement already satisfied: six>=1.12.0 in /usr/local/lib/python3.10/dist-packages (from tensorflow<2.16) (1.16.0)\n",
            "Requirement already satisfied: termcolor>=1.1.0 in /usr/local/lib/python3.10/dist-packages (from tensorflow<2.16) (2.4.0)\n",
            "Requirement already satisfied: typing-extensions>=3.6.6 in /usr/local/lib/python3.10/dist-packages (from tensorflow<2.16) (4.12.2)\n",
            "Collecting wrapt<1.15,>=1.11.0 (from tensorflow<2.16)\n",
            "  Downloading wrapt-1.14.1-cp310-cp310-manylinux_2_5_x86_64.manylinux1_x86_64.manylinux_2_17_x86_64.manylinux2014_x86_64.whl.metadata (6.7 kB)\n",
            "Requirement already satisfied: tensorflow-io-gcs-filesystem>=0.23.1 in /usr/local/lib/python3.10/dist-packages (from tensorflow<2.16) (0.37.1)\n",
            "Requirement already satisfied: grpcio<2.0,>=1.24.3 in /usr/local/lib/python3.10/dist-packages (from tensorflow<2.16) (1.64.1)\n",
            "Collecting tensorboard<2.16,>=2.15 (from tensorflow<2.16)\n",
            "  Downloading tensorboard-2.15.2-py3-none-any.whl.metadata (1.7 kB)\n",
            "Collecting tensorflow-estimator<2.16,>=2.15.0 (from tensorflow<2.16)\n",
            "  Downloading tensorflow_estimator-2.15.0-py2.py3-none-any.whl.metadata (1.3 kB)\n",
            "Collecting keras<2.16,>=2.15.0 (from tensorflow<2.16)\n",
            "  Downloading keras-2.15.0-py3-none-any.whl.metadata (2.4 kB)\n",
            "Requirement already satisfied: wheel<1.0,>=0.23.0 in /usr/local/lib/python3.10/dist-packages (from astunparse>=1.6.0->tensorflow<2.16) (0.44.0)\n",
            "Requirement already satisfied: google-auth<3,>=1.6.3 in /usr/local/lib/python3.10/dist-packages (from tensorboard<2.16,>=2.15->tensorflow<2.16) (2.27.0)\n",
            "Requirement already satisfied: google-auth-oauthlib<2,>=0.5 in /usr/local/lib/python3.10/dist-packages (from tensorboard<2.16,>=2.15->tensorflow<2.16) (1.2.1)\n",
            "Requirement already satisfied: markdown>=2.6.8 in /usr/local/lib/python3.10/dist-packages (from tensorboard<2.16,>=2.15->tensorflow<2.16) (3.7)\n",
            "Requirement already satisfied: requests<3,>=2.21.0 in /usr/local/lib/python3.10/dist-packages (from tensorboard<2.16,>=2.15->tensorflow<2.16) (2.32.3)\n",
            "Requirement already satisfied: tensorboard-data-server<0.8.0,>=0.7.0 in /usr/local/lib/python3.10/dist-packages (from tensorboard<2.16,>=2.15->tensorflow<2.16) (0.7.2)\n",
            "Requirement already satisfied: werkzeug>=1.0.1 in /usr/local/lib/python3.10/dist-packages (from tensorboard<2.16,>=2.15->tensorflow<2.16) (3.0.4)\n",
            "Requirement already satisfied: cachetools<6.0,>=2.0.0 in /usr/local/lib/python3.10/dist-packages (from google-auth<3,>=1.6.3->tensorboard<2.16,>=2.15->tensorflow<2.16) (5.5.0)\n",
            "Requirement already satisfied: pyasn1-modules>=0.2.1 in /usr/local/lib/python3.10/dist-packages (from google-auth<3,>=1.6.3->tensorboard<2.16,>=2.15->tensorflow<2.16) (0.4.0)\n",
            "Requirement already satisfied: rsa<5,>=3.1.4 in /usr/local/lib/python3.10/dist-packages (from google-auth<3,>=1.6.3->tensorboard<2.16,>=2.15->tensorflow<2.16) (4.9)\n",
            "Requirement already satisfied: requests-oauthlib>=0.7.0 in /usr/local/lib/python3.10/dist-packages (from google-auth-oauthlib<2,>=0.5->tensorboard<2.16,>=2.15->tensorflow<2.16) (1.3.1)\n",
            "Requirement already satisfied: charset-normalizer<4,>=2 in /usr/local/lib/python3.10/dist-packages (from requests<3,>=2.21.0->tensorboard<2.16,>=2.15->tensorflow<2.16) (3.3.2)\n",
            "Requirement already satisfied: idna<4,>=2.5 in /usr/local/lib/python3.10/dist-packages (from requests<3,>=2.21.0->tensorboard<2.16,>=2.15->tensorflow<2.16) (3.7)\n",
            "Requirement already satisfied: urllib3<3,>=1.21.1 in /usr/local/lib/python3.10/dist-packages (from requests<3,>=2.21.0->tensorboard<2.16,>=2.15->tensorflow<2.16) (2.0.7)\n",
            "Requirement already satisfied: certifi>=2017.4.17 in /usr/local/lib/python3.10/dist-packages (from requests<3,>=2.21.0->tensorboard<2.16,>=2.15->tensorflow<2.16) (2024.7.4)\n",
            "Requirement already satisfied: MarkupSafe>=2.1.1 in /usr/local/lib/python3.10/dist-packages (from werkzeug>=1.0.1->tensorboard<2.16,>=2.15->tensorflow<2.16) (2.1.5)\n",
            "Requirement already satisfied: pyasn1<0.7.0,>=0.4.6 in /usr/local/lib/python3.10/dist-packages (from pyasn1-modules>=0.2.1->google-auth<3,>=1.6.3->tensorboard<2.16,>=2.15->tensorflow<2.16) (0.6.0)\n",
            "Requirement already satisfied: oauthlib>=3.0.0 in /usr/local/lib/python3.10/dist-packages (from requests-oauthlib>=0.7.0->google-auth-oauthlib<2,>=0.5->tensorboard<2.16,>=2.15->tensorflow<2.16) (3.2.2)\n",
            "Downloading tensorflow-2.15.1-cp310-cp310-manylinux_2_17_x86_64.manylinux2014_x86_64.whl (475.2 MB)\n",
            "\u001b[2K   \u001b[90m━━━━━━━━━━━━━━━━━━━━━━━━━━━━━━━━━━━━━━━━\u001b[0m \u001b[32m475.2/475.2 MB\u001b[0m \u001b[31m2.6 MB/s\u001b[0m eta \u001b[36m0:00:00\u001b[0m\n",
            "\u001b[?25hDownloading keras-2.15.0-py3-none-any.whl (1.7 MB)\n",
            "\u001b[2K   \u001b[90m━━━━━━━━━━━━━━━━━━━━━━━━━━━━━━━━━━━━━━━━\u001b[0m \u001b[32m1.7/1.7 MB\u001b[0m \u001b[31m81.1 MB/s\u001b[0m eta \u001b[36m0:00:00\u001b[0m\n",
            "\u001b[?25hDownloading ml_dtypes-0.3.2-cp310-cp310-manylinux_2_17_x86_64.manylinux2014_x86_64.whl (2.2 MB)\n",
            "\u001b[2K   \u001b[90m━━━━━━━━━━━━━━━━━━━━━━━━━━━━━━━━━━━━━━━━\u001b[0m \u001b[32m2.2/2.2 MB\u001b[0m \u001b[31m69.2 MB/s\u001b[0m eta \u001b[36m0:00:00\u001b[0m\n",
            "\u001b[?25hDownloading tensorboard-2.15.2-py3-none-any.whl (5.5 MB)\n",
            "\u001b[2K   \u001b[90m━━━━━━━━━━━━━━━━━━━━━━━━━━━━━━━━━━━━━━━━\u001b[0m \u001b[32m5.5/5.5 MB\u001b[0m \u001b[31m91.6 MB/s\u001b[0m eta \u001b[36m0:00:00\u001b[0m\n",
            "\u001b[?25hDownloading tensorflow_estimator-2.15.0-py2.py3-none-any.whl (441 kB)\n",
            "\u001b[2K   \u001b[90m━━━━━━━━━━━━━━━━━━━━━━━━━━━━━━━━━━━━━━━━\u001b[0m \u001b[32m442.0/442.0 kB\u001b[0m \u001b[31m39.7 MB/s\u001b[0m eta \u001b[36m0:00:00\u001b[0m\n",
            "\u001b[?25hDownloading wrapt-1.14.1-cp310-cp310-manylinux_2_5_x86_64.manylinux1_x86_64.manylinux_2_17_x86_64.manylinux2014_x86_64.whl (77 kB)\n",
            "\u001b[2K   \u001b[90m━━━━━━━━━━━━━━━━━━━━━━━━━━━━━━━━━━━━━━━━\u001b[0m \u001b[32m77.9/77.9 kB\u001b[0m \u001b[31m8.5 MB/s\u001b[0m eta \u001b[36m0:00:00\u001b[0m\n",
            "\u001b[?25hInstalling collected packages: wrapt, tensorflow-estimator, ml-dtypes, keras, tensorboard, tensorflow\n",
            "  Attempting uninstall: wrapt\n",
            "    Found existing installation: wrapt 1.16.0\n",
            "    Uninstalling wrapt-1.16.0:\n",
            "      Successfully uninstalled wrapt-1.16.0\n",
            "  Attempting uninstall: ml-dtypes\n",
            "    Found existing installation: ml-dtypes 0.4.0\n",
            "    Uninstalling ml-dtypes-0.4.0:\n",
            "      Successfully uninstalled ml-dtypes-0.4.0\n",
            "  Attempting uninstall: keras\n",
            "    Found existing installation: keras 3.4.1\n",
            "    Uninstalling keras-3.4.1:\n",
            "      Successfully uninstalled keras-3.4.1\n",
            "  Attempting uninstall: tensorboard\n",
            "    Found existing installation: tensorboard 2.17.0\n",
            "    Uninstalling tensorboard-2.17.0:\n",
            "      Successfully uninstalled tensorboard-2.17.0\n",
            "  Attempting uninstall: tensorflow\n",
            "    Found existing installation: tensorflow 2.17.0\n",
            "    Uninstalling tensorflow-2.17.0:\n",
            "      Successfully uninstalled tensorflow-2.17.0\n",
            "\u001b[31mERROR: pip's dependency resolver does not currently take into account all the packages that are installed. This behaviour is the source of the following dependency conflicts.\n",
            "tf-keras 2.17.0 requires tensorflow<2.18,>=2.17, but you have tensorflow 2.15.1 which is incompatible.\u001b[0m\u001b[31m\n",
            "\u001b[0mSuccessfully installed keras-2.15.0 ml-dtypes-0.3.2 tensorboard-2.15.2 tensorflow-2.15.1 tensorflow-estimator-2.15.0 wrapt-1.14.1\n"
          ]
        }
      ]
    },
    {
      "cell_type": "code",
      "source": [
        "import tensorflow as tf\n",
        "print( f\"TensorFlow {tf.__version__}\" )\n",
        "print( f\"tf.keras.backend.image_data_format() = {tf.keras.backend.image_data_format()}\" )\n",
        "\n",
        "# Count the number of GPUs as detected by tensorflow\n",
        "gpus = tf.config.list_physical_devices('GPU')\n",
        "print( f\"TensorFlow detected { len(gpus) } GPU(s):\" )\n",
        "for i, gpu in enumerate(gpus):\n",
        "  print( f\".... GPU No. {i}: Name = {gpu.name} , Type = {gpu.device_type}\" )"
      ],
      "metadata": {
        "colab": {
          "base_uri": "https://localhost:8080/"
        },
        "id": "puPH2_dBZuAw",
        "outputId": "24d3bcfb-9a47-423b-e620-1f31abdd20a3"
      },
      "execution_count": null,
      "outputs": [
        {
          "output_type": "stream",
          "name": "stdout",
          "text": [
            "TensorFlow 2.15.1\n",
            "tf.keras.backend.image_data_format() = channels_last\n",
            "TensorFlow detected 1 GPU(s):\n",
            ".... GPU No. 0: Name = /physical_device:GPU:0 , Type = GPU\n"
          ]
        }
      ]
    },
    {
      "cell_type": "code",
      "source": [
        "# Set fixed seeding values for reproducability during experiments\n",
        "# Skip this cell if random initialization (with varied results) is needed\n",
        "#np.random.seed(1234)\n",
        "#tf.random.set_seed(5678)"
      ],
      "metadata": {
        "id": "F8LiRMTQUVKY"
      },
      "execution_count": null,
      "outputs": []
    },
    {
      "cell_type": "markdown",
      "source": [
        "## 1.2 WandB preparation"
      ],
      "metadata": {
        "id": "amij4yvqytTM"
      }
    },
    {
      "cell_type": "code",
      "source": [
        "# Install WandB\n",
        "!pip install wandb -qU"
      ],
      "metadata": {
        "id": "GWiPPTjaSqq-",
        "colab": {
          "base_uri": "https://localhost:8080/"
        },
        "outputId": "ab55408c-c984-485d-92da-019e60b3539b"
      },
      "execution_count": null,
      "outputs": [
        {
          "output_type": "stream",
          "name": "stdout",
          "text": [
            "\u001b[?25l   \u001b[90m━━━━━━━━━━━━━━━━━━━━━━━━━━━━━━━━━━━━━━━━\u001b[0m \u001b[32m0.0/9.3 MB\u001b[0m \u001b[31m?\u001b[0m eta \u001b[36m-:--:--\u001b[0m\r\u001b[2K   \u001b[91m━━━━━━\u001b[0m\u001b[91m╸\u001b[0m\u001b[90m━━━━━━━━━━━━━━━━━━━━━━━━━━━━━━━━━\u001b[0m \u001b[32m1.5/9.3 MB\u001b[0m \u001b[31m46.2 MB/s\u001b[0m eta \u001b[36m0:00:01\u001b[0m\r\u001b[2K   \u001b[91m━━━━━━━━━━━━━━━━━━━━━━━━━━━━━━━━━━━━\u001b[0m\u001b[90m╺\u001b[0m\u001b[90m━━━\u001b[0m \u001b[32m8.5/9.3 MB\u001b[0m \u001b[31m124.5 MB/s\u001b[0m eta \u001b[36m0:00:01\u001b[0m\r\u001b[2K   \u001b[91m━━━━━━━━━━━━━━━━━━━━━━━━━━━━━━━━━━━━━━━\u001b[0m\u001b[91m╸\u001b[0m \u001b[32m9.3/9.3 MB\u001b[0m \u001b[31m126.3 MB/s\u001b[0m eta \u001b[36m0:00:01\u001b[0m\r\u001b[2K   \u001b[90m━━━━━━━━━━━━━━━━━━━━━━━━━━━━━━━━━━━━━━━━\u001b[0m \u001b[32m9.3/9.3 MB\u001b[0m \u001b[31m88.4 MB/s\u001b[0m eta \u001b[36m0:00:00\u001b[0m\n",
            "\u001b[?25h\u001b[?25l   \u001b[90m━━━━━━━━━━━━━━━━━━━━━━━━━━━━━━━━━━━━━━━━\u001b[0m \u001b[32m0.0/207.3 kB\u001b[0m \u001b[31m?\u001b[0m eta \u001b[36m-:--:--\u001b[0m\r\u001b[2K   \u001b[90m━━━━━━━━━━━━━━━━━━━━━━━━━━━━━━━━━━━━━━━━\u001b[0m \u001b[32m207.3/207.3 kB\u001b[0m \u001b[31m21.2 MB/s\u001b[0m eta \u001b[36m0:00:00\u001b[0m\n",
            "\u001b[?25h\u001b[?25l   \u001b[90m━━━━━━━━━━━━━━━━━━━━━━━━━━━━━━━━━━━━━━━━\u001b[0m \u001b[32m0.0/309.1 kB\u001b[0m \u001b[31m?\u001b[0m eta \u001b[36m-:--:--\u001b[0m\r\u001b[2K   \u001b[90m━━━━━━━━━━━━━━━━━━━━━━━━━━━━━━━━━━━━━━━━\u001b[0m \u001b[32m309.1/309.1 kB\u001b[0m \u001b[31m27.9 MB/s\u001b[0m eta \u001b[36m0:00:00\u001b[0m\n",
            "\u001b[?25h\u001b[?25l   \u001b[90m━━━━━━━━━━━━━━━━━━━━━━━━━━━━━━━━━━━━━━━━\u001b[0m \u001b[32m0.0/62.7 kB\u001b[0m \u001b[31m?\u001b[0m eta \u001b[36m-:--:--\u001b[0m\r\u001b[2K   \u001b[90m━━━━━━━━━━━━━━━━━━━━━━━━━━━━━━━━━━━━━━━━\u001b[0m \u001b[32m62.7/62.7 kB\u001b[0m \u001b[31m6.6 MB/s\u001b[0m eta \u001b[36m0:00:00\u001b[0m\n",
            "\u001b[?25h"
          ]
        }
      ]
    },
    {
      "cell_type": "code",
      "source": [
        "# Import WandB\n",
        "import wandb\n",
        "print(f'WandB {wandb.__version__}')"
      ],
      "metadata": {
        "id": "CIB3Z1Cgyvan",
        "colab": {
          "base_uri": "https://localhost:8080/"
        },
        "outputId": "5f53a0d9-d6bf-4e24-c869-cfcd596dace7"
      },
      "execution_count": null,
      "outputs": [
        {
          "output_type": "stream",
          "name": "stdout",
          "text": [
            "WandB 0.17.7\n"
          ]
        }
      ]
    },
    {
      "cell_type": "code",
      "source": [
        "# (Optional) Install dotenv to help manage API keys stored in \".env\" file\n",
        "!pip install python-dotenv"
      ],
      "metadata": {
        "id": "sae_37jUy_AI",
        "colab": {
          "base_uri": "https://localhost:8080/"
        },
        "outputId": "b8357cdc-0cd6-40a4-9a6b-c127f78f6509"
      },
      "execution_count": null,
      "outputs": [
        {
          "output_type": "stream",
          "name": "stdout",
          "text": [
            "Collecting python-dotenv\n",
            "  Downloading python_dotenv-1.0.1-py3-none-any.whl.metadata (23 kB)\n",
            "Downloading python_dotenv-1.0.1-py3-none-any.whl (19 kB)\n",
            "Installing collected packages: python-dotenv\n",
            "Successfully installed python-dotenv-1.0.1\n"
          ]
        }
      ]
    },
    {
      "cell_type": "markdown",
      "source": [
        "**Start using WandB:**\n",
        "- ~~Use as an anonymous and login by `wandb.login(anonymous='allow')`~~\n",
        "  - ~~No WandB account required~~\n",
        "  - ~~Limited features https://docs.wandb.ai/guides/app/features/anon~~\n",
        "- Use with your personal WandB's API key (signing up required) and login by `wandb.login(key=YOUR_API_KEY_HERE)`\n",
        "  - Retrieve your WandB API key from https://wandb.ai/authorize\n",
        "  - (Optional) You may protect your API key by creating a text file named \".env\" to store your API key like `WANDB_API_KEY = fdjkere12df4erdfdelre`. Then, use the `dotenv` library to load content in the \".env\" file and get the API key.\n",
        "- If you've already logged in to WandB in a web browser, most of the times, Google Colab will recognize your WandB account and automatically log you in without having to enter your WandB's API key manually."
      ],
      "metadata": {
        "id": "lIrw3Sagsgfw"
      }
    },
    {
      "cell_type": "code",
      "source": [
        "# Choose how you want to use WandB\n",
        "\n",
        "menu = f\"Do you have an environment variable named 'WANDB_API_KEY' stored in .env file?\\nYour answer (y/n): \"\n",
        "while True:\n",
        "  choice = input(menu).lower().strip()\n",
        "\n",
        "  if choice == 'y':\n",
        "    # Load 'WANDB_API_KEY' from the \".env\" file\n",
        "    from dotenv import load_dotenv\n",
        "    load_dotenv()\n",
        "    WANDB_API_KEY = os.getenv('WANDB_API_KEY')\n",
        "\n",
        "    # Login with your WandB account\n",
        "    wandb.login(key=WANDB_API_KEY)\n",
        "    break\n",
        "\n",
        "  elif choice == 'n':\n",
        "    # Login as anonymous (no need for API key)\n",
        "    wandb.login(anonymous='allow')\n",
        "    break\n",
        "\n",
        "  else:\n",
        "    print('Invalid input. Try again.\\n')"
      ],
      "metadata": {
        "id": "x9dWdxnRzILj",
        "colab": {
          "base_uri": "https://localhost:8080/"
        },
        "outputId": "3b1fec53-7397-4a66-9ba6-bca668d1697c"
      },
      "execution_count": null,
      "outputs": [
        {
          "name": "stdout",
          "output_type": "stream",
          "text": [
            "Do you have an environment variable named 'WANDB_API_KEY' stored in .env file?\n",
            "Your answer (y/n): y\n"
          ]
        },
        {
          "output_type": "stream",
          "name": "stderr",
          "text": [
            "\u001b[34m\u001b[1mwandb\u001b[0m: Currently logged in as: \u001b[33mthitirat\u001b[0m (\u001b[33mgsas_nida\u001b[0m). Use \u001b[1m`wandb login --relogin`\u001b[0m to force relogin\n",
            "\u001b[34m\u001b[1mwandb\u001b[0m: \u001b[33mWARNING\u001b[0m If you're specifying your api key in code, ensure this code is not shared publicly.\n",
            "\u001b[34m\u001b[1mwandb\u001b[0m: \u001b[33mWARNING\u001b[0m Consider setting the WANDB_API_KEY environment variable, or running `wandb login` from the command line.\n",
            "\u001b[34m\u001b[1mwandb\u001b[0m: Appending key for api.wandb.ai to your netrc file: /root/.netrc\n"
          ]
        }
      ]
    },
    {
      "cell_type": "markdown",
      "source": [
        "# 2. Prepare the dataset\n",
        "\n",
        "Load the Boston Housing dataset (http://lib.stat.cmu.edu/datasets/boston) from Keras"
      ],
      "metadata": {
        "id": "QsNLz02cTzDS"
      }
    },
    {
      "cell_type": "code",
      "source": [
        "# Load\n",
        "(x_train, y_train), (x_test, y_test) = tf.keras.datasets.boston_housing.load_data()\n",
        "\n",
        "# Inspect\n",
        "vars = [ ('x_train',x_train), ('y_train',y_train), ('x_test',x_test), ('y_test',y_test) ]\n",
        "for name,var in vars:\n",
        "  print(f\"{name}: type={type(var)} , shape={var.shape} , dtype={var.dtype}\")"
      ],
      "metadata": {
        "id": "IbiL7X8wvIrz",
        "colab": {
          "base_uri": "https://localhost:8080/"
        },
        "outputId": "bc45af15-865e-4e9a-a765-3152d917a99a"
      },
      "execution_count": null,
      "outputs": [
        {
          "output_type": "stream",
          "name": "stdout",
          "text": [
            "Downloading data from https://storage.googleapis.com/tensorflow/tf-keras-datasets/boston_housing.npz\n",
            "57026/57026 [==============================] - 0s 0us/step\n",
            "x_train: type=<class 'numpy.ndarray'> , shape=(404, 13) , dtype=float64\n",
            "y_train: type=<class 'numpy.ndarray'> , shape=(404,) , dtype=float64\n",
            "x_test: type=<class 'numpy.ndarray'> , shape=(102, 13) , dtype=float64\n",
            "y_test: type=<class 'numpy.ndarray'> , shape=(102,) , dtype=float64\n"
          ]
        }
      ]
    },
    {
      "cell_type": "markdown",
      "source": [
        "(Optional) Preview the train and test sets with pandas' dataframe"
      ],
      "metadata": {
        "id": "0jve8IYGxgc6"
      }
    },
    {
      "cell_type": "code",
      "source": [
        "# A function to convert two numpy arrays to a single dataframe\n",
        "def boston_dataframe(np_x, np_y):\n",
        "  # Create a dataframe from two numpy arrays\n",
        "  columns = ['CRIM', 'ZN', 'INDUS', 'CHAS', 'NOX', 'RM', 'AGE', 'DIS', 'RAD', 'TAX', 'PTRATIO', 'B', 'LSTAT']\n",
        "  df_boston = pd.DataFrame(np_x, columns=columns)   # 13 feature columns\n",
        "  df_boston['MEDV'] = pd.Series(np_y)   # 1 output column\n",
        "\n",
        "  return df_boston\n",
        "\n",
        "# Preview stats regarding both train and test datasets\n",
        "print('===== PREVIEW: THE TRAIN SET =====')\n",
        "display( boston_dataframe(x_train, y_train).describe().style.format(precision=2) )\n",
        "print('\\n===== PREVIEW: THE TEST SET =====')\n",
        "display( boston_dataframe(x_test, y_test).describe().style.format(precision=2) )"
      ],
      "metadata": {
        "id": "14CcAFCcwagj",
        "colab": {
          "base_uri": "https://localhost:8080/"
        },
        "outputId": "55d0b81b-7532-4f11-c9b3-1ab7aad56c53"
      },
      "execution_count": null,
      "outputs": [
        {
          "output_type": "stream",
          "name": "stdout",
          "text": [
            "===== PREVIEW: THE TRAIN SET =====\n"
          ]
        },
        {
          "output_type": "display_data",
          "data": {
            "text/plain": [
              "<pandas.io.formats.style.Styler at 0x7a59fb561c30>"
            ],
            "text/html": [
              "<style type=\"text/css\">\n",
              "</style>\n",
              "<table id=\"T_6c527\" class=\"dataframe\">\n",
              "  <thead>\n",
              "    <tr>\n",
              "      <th class=\"blank level0\" >&nbsp;</th>\n",
              "      <th id=\"T_6c527_level0_col0\" class=\"col_heading level0 col0\" >CRIM</th>\n",
              "      <th id=\"T_6c527_level0_col1\" class=\"col_heading level0 col1\" >ZN</th>\n",
              "      <th id=\"T_6c527_level0_col2\" class=\"col_heading level0 col2\" >INDUS</th>\n",
              "      <th id=\"T_6c527_level0_col3\" class=\"col_heading level0 col3\" >CHAS</th>\n",
              "      <th id=\"T_6c527_level0_col4\" class=\"col_heading level0 col4\" >NOX</th>\n",
              "      <th id=\"T_6c527_level0_col5\" class=\"col_heading level0 col5\" >RM</th>\n",
              "      <th id=\"T_6c527_level0_col6\" class=\"col_heading level0 col6\" >AGE</th>\n",
              "      <th id=\"T_6c527_level0_col7\" class=\"col_heading level0 col7\" >DIS</th>\n",
              "      <th id=\"T_6c527_level0_col8\" class=\"col_heading level0 col8\" >RAD</th>\n",
              "      <th id=\"T_6c527_level0_col9\" class=\"col_heading level0 col9\" >TAX</th>\n",
              "      <th id=\"T_6c527_level0_col10\" class=\"col_heading level0 col10\" >PTRATIO</th>\n",
              "      <th id=\"T_6c527_level0_col11\" class=\"col_heading level0 col11\" >B</th>\n",
              "      <th id=\"T_6c527_level0_col12\" class=\"col_heading level0 col12\" >LSTAT</th>\n",
              "      <th id=\"T_6c527_level0_col13\" class=\"col_heading level0 col13\" >MEDV</th>\n",
              "    </tr>\n",
              "  </thead>\n",
              "  <tbody>\n",
              "    <tr>\n",
              "      <th id=\"T_6c527_level0_row0\" class=\"row_heading level0 row0\" >count</th>\n",
              "      <td id=\"T_6c527_row0_col0\" class=\"data row0 col0\" >404.00</td>\n",
              "      <td id=\"T_6c527_row0_col1\" class=\"data row0 col1\" >404.00</td>\n",
              "      <td id=\"T_6c527_row0_col2\" class=\"data row0 col2\" >404.00</td>\n",
              "      <td id=\"T_6c527_row0_col3\" class=\"data row0 col3\" >404.00</td>\n",
              "      <td id=\"T_6c527_row0_col4\" class=\"data row0 col4\" >404.00</td>\n",
              "      <td id=\"T_6c527_row0_col5\" class=\"data row0 col5\" >404.00</td>\n",
              "      <td id=\"T_6c527_row0_col6\" class=\"data row0 col6\" >404.00</td>\n",
              "      <td id=\"T_6c527_row0_col7\" class=\"data row0 col7\" >404.00</td>\n",
              "      <td id=\"T_6c527_row0_col8\" class=\"data row0 col8\" >404.00</td>\n",
              "      <td id=\"T_6c527_row0_col9\" class=\"data row0 col9\" >404.00</td>\n",
              "      <td id=\"T_6c527_row0_col10\" class=\"data row0 col10\" >404.00</td>\n",
              "      <td id=\"T_6c527_row0_col11\" class=\"data row0 col11\" >404.00</td>\n",
              "      <td id=\"T_6c527_row0_col12\" class=\"data row0 col12\" >404.00</td>\n",
              "      <td id=\"T_6c527_row0_col13\" class=\"data row0 col13\" >404.00</td>\n",
              "    </tr>\n",
              "    <tr>\n",
              "      <th id=\"T_6c527_level0_row1\" class=\"row_heading level0 row1\" >mean</th>\n",
              "      <td id=\"T_6c527_row1_col0\" class=\"data row1 col0\" >3.75</td>\n",
              "      <td id=\"T_6c527_row1_col1\" class=\"data row1 col1\" >11.48</td>\n",
              "      <td id=\"T_6c527_row1_col2\" class=\"data row1 col2\" >11.10</td>\n",
              "      <td id=\"T_6c527_row1_col3\" class=\"data row1 col3\" >0.06</td>\n",
              "      <td id=\"T_6c527_row1_col4\" class=\"data row1 col4\" >0.56</td>\n",
              "      <td id=\"T_6c527_row1_col5\" class=\"data row1 col5\" >6.27</td>\n",
              "      <td id=\"T_6c527_row1_col6\" class=\"data row1 col6\" >69.01</td>\n",
              "      <td id=\"T_6c527_row1_col7\" class=\"data row1 col7\" >3.74</td>\n",
              "      <td id=\"T_6c527_row1_col8\" class=\"data row1 col8\" >9.44</td>\n",
              "      <td id=\"T_6c527_row1_col9\" class=\"data row1 col9\" >405.90</td>\n",
              "      <td id=\"T_6c527_row1_col10\" class=\"data row1 col10\" >18.48</td>\n",
              "      <td id=\"T_6c527_row1_col11\" class=\"data row1 col11\" >354.78</td>\n",
              "      <td id=\"T_6c527_row1_col12\" class=\"data row1 col12\" >12.74</td>\n",
              "      <td id=\"T_6c527_row1_col13\" class=\"data row1 col13\" >22.40</td>\n",
              "    </tr>\n",
              "    <tr>\n",
              "      <th id=\"T_6c527_level0_row2\" class=\"row_heading level0 row2\" >std</th>\n",
              "      <td id=\"T_6c527_row2_col0\" class=\"data row2 col0\" >9.24</td>\n",
              "      <td id=\"T_6c527_row2_col1\" class=\"data row2 col1\" >23.77</td>\n",
              "      <td id=\"T_6c527_row2_col2\" class=\"data row2 col2\" >6.81</td>\n",
              "      <td id=\"T_6c527_row2_col3\" class=\"data row2 col3\" >0.24</td>\n",
              "      <td id=\"T_6c527_row2_col4\" class=\"data row2 col4\" >0.12</td>\n",
              "      <td id=\"T_6c527_row2_col5\" class=\"data row2 col5\" >0.71</td>\n",
              "      <td id=\"T_6c527_row2_col6\" class=\"data row2 col6\" >27.94</td>\n",
              "      <td id=\"T_6c527_row2_col7\" class=\"data row2 col7\" >2.03</td>\n",
              "      <td id=\"T_6c527_row2_col8\" class=\"data row2 col8\" >8.70</td>\n",
              "      <td id=\"T_6c527_row2_col9\" class=\"data row2 col9\" >166.37</td>\n",
              "      <td id=\"T_6c527_row2_col10\" class=\"data row2 col10\" >2.20</td>\n",
              "      <td id=\"T_6c527_row2_col11\" class=\"data row2 col11\" >94.11</td>\n",
              "      <td id=\"T_6c527_row2_col12\" class=\"data row2 col12\" >7.25</td>\n",
              "      <td id=\"T_6c527_row2_col13\" class=\"data row2 col13\" >9.21</td>\n",
              "    </tr>\n",
              "    <tr>\n",
              "      <th id=\"T_6c527_level0_row3\" class=\"row_heading level0 row3\" >min</th>\n",
              "      <td id=\"T_6c527_row3_col0\" class=\"data row3 col0\" >0.01</td>\n",
              "      <td id=\"T_6c527_row3_col1\" class=\"data row3 col1\" >0.00</td>\n",
              "      <td id=\"T_6c527_row3_col2\" class=\"data row3 col2\" >0.46</td>\n",
              "      <td id=\"T_6c527_row3_col3\" class=\"data row3 col3\" >0.00</td>\n",
              "      <td id=\"T_6c527_row3_col4\" class=\"data row3 col4\" >0.39</td>\n",
              "      <td id=\"T_6c527_row3_col5\" class=\"data row3 col5\" >3.56</td>\n",
              "      <td id=\"T_6c527_row3_col6\" class=\"data row3 col6\" >2.90</td>\n",
              "      <td id=\"T_6c527_row3_col7\" class=\"data row3 col7\" >1.13</td>\n",
              "      <td id=\"T_6c527_row3_col8\" class=\"data row3 col8\" >1.00</td>\n",
              "      <td id=\"T_6c527_row3_col9\" class=\"data row3 col9\" >188.00</td>\n",
              "      <td id=\"T_6c527_row3_col10\" class=\"data row3 col10\" >12.60</td>\n",
              "      <td id=\"T_6c527_row3_col11\" class=\"data row3 col11\" >0.32</td>\n",
              "      <td id=\"T_6c527_row3_col12\" class=\"data row3 col12\" >1.73</td>\n",
              "      <td id=\"T_6c527_row3_col13\" class=\"data row3 col13\" >5.00</td>\n",
              "    </tr>\n",
              "    <tr>\n",
              "      <th id=\"T_6c527_level0_row4\" class=\"row_heading level0 row4\" >25%</th>\n",
              "      <td id=\"T_6c527_row4_col0\" class=\"data row4 col0\" >0.08</td>\n",
              "      <td id=\"T_6c527_row4_col1\" class=\"data row4 col1\" >0.00</td>\n",
              "      <td id=\"T_6c527_row4_col2\" class=\"data row4 col2\" >5.13</td>\n",
              "      <td id=\"T_6c527_row4_col3\" class=\"data row4 col3\" >0.00</td>\n",
              "      <td id=\"T_6c527_row4_col4\" class=\"data row4 col4\" >0.45</td>\n",
              "      <td id=\"T_6c527_row4_col5\" class=\"data row4 col5\" >5.87</td>\n",
              "      <td id=\"T_6c527_row4_col6\" class=\"data row4 col6\" >45.48</td>\n",
              "      <td id=\"T_6c527_row4_col7\" class=\"data row4 col7\" >2.08</td>\n",
              "      <td id=\"T_6c527_row4_col8\" class=\"data row4 col8\" >4.00</td>\n",
              "      <td id=\"T_6c527_row4_col9\" class=\"data row4 col9\" >279.00</td>\n",
              "      <td id=\"T_6c527_row4_col10\" class=\"data row4 col10\" >17.23</td>\n",
              "      <td id=\"T_6c527_row4_col11\" class=\"data row4 col11\" >374.67</td>\n",
              "      <td id=\"T_6c527_row4_col12\" class=\"data row4 col12\" >6.89</td>\n",
              "      <td id=\"T_6c527_row4_col13\" class=\"data row4 col13\" >16.68</td>\n",
              "    </tr>\n",
              "    <tr>\n",
              "      <th id=\"T_6c527_level0_row5\" class=\"row_heading level0 row5\" >50%</th>\n",
              "      <td id=\"T_6c527_row5_col0\" class=\"data row5 col0\" >0.27</td>\n",
              "      <td id=\"T_6c527_row5_col1\" class=\"data row5 col1\" >0.00</td>\n",
              "      <td id=\"T_6c527_row5_col2\" class=\"data row5 col2\" >9.69</td>\n",
              "      <td id=\"T_6c527_row5_col3\" class=\"data row5 col3\" >0.00</td>\n",
              "      <td id=\"T_6c527_row5_col4\" class=\"data row5 col4\" >0.54</td>\n",
              "      <td id=\"T_6c527_row5_col5\" class=\"data row5 col5\" >6.20</td>\n",
              "      <td id=\"T_6c527_row5_col6\" class=\"data row5 col6\" >78.50</td>\n",
              "      <td id=\"T_6c527_row5_col7\" class=\"data row5 col7\" >3.14</td>\n",
              "      <td id=\"T_6c527_row5_col8\" class=\"data row5 col8\" >5.00</td>\n",
              "      <td id=\"T_6c527_row5_col9\" class=\"data row5 col9\" >330.00</td>\n",
              "      <td id=\"T_6c527_row5_col10\" class=\"data row5 col10\" >19.10</td>\n",
              "      <td id=\"T_6c527_row5_col11\" class=\"data row5 col11\" >391.25</td>\n",
              "      <td id=\"T_6c527_row5_col12\" class=\"data row5 col12\" >11.39</td>\n",
              "      <td id=\"T_6c527_row5_col13\" class=\"data row5 col13\" >20.75</td>\n",
              "    </tr>\n",
              "    <tr>\n",
              "      <th id=\"T_6c527_level0_row6\" class=\"row_heading level0 row6\" >75%</th>\n",
              "      <td id=\"T_6c527_row6_col0\" class=\"data row6 col0\" >3.67</td>\n",
              "      <td id=\"T_6c527_row6_col1\" class=\"data row6 col1\" >12.50</td>\n",
              "      <td id=\"T_6c527_row6_col2\" class=\"data row6 col2\" >18.10</td>\n",
              "      <td id=\"T_6c527_row6_col3\" class=\"data row6 col3\" >0.00</td>\n",
              "      <td id=\"T_6c527_row6_col4\" class=\"data row6 col4\" >0.63</td>\n",
              "      <td id=\"T_6c527_row6_col5\" class=\"data row6 col5\" >6.61</td>\n",
              "      <td id=\"T_6c527_row6_col6\" class=\"data row6 col6\" >94.10</td>\n",
              "      <td id=\"T_6c527_row6_col7\" class=\"data row6 col7\" >5.12</td>\n",
              "      <td id=\"T_6c527_row6_col8\" class=\"data row6 col8\" >24.00</td>\n",
              "      <td id=\"T_6c527_row6_col9\" class=\"data row6 col9\" >666.00</td>\n",
              "      <td id=\"T_6c527_row6_col10\" class=\"data row6 col10\" >20.20</td>\n",
              "      <td id=\"T_6c527_row6_col11\" class=\"data row6 col11\" >396.16</td>\n",
              "      <td id=\"T_6c527_row6_col12\" class=\"data row6 col12\" >17.09</td>\n",
              "      <td id=\"T_6c527_row6_col13\" class=\"data row6 col13\" >24.80</td>\n",
              "    </tr>\n",
              "    <tr>\n",
              "      <th id=\"T_6c527_level0_row7\" class=\"row_heading level0 row7\" >max</th>\n",
              "      <td id=\"T_6c527_row7_col0\" class=\"data row7 col0\" >88.98</td>\n",
              "      <td id=\"T_6c527_row7_col1\" class=\"data row7 col1\" >100.00</td>\n",
              "      <td id=\"T_6c527_row7_col2\" class=\"data row7 col2\" >27.74</td>\n",
              "      <td id=\"T_6c527_row7_col3\" class=\"data row7 col3\" >1.00</td>\n",
              "      <td id=\"T_6c527_row7_col4\" class=\"data row7 col4\" >0.87</td>\n",
              "      <td id=\"T_6c527_row7_col5\" class=\"data row7 col5\" >8.72</td>\n",
              "      <td id=\"T_6c527_row7_col6\" class=\"data row7 col6\" >100.00</td>\n",
              "      <td id=\"T_6c527_row7_col7\" class=\"data row7 col7\" >10.71</td>\n",
              "      <td id=\"T_6c527_row7_col8\" class=\"data row7 col8\" >24.00</td>\n",
              "      <td id=\"T_6c527_row7_col9\" class=\"data row7 col9\" >711.00</td>\n",
              "      <td id=\"T_6c527_row7_col10\" class=\"data row7 col10\" >22.00</td>\n",
              "      <td id=\"T_6c527_row7_col11\" class=\"data row7 col11\" >396.90</td>\n",
              "      <td id=\"T_6c527_row7_col12\" class=\"data row7 col12\" >37.97</td>\n",
              "      <td id=\"T_6c527_row7_col13\" class=\"data row7 col13\" >50.00</td>\n",
              "    </tr>\n",
              "  </tbody>\n",
              "</table>\n"
            ]
          },
          "metadata": {}
        },
        {
          "output_type": "stream",
          "name": "stdout",
          "text": [
            "\n",
            "===== PREVIEW: THE TEST SET =====\n"
          ]
        },
        {
          "output_type": "display_data",
          "data": {
            "text/plain": [
              "<pandas.io.formats.style.Styler at 0x7a59fb561c30>"
            ],
            "text/html": [
              "<style type=\"text/css\">\n",
              "</style>\n",
              "<table id=\"T_7706d\" class=\"dataframe\">\n",
              "  <thead>\n",
              "    <tr>\n",
              "      <th class=\"blank level0\" >&nbsp;</th>\n",
              "      <th id=\"T_7706d_level0_col0\" class=\"col_heading level0 col0\" >CRIM</th>\n",
              "      <th id=\"T_7706d_level0_col1\" class=\"col_heading level0 col1\" >ZN</th>\n",
              "      <th id=\"T_7706d_level0_col2\" class=\"col_heading level0 col2\" >INDUS</th>\n",
              "      <th id=\"T_7706d_level0_col3\" class=\"col_heading level0 col3\" >CHAS</th>\n",
              "      <th id=\"T_7706d_level0_col4\" class=\"col_heading level0 col4\" >NOX</th>\n",
              "      <th id=\"T_7706d_level0_col5\" class=\"col_heading level0 col5\" >RM</th>\n",
              "      <th id=\"T_7706d_level0_col6\" class=\"col_heading level0 col6\" >AGE</th>\n",
              "      <th id=\"T_7706d_level0_col7\" class=\"col_heading level0 col7\" >DIS</th>\n",
              "      <th id=\"T_7706d_level0_col8\" class=\"col_heading level0 col8\" >RAD</th>\n",
              "      <th id=\"T_7706d_level0_col9\" class=\"col_heading level0 col9\" >TAX</th>\n",
              "      <th id=\"T_7706d_level0_col10\" class=\"col_heading level0 col10\" >PTRATIO</th>\n",
              "      <th id=\"T_7706d_level0_col11\" class=\"col_heading level0 col11\" >B</th>\n",
              "      <th id=\"T_7706d_level0_col12\" class=\"col_heading level0 col12\" >LSTAT</th>\n",
              "      <th id=\"T_7706d_level0_col13\" class=\"col_heading level0 col13\" >MEDV</th>\n",
              "    </tr>\n",
              "  </thead>\n",
              "  <tbody>\n",
              "    <tr>\n",
              "      <th id=\"T_7706d_level0_row0\" class=\"row_heading level0 row0\" >count</th>\n",
              "      <td id=\"T_7706d_row0_col0\" class=\"data row0 col0\" >102.00</td>\n",
              "      <td id=\"T_7706d_row0_col1\" class=\"data row0 col1\" >102.00</td>\n",
              "      <td id=\"T_7706d_row0_col2\" class=\"data row0 col2\" >102.00</td>\n",
              "      <td id=\"T_7706d_row0_col3\" class=\"data row0 col3\" >102.00</td>\n",
              "      <td id=\"T_7706d_row0_col4\" class=\"data row0 col4\" >102.00</td>\n",
              "      <td id=\"T_7706d_row0_col5\" class=\"data row0 col5\" >102.00</td>\n",
              "      <td id=\"T_7706d_row0_col6\" class=\"data row0 col6\" >102.00</td>\n",
              "      <td id=\"T_7706d_row0_col7\" class=\"data row0 col7\" >102.00</td>\n",
              "      <td id=\"T_7706d_row0_col8\" class=\"data row0 col8\" >102.00</td>\n",
              "      <td id=\"T_7706d_row0_col9\" class=\"data row0 col9\" >102.00</td>\n",
              "      <td id=\"T_7706d_row0_col10\" class=\"data row0 col10\" >102.00</td>\n",
              "      <td id=\"T_7706d_row0_col11\" class=\"data row0 col11\" >102.00</td>\n",
              "      <td id=\"T_7706d_row0_col12\" class=\"data row0 col12\" >102.00</td>\n",
              "      <td id=\"T_7706d_row0_col13\" class=\"data row0 col13\" >102.00</td>\n",
              "    </tr>\n",
              "    <tr>\n",
              "      <th id=\"T_7706d_level0_row1\" class=\"row_heading level0 row1\" >mean</th>\n",
              "      <td id=\"T_7706d_row1_col0\" class=\"data row1 col0\" >3.09</td>\n",
              "      <td id=\"T_7706d_row1_col1\" class=\"data row1 col1\" >10.90</td>\n",
              "      <td id=\"T_7706d_row1_col2\" class=\"data row1 col2\" >11.26</td>\n",
              "      <td id=\"T_7706d_row1_col3\" class=\"data row1 col3\" >0.10</td>\n",
              "      <td id=\"T_7706d_row1_col4\" class=\"data row1 col4\" >0.54</td>\n",
              "      <td id=\"T_7706d_row1_col5\" class=\"data row1 col5\" >6.35</td>\n",
              "      <td id=\"T_7706d_row1_col6\" class=\"data row1 col6\" >66.85</td>\n",
              "      <td id=\"T_7706d_row1_col7\" class=\"data row1 col7\" >4.01</td>\n",
              "      <td id=\"T_7706d_row1_col8\" class=\"data row1 col8\" >9.98</td>\n",
              "      <td id=\"T_7706d_row1_col9\" class=\"data row1 col9\" >417.50</td>\n",
              "      <td id=\"T_7706d_row1_col10\" class=\"data row1 col10\" >18.37</td>\n",
              "      <td id=\"T_7706d_row1_col11\" class=\"data row1 col11\" >364.16</td>\n",
              "      <td id=\"T_7706d_row1_col12\" class=\"data row1 col12\" >12.31</td>\n",
              "      <td id=\"T_7706d_row1_col13\" class=\"data row1 col13\" >23.08</td>\n",
              "    </tr>\n",
              "    <tr>\n",
              "      <th id=\"T_7706d_level0_row2\" class=\"row_heading level0 row2\" >std</th>\n",
              "      <td id=\"T_7706d_row2_col0\" class=\"data row2 col0\" >5.37</td>\n",
              "      <td id=\"T_7706d_row2_col1\" class=\"data row2 col1\" >21.57</td>\n",
              "      <td id=\"T_7706d_row2_col2\" class=\"data row2 col2\" >7.08</td>\n",
              "      <td id=\"T_7706d_row2_col3\" class=\"data row2 col3\" >0.30</td>\n",
              "      <td id=\"T_7706d_row2_col4\" class=\"data row2 col4\" >0.11</td>\n",
              "      <td id=\"T_7706d_row2_col5\" class=\"data row2 col5\" >0.67</td>\n",
              "      <td id=\"T_7706d_row2_col6\" class=\"data row2 col6\" >29.03</td>\n",
              "      <td id=\"T_7706d_row2_col7\" class=\"data row2 col7\" >2.38</td>\n",
              "      <td id=\"T_7706d_row2_col8\" class=\"data row2 col8\" >8.77</td>\n",
              "      <td id=\"T_7706d_row2_col9\" class=\"data row2 col9\" >177.39</td>\n",
              "      <td id=\"T_7706d_row2_col10\" class=\"data row2 col10\" >2.03</td>\n",
              "      <td id=\"T_7706d_row2_col11\" class=\"data row2 col11\" >79.14</td>\n",
              "      <td id=\"T_7706d_row2_col12\" class=\"data row2 col12\" >6.70</td>\n",
              "      <td id=\"T_7706d_row2_col13\" class=\"data row2 col13\" >9.17</td>\n",
              "    </tr>\n",
              "    <tr>\n",
              "      <th id=\"T_7706d_level0_row3\" class=\"row_heading level0 row3\" >min</th>\n",
              "      <td id=\"T_7706d_row3_col0\" class=\"data row3 col0\" >0.01</td>\n",
              "      <td id=\"T_7706d_row3_col1\" class=\"data row3 col1\" >0.00</td>\n",
              "      <td id=\"T_7706d_row3_col2\" class=\"data row3 col2\" >1.22</td>\n",
              "      <td id=\"T_7706d_row3_col3\" class=\"data row3 col3\" >0.00</td>\n",
              "      <td id=\"T_7706d_row3_col4\" class=\"data row3 col4\" >0.39</td>\n",
              "      <td id=\"T_7706d_row3_col5\" class=\"data row3 col5\" >4.88</td>\n",
              "      <td id=\"T_7706d_row3_col6\" class=\"data row3 col6\" >6.00</td>\n",
              "      <td id=\"T_7706d_row3_col7\" class=\"data row3 col7\" >1.47</td>\n",
              "      <td id=\"T_7706d_row3_col8\" class=\"data row3 col8\" >1.00</td>\n",
              "      <td id=\"T_7706d_row3_col9\" class=\"data row3 col9\" >187.00</td>\n",
              "      <td id=\"T_7706d_row3_col10\" class=\"data row3 col10\" >13.00</td>\n",
              "      <td id=\"T_7706d_row3_col11\" class=\"data row3 col11\" >24.65</td>\n",
              "      <td id=\"T_7706d_row3_col12\" class=\"data row3 col12\" >1.92</td>\n",
              "      <td id=\"T_7706d_row3_col13\" class=\"data row3 col13\" >5.60</td>\n",
              "    </tr>\n",
              "    <tr>\n",
              "      <th id=\"T_7706d_level0_row4\" class=\"row_heading level0 row4\" >25%</th>\n",
              "      <td id=\"T_7706d_row4_col0\" class=\"data row4 col0\" >0.08</td>\n",
              "      <td id=\"T_7706d_row4_col1\" class=\"data row4 col1\" >0.00</td>\n",
              "      <td id=\"T_7706d_row4_col2\" class=\"data row4 col2\" >5.46</td>\n",
              "      <td id=\"T_7706d_row4_col3\" class=\"data row4 col3\" >0.00</td>\n",
              "      <td id=\"T_7706d_row4_col4\" class=\"data row4 col4\" >0.45</td>\n",
              "      <td id=\"T_7706d_row4_col5\" class=\"data row4 col5\" >5.97</td>\n",
              "      <td id=\"T_7706d_row4_col6\" class=\"data row4 col6\" >42.45</td>\n",
              "      <td id=\"T_7706d_row4_col7\" class=\"data row4 col7\" >2.12</td>\n",
              "      <td id=\"T_7706d_row4_col8\" class=\"data row4 col8\" >4.00</td>\n",
              "      <td id=\"T_7706d_row4_col9\" class=\"data row4 col9\" >279.25</td>\n",
              "      <td id=\"T_7706d_row4_col10\" class=\"data row4 col10\" >17.40</td>\n",
              "      <td id=\"T_7706d_row4_col11\" class=\"data row4 col11\" >377.69</td>\n",
              "      <td id=\"T_7706d_row4_col12\" class=\"data row4 col12\" >7.30</td>\n",
              "      <td id=\"T_7706d_row4_col13\" class=\"data row4 col13\" >18.65</td>\n",
              "    </tr>\n",
              "    <tr>\n",
              "      <th id=\"T_7706d_level0_row5\" class=\"row_heading level0 row5\" >50%</th>\n",
              "      <td id=\"T_7706d_row5_col0\" class=\"data row5 col0\" >0.23</td>\n",
              "      <td id=\"T_7706d_row5_col1\" class=\"data row5 col1\" >0.00</td>\n",
              "      <td id=\"T_7706d_row5_col2\" class=\"data row5 col2\" >9.79</td>\n",
              "      <td id=\"T_7706d_row5_col3\" class=\"data row5 col3\" >0.00</td>\n",
              "      <td id=\"T_7706d_row5_col4\" class=\"data row5 col4\" >0.53</td>\n",
              "      <td id=\"T_7706d_row5_col5\" class=\"data row5 col5\" >6.23</td>\n",
              "      <td id=\"T_7706d_row5_col6\" class=\"data row5 col6\" >73.75</td>\n",
              "      <td id=\"T_7706d_row5_col7\" class=\"data row5 col7\" >3.32</td>\n",
              "      <td id=\"T_7706d_row5_col8\" class=\"data row5 col8\" >5.00</td>\n",
              "      <td id=\"T_7706d_row5_col9\" class=\"data row5 col9\" >330.00</td>\n",
              "      <td id=\"T_7706d_row5_col10\" class=\"data row5 col10\" >18.90</td>\n",
              "      <td id=\"T_7706d_row5_col11\" class=\"data row5 col11\" >392.11</td>\n",
              "      <td id=\"T_7706d_row5_col12\" class=\"data row5 col12\" >11.06</td>\n",
              "      <td id=\"T_7706d_row5_col13\" class=\"data row5 col13\" >21.95</td>\n",
              "    </tr>\n",
              "    <tr>\n",
              "      <th id=\"T_7706d_level0_row6\" class=\"row_heading level0 row6\" >75%</th>\n",
              "      <td id=\"T_7706d_row6_col0\" class=\"data row6 col0\" >3.78</td>\n",
              "      <td id=\"T_7706d_row6_col1\" class=\"data row6 col1\" >16.25</td>\n",
              "      <td id=\"T_7706d_row6_col2\" class=\"data row6 col2\" >18.10</td>\n",
              "      <td id=\"T_7706d_row6_col3\" class=\"data row6 col3\" >0.00</td>\n",
              "      <td id=\"T_7706d_row6_col4\" class=\"data row6 col4\" >0.61</td>\n",
              "      <td id=\"T_7706d_row6_col5\" class=\"data row6 col5\" >6.63</td>\n",
              "      <td id=\"T_7706d_row6_col6\" class=\"data row6 col6\" >92.97</td>\n",
              "      <td id=\"T_7706d_row6_col7\" class=\"data row6 col7\" >5.28</td>\n",
              "      <td id=\"T_7706d_row6_col8\" class=\"data row6 col8\" >24.00</td>\n",
              "      <td id=\"T_7706d_row6_col9\" class=\"data row6 col9\" >666.00</td>\n",
              "      <td id=\"T_7706d_row6_col10\" class=\"data row6 col10\" >20.20</td>\n",
              "      <td id=\"T_7706d_row6_col11\" class=\"data row6 col11\" >396.78</td>\n",
              "      <td id=\"T_7706d_row6_col12\" class=\"data row6 col12\" >15.91</td>\n",
              "      <td id=\"T_7706d_row6_col13\" class=\"data row6 col13\" >27.08</td>\n",
              "    </tr>\n",
              "    <tr>\n",
              "      <th id=\"T_7706d_level0_row7\" class=\"row_heading level0 row7\" >max</th>\n",
              "      <td id=\"T_7706d_row7_col0\" class=\"data row7 col0\" >25.05</td>\n",
              "      <td id=\"T_7706d_row7_col1\" class=\"data row7 col1\" >90.00</td>\n",
              "      <td id=\"T_7706d_row7_col2\" class=\"data row7 col2\" >27.74</td>\n",
              "      <td id=\"T_7706d_row7_col3\" class=\"data row7 col3\" >1.00</td>\n",
              "      <td id=\"T_7706d_row7_col4\" class=\"data row7 col4\" >0.87</td>\n",
              "      <td id=\"T_7706d_row7_col5\" class=\"data row7 col5\" >8.78</td>\n",
              "      <td id=\"T_7706d_row7_col6\" class=\"data row7 col6\" >100.00</td>\n",
              "      <td id=\"T_7706d_row7_col7\" class=\"data row7 col7\" >12.13</td>\n",
              "      <td id=\"T_7706d_row7_col8\" class=\"data row7 col8\" >24.00</td>\n",
              "      <td id=\"T_7706d_row7_col9\" class=\"data row7 col9\" >711.00</td>\n",
              "      <td id=\"T_7706d_row7_col10\" class=\"data row7 col10\" >21.20</td>\n",
              "      <td id=\"T_7706d_row7_col11\" class=\"data row7 col11\" >396.90</td>\n",
              "      <td id=\"T_7706d_row7_col12\" class=\"data row7 col12\" >31.99</td>\n",
              "      <td id=\"T_7706d_row7_col13\" class=\"data row7 col13\" >50.00</td>\n",
              "    </tr>\n",
              "  </tbody>\n",
              "</table>\n"
            ]
          },
          "metadata": {}
        }
      ]
    },
    {
      "cell_type": "markdown",
      "source": [
        "Normalize each feature separately\n"
      ],
      "metadata": {
        "id": "bLJsvf2iyG4j"
      }
    },
    {
      "cell_type": "code",
      "source": [
        "# Compute means and SDs from *the train set*\n",
        "# 'axis' = Axis or axes along which the means are computed. The default is to compute the mean of the flattened array.\n",
        "mean = x_train.mean(axis=0)   # https://numpy.org/doc/stable/reference/generated/numpy.mean.html\n",
        "sd = x_train.std(axis=0)      # https://numpy.org/doc/stable/reference/generated/numpy.std.html\n",
        "print(f\"{mean.shape=} , {sd.shape=}\\n\")\n",
        "\n",
        "# Normalize 13 features\n",
        "x_train_norm = ( x_train - mean ) / sd\n",
        "x_test_norm = ( x_test - mean ) / sd\n",
        "\n",
        "# Inspect\n",
        "print('===== PREVIEW: TRAIN SET AFTER NORM =====')\n",
        "display( boston_dataframe(x_train_norm, y_train).describe().style.format(precision=2) )\n",
        "print('\\n===== PREVIEW: TEST SET AFTER NORM =====')\n",
        "display( boston_dataframe(x_test_norm, y_test).describe().style.format(precision=2) )"
      ],
      "metadata": {
        "id": "gHfXUSZRxu0f",
        "colab": {
          "base_uri": "https://localhost:8080/"
        },
        "outputId": "75d7bae3-aa16-48d5-8a64-d2e418310e25"
      },
      "execution_count": null,
      "outputs": [
        {
          "output_type": "stream",
          "name": "stdout",
          "text": [
            "mean.shape=(13,) , sd.shape=(13,)\n",
            "\n",
            "===== PREVIEW: TRAIN SET AFTER NORM =====\n"
          ]
        },
        {
          "output_type": "display_data",
          "data": {
            "text/plain": [
              "<pandas.io.formats.style.Styler at 0x7a59f0f00160>"
            ],
            "text/html": [
              "<style type=\"text/css\">\n",
              "</style>\n",
              "<table id=\"T_2aefe\" class=\"dataframe\">\n",
              "  <thead>\n",
              "    <tr>\n",
              "      <th class=\"blank level0\" >&nbsp;</th>\n",
              "      <th id=\"T_2aefe_level0_col0\" class=\"col_heading level0 col0\" >CRIM</th>\n",
              "      <th id=\"T_2aefe_level0_col1\" class=\"col_heading level0 col1\" >ZN</th>\n",
              "      <th id=\"T_2aefe_level0_col2\" class=\"col_heading level0 col2\" >INDUS</th>\n",
              "      <th id=\"T_2aefe_level0_col3\" class=\"col_heading level0 col3\" >CHAS</th>\n",
              "      <th id=\"T_2aefe_level0_col4\" class=\"col_heading level0 col4\" >NOX</th>\n",
              "      <th id=\"T_2aefe_level0_col5\" class=\"col_heading level0 col5\" >RM</th>\n",
              "      <th id=\"T_2aefe_level0_col6\" class=\"col_heading level0 col6\" >AGE</th>\n",
              "      <th id=\"T_2aefe_level0_col7\" class=\"col_heading level0 col7\" >DIS</th>\n",
              "      <th id=\"T_2aefe_level0_col8\" class=\"col_heading level0 col8\" >RAD</th>\n",
              "      <th id=\"T_2aefe_level0_col9\" class=\"col_heading level0 col9\" >TAX</th>\n",
              "      <th id=\"T_2aefe_level0_col10\" class=\"col_heading level0 col10\" >PTRATIO</th>\n",
              "      <th id=\"T_2aefe_level0_col11\" class=\"col_heading level0 col11\" >B</th>\n",
              "      <th id=\"T_2aefe_level0_col12\" class=\"col_heading level0 col12\" >LSTAT</th>\n",
              "      <th id=\"T_2aefe_level0_col13\" class=\"col_heading level0 col13\" >MEDV</th>\n",
              "    </tr>\n",
              "  </thead>\n",
              "  <tbody>\n",
              "    <tr>\n",
              "      <th id=\"T_2aefe_level0_row0\" class=\"row_heading level0 row0\" >count</th>\n",
              "      <td id=\"T_2aefe_row0_col0\" class=\"data row0 col0\" >404.00</td>\n",
              "      <td id=\"T_2aefe_row0_col1\" class=\"data row0 col1\" >404.00</td>\n",
              "      <td id=\"T_2aefe_row0_col2\" class=\"data row0 col2\" >404.00</td>\n",
              "      <td id=\"T_2aefe_row0_col3\" class=\"data row0 col3\" >404.00</td>\n",
              "      <td id=\"T_2aefe_row0_col4\" class=\"data row0 col4\" >404.00</td>\n",
              "      <td id=\"T_2aefe_row0_col5\" class=\"data row0 col5\" >404.00</td>\n",
              "      <td id=\"T_2aefe_row0_col6\" class=\"data row0 col6\" >404.00</td>\n",
              "      <td id=\"T_2aefe_row0_col7\" class=\"data row0 col7\" >404.00</td>\n",
              "      <td id=\"T_2aefe_row0_col8\" class=\"data row0 col8\" >404.00</td>\n",
              "      <td id=\"T_2aefe_row0_col9\" class=\"data row0 col9\" >404.00</td>\n",
              "      <td id=\"T_2aefe_row0_col10\" class=\"data row0 col10\" >404.00</td>\n",
              "      <td id=\"T_2aefe_row0_col11\" class=\"data row0 col11\" >404.00</td>\n",
              "      <td id=\"T_2aefe_row0_col12\" class=\"data row0 col12\" >404.00</td>\n",
              "      <td id=\"T_2aefe_row0_col13\" class=\"data row0 col13\" >404.00</td>\n",
              "    </tr>\n",
              "    <tr>\n",
              "      <th id=\"T_2aefe_level0_row1\" class=\"row_heading level0 row1\" >mean</th>\n",
              "      <td id=\"T_2aefe_row1_col0\" class=\"data row1 col0\" >-0.00</td>\n",
              "      <td id=\"T_2aefe_row1_col1\" class=\"data row1 col1\" >-0.00</td>\n",
              "      <td id=\"T_2aefe_row1_col2\" class=\"data row1 col2\" >0.00</td>\n",
              "      <td id=\"T_2aefe_row1_col3\" class=\"data row1 col3\" >-0.00</td>\n",
              "      <td id=\"T_2aefe_row1_col4\" class=\"data row1 col4\" >-0.00</td>\n",
              "      <td id=\"T_2aefe_row1_col5\" class=\"data row1 col5\" >0.00</td>\n",
              "      <td id=\"T_2aefe_row1_col6\" class=\"data row1 col6\" >0.00</td>\n",
              "      <td id=\"T_2aefe_row1_col7\" class=\"data row1 col7\" >0.00</td>\n",
              "      <td id=\"T_2aefe_row1_col8\" class=\"data row1 col8\" >0.00</td>\n",
              "      <td id=\"T_2aefe_row1_col9\" class=\"data row1 col9\" >-0.00</td>\n",
              "      <td id=\"T_2aefe_row1_col10\" class=\"data row1 col10\" >0.00</td>\n",
              "      <td id=\"T_2aefe_row1_col11\" class=\"data row1 col11\" >0.00</td>\n",
              "      <td id=\"T_2aefe_row1_col12\" class=\"data row1 col12\" >0.00</td>\n",
              "      <td id=\"T_2aefe_row1_col13\" class=\"data row1 col13\" >22.40</td>\n",
              "    </tr>\n",
              "    <tr>\n",
              "      <th id=\"T_2aefe_level0_row2\" class=\"row_heading level0 row2\" >std</th>\n",
              "      <td id=\"T_2aefe_row2_col0\" class=\"data row2 col0\" >1.00</td>\n",
              "      <td id=\"T_2aefe_row2_col1\" class=\"data row2 col1\" >1.00</td>\n",
              "      <td id=\"T_2aefe_row2_col2\" class=\"data row2 col2\" >1.00</td>\n",
              "      <td id=\"T_2aefe_row2_col3\" class=\"data row2 col3\" >1.00</td>\n",
              "      <td id=\"T_2aefe_row2_col4\" class=\"data row2 col4\" >1.00</td>\n",
              "      <td id=\"T_2aefe_row2_col5\" class=\"data row2 col5\" >1.00</td>\n",
              "      <td id=\"T_2aefe_row2_col6\" class=\"data row2 col6\" >1.00</td>\n",
              "      <td id=\"T_2aefe_row2_col7\" class=\"data row2 col7\" >1.00</td>\n",
              "      <td id=\"T_2aefe_row2_col8\" class=\"data row2 col8\" >1.00</td>\n",
              "      <td id=\"T_2aefe_row2_col9\" class=\"data row2 col9\" >1.00</td>\n",
              "      <td id=\"T_2aefe_row2_col10\" class=\"data row2 col10\" >1.00</td>\n",
              "      <td id=\"T_2aefe_row2_col11\" class=\"data row2 col11\" >1.00</td>\n",
              "      <td id=\"T_2aefe_row2_col12\" class=\"data row2 col12\" >1.00</td>\n",
              "      <td id=\"T_2aefe_row2_col13\" class=\"data row2 col13\" >9.21</td>\n",
              "    </tr>\n",
              "    <tr>\n",
              "      <th id=\"T_2aefe_level0_row3\" class=\"row_heading level0 row3\" >min</th>\n",
              "      <td id=\"T_2aefe_row3_col0\" class=\"data row3 col0\" >-0.41</td>\n",
              "      <td id=\"T_2aefe_row3_col1\" class=\"data row3 col1\" >-0.48</td>\n",
              "      <td id=\"T_2aefe_row3_col2\" class=\"data row3 col2\" >-1.56</td>\n",
              "      <td id=\"T_2aefe_row3_col3\" class=\"data row3 col3\" >-0.26</td>\n",
              "      <td id=\"T_2aefe_row3_col4\" class=\"data row3 col4\" >-1.47</td>\n",
              "      <td id=\"T_2aefe_row3_col5\" class=\"data row3 col5\" >-3.82</td>\n",
              "      <td id=\"T_2aefe_row3_col6\" class=\"data row3 col6\" >-2.37</td>\n",
              "      <td id=\"T_2aefe_row3_col7\" class=\"data row3 col7\" >-1.29</td>\n",
              "      <td id=\"T_2aefe_row3_col8\" class=\"data row3 col8\" >-0.97</td>\n",
              "      <td id=\"T_2aefe_row3_col9\" class=\"data row3 col9\" >-1.31</td>\n",
              "      <td id=\"T_2aefe_row3_col10\" class=\"data row3 col10\" >-2.67</td>\n",
              "      <td id=\"T_2aefe_row3_col11\" class=\"data row3 col11\" >-3.77</td>\n",
              "      <td id=\"T_2aefe_row3_col12\" class=\"data row3 col12\" >-1.52</td>\n",
              "      <td id=\"T_2aefe_row3_col13\" class=\"data row3 col13\" >5.00</td>\n",
              "    </tr>\n",
              "    <tr>\n",
              "      <th id=\"T_2aefe_level0_row4\" class=\"row_heading level0 row4\" >25%</th>\n",
              "      <td id=\"T_2aefe_row4_col0\" class=\"data row4 col0\" >-0.40</td>\n",
              "      <td id=\"T_2aefe_row4_col1\" class=\"data row4 col1\" >-0.48</td>\n",
              "      <td id=\"T_2aefe_row4_col2\" class=\"data row4 col2\" >-0.88</td>\n",
              "      <td id=\"T_2aefe_row4_col3\" class=\"data row4 col3\" >-0.26</td>\n",
              "      <td id=\"T_2aefe_row4_col4\" class=\"data row4 col4\" >-0.89</td>\n",
              "      <td id=\"T_2aefe_row4_col5\" class=\"data row4 col5\" >-0.55</td>\n",
              "      <td id=\"T_2aefe_row4_col6\" class=\"data row4 col6\" >-0.84</td>\n",
              "      <td id=\"T_2aefe_row4_col7\" class=\"data row4 col7\" >-0.82</td>\n",
              "      <td id=\"T_2aefe_row4_col8\" class=\"data row4 col8\" >-0.63</td>\n",
              "      <td id=\"T_2aefe_row4_col9\" class=\"data row4 col9\" >-0.76</td>\n",
              "      <td id=\"T_2aefe_row4_col10\" class=\"data row4 col10\" >-0.57</td>\n",
              "      <td id=\"T_2aefe_row4_col11\" class=\"data row4 col11\" >0.21</td>\n",
              "      <td id=\"T_2aefe_row4_col12\" class=\"data row4 col12\" >-0.81</td>\n",
              "      <td id=\"T_2aefe_row4_col13\" class=\"data row4 col13\" >16.68</td>\n",
              "    </tr>\n",
              "    <tr>\n",
              "      <th id=\"T_2aefe_level0_row5\" class=\"row_heading level0 row5\" >50%</th>\n",
              "      <td id=\"T_2aefe_row5_col0\" class=\"data row5 col0\" >-0.38</td>\n",
              "      <td id=\"T_2aefe_row5_col1\" class=\"data row5 col1\" >-0.48</td>\n",
              "      <td id=\"T_2aefe_row5_col2\" class=\"data row5 col2\" >-0.21</td>\n",
              "      <td id=\"T_2aefe_row5_col3\" class=\"data row5 col3\" >-0.26</td>\n",
              "      <td id=\"T_2aefe_row5_col4\" class=\"data row5 col4\" >-0.17</td>\n",
              "      <td id=\"T_2aefe_row5_col5\" class=\"data row5 col5\" >-0.10</td>\n",
              "      <td id=\"T_2aefe_row5_col6\" class=\"data row5 col6\" >0.34</td>\n",
              "      <td id=\"T_2aefe_row5_col7\" class=\"data row5 col7\" >-0.29</td>\n",
              "      <td id=\"T_2aefe_row5_col8\" class=\"data row5 col8\" >-0.51</td>\n",
              "      <td id=\"T_2aefe_row5_col9\" class=\"data row5 col9\" >-0.46</td>\n",
              "      <td id=\"T_2aefe_row5_col10\" class=\"data row5 col10\" >0.28</td>\n",
              "      <td id=\"T_2aefe_row5_col11\" class=\"data row5 col11\" >0.39</td>\n",
              "      <td id=\"T_2aefe_row5_col12\" class=\"data row5 col12\" >-0.19</td>\n",
              "      <td id=\"T_2aefe_row5_col13\" class=\"data row5 col13\" >20.75</td>\n",
              "    </tr>\n",
              "    <tr>\n",
              "      <th id=\"T_2aefe_level0_row6\" class=\"row_heading level0 row6\" >75%</th>\n",
              "      <td id=\"T_2aefe_row6_col0\" class=\"data row6 col0\" >-0.01</td>\n",
              "      <td id=\"T_2aefe_row6_col1\" class=\"data row6 col1\" >0.04</td>\n",
              "      <td id=\"T_2aefe_row6_col2\" class=\"data row6 col2\" >1.03</td>\n",
              "      <td id=\"T_2aefe_row6_col3\" class=\"data row6 col3\" >-0.26</td>\n",
              "      <td id=\"T_2aefe_row6_col4\" class=\"data row6 col4\" >0.63</td>\n",
              "      <td id=\"T_2aefe_row6_col5\" class=\"data row6 col5\" >0.48</td>\n",
              "      <td id=\"T_2aefe_row6_col6\" class=\"data row6 col6\" >0.90</td>\n",
              "      <td id=\"T_2aefe_row6_col7\" class=\"data row6 col7\" >0.68</td>\n",
              "      <td id=\"T_2aefe_row6_col8\" class=\"data row6 col8\" >1.68</td>\n",
              "      <td id=\"T_2aefe_row6_col9\" class=\"data row6 col9\" >1.57</td>\n",
              "      <td id=\"T_2aefe_row6_col10\" class=\"data row6 col10\" >0.78</td>\n",
              "      <td id=\"T_2aefe_row6_col11\" class=\"data row6 col11\" >0.44</td>\n",
              "      <td id=\"T_2aefe_row6_col12\" class=\"data row6 col12\" >0.60</td>\n",
              "      <td id=\"T_2aefe_row6_col13\" class=\"data row6 col13\" >24.80</td>\n",
              "    </tr>\n",
              "    <tr>\n",
              "      <th id=\"T_2aefe_level0_row7\" class=\"row_heading level0 row7\" >max</th>\n",
              "      <td id=\"T_2aefe_row7_col0\" class=\"data row7 col0\" >9.23</td>\n",
              "      <td id=\"T_2aefe_row7_col1\" class=\"data row7 col1\" >3.73</td>\n",
              "      <td id=\"T_2aefe_row7_col2\" class=\"data row7 col2\" >2.45</td>\n",
              "      <td id=\"T_2aefe_row7_col3\" class=\"data row7 col3\" >3.89</td>\n",
              "      <td id=\"T_2aefe_row7_col4\" class=\"data row7 col4\" >2.68</td>\n",
              "      <td id=\"T_2aefe_row7_col5\" class=\"data row7 col5\" >3.47</td>\n",
              "      <td id=\"T_2aefe_row7_col6\" class=\"data row7 col6\" >1.11</td>\n",
              "      <td id=\"T_2aefe_row7_col7\" class=\"data row7 col7\" >3.44</td>\n",
              "      <td id=\"T_2aefe_row7_col8\" class=\"data row7 col8\" >1.68</td>\n",
              "      <td id=\"T_2aefe_row7_col9\" class=\"data row7 col9\" >1.84</td>\n",
              "      <td id=\"T_2aefe_row7_col10\" class=\"data row7 col10\" >1.60</td>\n",
              "      <td id=\"T_2aefe_row7_col11\" class=\"data row7 col11\" >0.45</td>\n",
              "      <td id=\"T_2aefe_row7_col12\" class=\"data row7 col12\" >3.48</td>\n",
              "      <td id=\"T_2aefe_row7_col13\" class=\"data row7 col13\" >50.00</td>\n",
              "    </tr>\n",
              "  </tbody>\n",
              "</table>\n"
            ]
          },
          "metadata": {}
        },
        {
          "output_type": "stream",
          "name": "stdout",
          "text": [
            "\n",
            "===== PREVIEW: TEST SET AFTER NORM =====\n"
          ]
        },
        {
          "output_type": "display_data",
          "data": {
            "text/plain": [
              "<pandas.io.formats.style.Styler at 0x7a5a9db49c90>"
            ],
            "text/html": [
              "<style type=\"text/css\">\n",
              "</style>\n",
              "<table id=\"T_142e6\" class=\"dataframe\">\n",
              "  <thead>\n",
              "    <tr>\n",
              "      <th class=\"blank level0\" >&nbsp;</th>\n",
              "      <th id=\"T_142e6_level0_col0\" class=\"col_heading level0 col0\" >CRIM</th>\n",
              "      <th id=\"T_142e6_level0_col1\" class=\"col_heading level0 col1\" >ZN</th>\n",
              "      <th id=\"T_142e6_level0_col2\" class=\"col_heading level0 col2\" >INDUS</th>\n",
              "      <th id=\"T_142e6_level0_col3\" class=\"col_heading level0 col3\" >CHAS</th>\n",
              "      <th id=\"T_142e6_level0_col4\" class=\"col_heading level0 col4\" >NOX</th>\n",
              "      <th id=\"T_142e6_level0_col5\" class=\"col_heading level0 col5\" >RM</th>\n",
              "      <th id=\"T_142e6_level0_col6\" class=\"col_heading level0 col6\" >AGE</th>\n",
              "      <th id=\"T_142e6_level0_col7\" class=\"col_heading level0 col7\" >DIS</th>\n",
              "      <th id=\"T_142e6_level0_col8\" class=\"col_heading level0 col8\" >RAD</th>\n",
              "      <th id=\"T_142e6_level0_col9\" class=\"col_heading level0 col9\" >TAX</th>\n",
              "      <th id=\"T_142e6_level0_col10\" class=\"col_heading level0 col10\" >PTRATIO</th>\n",
              "      <th id=\"T_142e6_level0_col11\" class=\"col_heading level0 col11\" >B</th>\n",
              "      <th id=\"T_142e6_level0_col12\" class=\"col_heading level0 col12\" >LSTAT</th>\n",
              "      <th id=\"T_142e6_level0_col13\" class=\"col_heading level0 col13\" >MEDV</th>\n",
              "    </tr>\n",
              "  </thead>\n",
              "  <tbody>\n",
              "    <tr>\n",
              "      <th id=\"T_142e6_level0_row0\" class=\"row_heading level0 row0\" >count</th>\n",
              "      <td id=\"T_142e6_row0_col0\" class=\"data row0 col0\" >102.00</td>\n",
              "      <td id=\"T_142e6_row0_col1\" class=\"data row0 col1\" >102.00</td>\n",
              "      <td id=\"T_142e6_row0_col2\" class=\"data row0 col2\" >102.00</td>\n",
              "      <td id=\"T_142e6_row0_col3\" class=\"data row0 col3\" >102.00</td>\n",
              "      <td id=\"T_142e6_row0_col4\" class=\"data row0 col4\" >102.00</td>\n",
              "      <td id=\"T_142e6_row0_col5\" class=\"data row0 col5\" >102.00</td>\n",
              "      <td id=\"T_142e6_row0_col6\" class=\"data row0 col6\" >102.00</td>\n",
              "      <td id=\"T_142e6_row0_col7\" class=\"data row0 col7\" >102.00</td>\n",
              "      <td id=\"T_142e6_row0_col8\" class=\"data row0 col8\" >102.00</td>\n",
              "      <td id=\"T_142e6_row0_col9\" class=\"data row0 col9\" >102.00</td>\n",
              "      <td id=\"T_142e6_row0_col10\" class=\"data row0 col10\" >102.00</td>\n",
              "      <td id=\"T_142e6_row0_col11\" class=\"data row0 col11\" >102.00</td>\n",
              "      <td id=\"T_142e6_row0_col12\" class=\"data row0 col12\" >102.00</td>\n",
              "      <td id=\"T_142e6_row0_col13\" class=\"data row0 col13\" >102.00</td>\n",
              "    </tr>\n",
              "    <tr>\n",
              "      <th id=\"T_142e6_level0_row1\" class=\"row_heading level0 row1\" >mean</th>\n",
              "      <td id=\"T_142e6_row1_col0\" class=\"data row1 col0\" >-0.07</td>\n",
              "      <td id=\"T_142e6_row1_col1\" class=\"data row1 col1\" >-0.02</td>\n",
              "      <td id=\"T_142e6_row1_col2\" class=\"data row1 col2\" >0.02</td>\n",
              "      <td id=\"T_142e6_row1_col3\" class=\"data row1 col3\" >0.15</td>\n",
              "      <td id=\"T_142e6_row1_col4\" class=\"data row1 col4\" >-0.11</td>\n",
              "      <td id=\"T_142e6_row1_col5\" class=\"data row1 col5\" >0.12</td>\n",
              "      <td id=\"T_142e6_row1_col6\" class=\"data row1 col6\" >-0.08</td>\n",
              "      <td id=\"T_142e6_row1_col7\" class=\"data row1 col7\" >0.13</td>\n",
              "      <td id=\"T_142e6_row1_col8\" class=\"data row1 col8\" >0.06</td>\n",
              "      <td id=\"T_142e6_row1_col9\" class=\"data row1 col9\" >0.07</td>\n",
              "      <td id=\"T_142e6_row1_col10\" class=\"data row1 col10\" >-0.05</td>\n",
              "      <td id=\"T_142e6_row1_col11\" class=\"data row1 col11\" >0.10</td>\n",
              "      <td id=\"T_142e6_row1_col12\" class=\"data row1 col12\" >-0.06</td>\n",
              "      <td id=\"T_142e6_row1_col13\" class=\"data row1 col13\" >23.08</td>\n",
              "    </tr>\n",
              "    <tr>\n",
              "      <th id=\"T_142e6_level0_row2\" class=\"row_heading level0 row2\" >std</th>\n",
              "      <td id=\"T_142e6_row2_col0\" class=\"data row2 col0\" >0.58</td>\n",
              "      <td id=\"T_142e6_row2_col1\" class=\"data row2 col1\" >0.91</td>\n",
              "      <td id=\"T_142e6_row2_col2\" class=\"data row2 col2\" >1.04</td>\n",
              "      <td id=\"T_142e6_row2_col3\" class=\"data row2 col3\" >1.24</td>\n",
              "      <td id=\"T_142e6_row2_col4\" class=\"data row2 col4\" >0.94</td>\n",
              "      <td id=\"T_142e6_row2_col5\" class=\"data row2 col5\" >0.95</td>\n",
              "      <td id=\"T_142e6_row2_col6\" class=\"data row2 col6\" >1.04</td>\n",
              "      <td id=\"T_142e6_row2_col7\" class=\"data row2 col7\" >1.17</td>\n",
              "      <td id=\"T_142e6_row2_col8\" class=\"data row2 col8\" >1.01</td>\n",
              "      <td id=\"T_142e6_row2_col9\" class=\"data row2 col9\" >1.07</td>\n",
              "      <td id=\"T_142e6_row2_col10\" class=\"data row2 col10\" >0.92</td>\n",
              "      <td id=\"T_142e6_row2_col11\" class=\"data row2 col11\" >0.84</td>\n",
              "      <td id=\"T_142e6_row2_col12\" class=\"data row2 col12\" >0.92</td>\n",
              "      <td id=\"T_142e6_row2_col13\" class=\"data row2 col13\" >9.17</td>\n",
              "    </tr>\n",
              "    <tr>\n",
              "      <th id=\"T_142e6_level0_row3\" class=\"row_heading level0 row3\" >min</th>\n",
              "      <td id=\"T_142e6_row3_col0\" class=\"data row3 col0\" >-0.40</td>\n",
              "      <td id=\"T_142e6_row3_col1\" class=\"data row3 col1\" >-0.48</td>\n",
              "      <td id=\"T_142e6_row3_col2\" class=\"data row3 col2\" >-1.45</td>\n",
              "      <td id=\"T_142e6_row3_col3\" class=\"data row3 col3\" >-0.26</td>\n",
              "      <td id=\"T_142e6_row3_col4\" class=\"data row3 col4\" >-1.41</td>\n",
              "      <td id=\"T_142e6_row3_col5\" class=\"data row3 col5\" >-1.96</td>\n",
              "      <td id=\"T_142e6_row3_col6\" class=\"data row3 col6\" >-2.26</td>\n",
              "      <td id=\"T_142e6_row3_col7\" class=\"data row3 col7\" >-1.12</td>\n",
              "      <td id=\"T_142e6_row3_col8\" class=\"data row3 col8\" >-0.97</td>\n",
              "      <td id=\"T_142e6_row3_col9\" class=\"data row3 col9\" >-1.32</td>\n",
              "      <td id=\"T_142e6_row3_col10\" class=\"data row3 col10\" >-2.49</td>\n",
              "      <td id=\"T_142e6_row3_col11\" class=\"data row3 col11\" >-3.51</td>\n",
              "      <td id=\"T_142e6_row3_col12\" class=\"data row3 col12\" >-1.49</td>\n",
              "      <td id=\"T_142e6_row3_col13\" class=\"data row3 col13\" >5.60</td>\n",
              "    </tr>\n",
              "    <tr>\n",
              "      <th id=\"T_142e6_level0_row4\" class=\"row_heading level0 row4\" >25%</th>\n",
              "      <td id=\"T_142e6_row4_col0\" class=\"data row4 col0\" >-0.40</td>\n",
              "      <td id=\"T_142e6_row4_col1\" class=\"data row4 col1\" >-0.48</td>\n",
              "      <td id=\"T_142e6_row4_col2\" class=\"data row4 col2\" >-0.83</td>\n",
              "      <td id=\"T_142e6_row4_col3\" class=\"data row4 col3\" >-0.26</td>\n",
              "      <td id=\"T_142e6_row4_col4\" class=\"data row4 col4\" >-0.95</td>\n",
              "      <td id=\"T_142e6_row4_col5\" class=\"data row4 col5\" >-0.42</td>\n",
              "      <td id=\"T_142e6_row4_col6\" class=\"data row4 col6\" >-0.95</td>\n",
              "      <td id=\"T_142e6_row4_col7\" class=\"data row4 col7\" >-0.80</td>\n",
              "      <td id=\"T_142e6_row4_col8\" class=\"data row4 col8\" >-0.63</td>\n",
              "      <td id=\"T_142e6_row4_col9\" class=\"data row4 col9\" >-0.76</td>\n",
              "      <td id=\"T_142e6_row4_col10\" class=\"data row4 col10\" >-0.49</td>\n",
              "      <td id=\"T_142e6_row4_col11\" class=\"data row4 col11\" >0.24</td>\n",
              "      <td id=\"T_142e6_row4_col12\" class=\"data row4 col12\" >-0.75</td>\n",
              "      <td id=\"T_142e6_row4_col13\" class=\"data row4 col13\" >18.65</td>\n",
              "    </tr>\n",
              "    <tr>\n",
              "      <th id=\"T_142e6_level0_row5\" class=\"row_heading level0 row5\" >50%</th>\n",
              "      <td id=\"T_142e6_row5_col0\" class=\"data row5 col0\" >-0.38</td>\n",
              "      <td id=\"T_142e6_row5_col1\" class=\"data row5 col1\" >-0.48</td>\n",
              "      <td id=\"T_142e6_row5_col2\" class=\"data row5 col2\" >-0.19</td>\n",
              "      <td id=\"T_142e6_row5_col3\" class=\"data row5 col3\" >-0.26</td>\n",
              "      <td id=\"T_142e6_row5_col4\" class=\"data row5 col4\" >-0.22</td>\n",
              "      <td id=\"T_142e6_row5_col5\" class=\"data row5 col5\" >-0.05</td>\n",
              "      <td id=\"T_142e6_row5_col6\" class=\"data row5 col6\" >0.17</td>\n",
              "      <td id=\"T_142e6_row5_col7\" class=\"data row5 col7\" >-0.20</td>\n",
              "      <td id=\"T_142e6_row5_col8\" class=\"data row5 col8\" >-0.51</td>\n",
              "      <td id=\"T_142e6_row5_col9\" class=\"data row5 col9\" >-0.46</td>\n",
              "      <td id=\"T_142e6_row5_col10\" class=\"data row5 col10\" >0.19</td>\n",
              "      <td id=\"T_142e6_row5_col11\" class=\"data row5 col11\" >0.40</td>\n",
              "      <td id=\"T_142e6_row5_col12\" class=\"data row5 col12\" >-0.23</td>\n",
              "      <td id=\"T_142e6_row5_col13\" class=\"data row5 col13\" >21.95</td>\n",
              "    </tr>\n",
              "    <tr>\n",
              "      <th id=\"T_142e6_level0_row6\" class=\"row_heading level0 row6\" >75%</th>\n",
              "      <td id=\"T_142e6_row6_col0\" class=\"data row6 col0\" >0.00</td>\n",
              "      <td id=\"T_142e6_row6_col1\" class=\"data row6 col1\" >0.20</td>\n",
              "      <td id=\"T_142e6_row6_col2\" class=\"data row6 col2\" >1.03</td>\n",
              "      <td id=\"T_142e6_row6_col3\" class=\"data row6 col3\" >-0.26</td>\n",
              "      <td id=\"T_142e6_row6_col4\" class=\"data row6 col4\" >0.44</td>\n",
              "      <td id=\"T_142e6_row6_col5\" class=\"data row6 col5\" >0.52</td>\n",
              "      <td id=\"T_142e6_row6_col6\" class=\"data row6 col6\" >0.86</td>\n",
              "      <td id=\"T_142e6_row6_col7\" class=\"data row6 col7\" >0.76</td>\n",
              "      <td id=\"T_142e6_row6_col8\" class=\"data row6 col8\" >1.68</td>\n",
              "      <td id=\"T_142e6_row6_col9\" class=\"data row6 col9\" >1.57</td>\n",
              "      <td id=\"T_142e6_row6_col10\" class=\"data row6 col10\" >0.78</td>\n",
              "      <td id=\"T_142e6_row6_col11\" class=\"data row6 col11\" >0.45</td>\n",
              "      <td id=\"T_142e6_row6_col12\" class=\"data row6 col12\" >0.44</td>\n",
              "      <td id=\"T_142e6_row6_col13\" class=\"data row6 col13\" >27.08</td>\n",
              "    </tr>\n",
              "    <tr>\n",
              "      <th id=\"T_142e6_level0_row7\" class=\"row_heading level0 row7\" >max</th>\n",
              "      <td id=\"T_142e6_row7_col0\" class=\"data row7 col0\" >2.31</td>\n",
              "      <td id=\"T_142e6_row7_col1\" class=\"data row7 col1\" >3.31</td>\n",
              "      <td id=\"T_142e6_row7_col2\" class=\"data row7 col2\" >2.45</td>\n",
              "      <td id=\"T_142e6_row7_col3\" class=\"data row7 col3\" >3.89</td>\n",
              "      <td id=\"T_142e6_row7_col4\" class=\"data row7 col4\" >2.68</td>\n",
              "      <td id=\"T_142e6_row7_col5\" class=\"data row7 col5\" >3.54</td>\n",
              "      <td id=\"T_142e6_row7_col6\" class=\"data row7 col6\" >1.11</td>\n",
              "      <td id=\"T_142e6_row7_col7\" class=\"data row7 col7\" >4.14</td>\n",
              "      <td id=\"T_142e6_row7_col8\" class=\"data row7 col8\" >1.68</td>\n",
              "      <td id=\"T_142e6_row7_col9\" class=\"data row7 col9\" >1.84</td>\n",
              "      <td id=\"T_142e6_row7_col10\" class=\"data row7 col10\" >1.24</td>\n",
              "      <td id=\"T_142e6_row7_col11\" class=\"data row7 col11\" >0.45</td>\n",
              "      <td id=\"T_142e6_row7_col12\" class=\"data row7 col12\" >2.66</td>\n",
              "      <td id=\"T_142e6_row7_col13\" class=\"data row7 col13\" >50.00</td>\n",
              "    </tr>\n",
              "  </tbody>\n",
              "</table>\n"
            ]
          },
          "metadata": {}
        }
      ]
    },
    {
      "cell_type": "markdown",
      "source": [
        "For data to be processed by the model, convert them to float32 dtype"
      ],
      "metadata": {
        "id": "i5wYoUaI3MGl"
      }
    },
    {
      "cell_type": "code",
      "source": [
        "# A conversion function\n",
        "convert = lambda a: a.astype(np.float32)\n",
        "\n",
        "# Convert and inspect\n",
        "vars = [ ('x_train_norm',x_train_norm), ('y_train',y_train), ('x_test_norm',x_test_norm), ('y_test',y_test) ]\n",
        "for name,var in vars:\n",
        "  var = convert(var)\n",
        "  print(f\"{name}: type={type(var)} , shape={var.shape} , dtype={var.dtype}\")"
      ],
      "metadata": {
        "id": "FWtvhXauxuvQ",
        "colab": {
          "base_uri": "https://localhost:8080/"
        },
        "outputId": "f8ff86fa-8bba-4d95-a871-7c96ad31f6ad"
      },
      "execution_count": null,
      "outputs": [
        {
          "output_type": "stream",
          "name": "stdout",
          "text": [
            "x_train_norm: type=<class 'numpy.ndarray'> , shape=(404, 13) , dtype=float32\n",
            "y_train: type=<class 'numpy.ndarray'> , shape=(404,) , dtype=float32\n",
            "x_test_norm: type=<class 'numpy.ndarray'> , shape=(102, 13) , dtype=float32\n",
            "y_test: type=<class 'numpy.ndarray'> , shape=(102,) , dtype=float32\n"
          ]
        }
      ]
    },
    {
      "cell_type": "markdown",
      "source": [
        "# 3. Create the network architecture"
      ],
      "metadata": {
        "id": "bxZpE_g2bsUd"
      }
    },
    {
      "cell_type": "code",
      "source": [
        "def create_model(config):\n",
        "  '''\n",
        "    config (wandb.config): related hyperparameters to be logged by WandB\n",
        "  '''\n",
        "  # Model creation\n",
        "  tf.keras.backend.clear_session()\n",
        "  model = tf.keras.models.Sequential(name=config.model_name)\n",
        "\n",
        "  # Input layer\n",
        "  model.add( tf.keras.Input(shape=(x_train_norm.shape[-1],), name='input') )\n",
        "\n",
        "  # Hidden layers\n",
        "  model.add( tf.keras.layers.Dense(8, activation='relu', name='hidden1') )   # use default weight initialization, don't use any regularization\n",
        "  model.add( tf.keras.layers.BatchNormalization(axis=-1, name='bn1') )\n",
        "  model.add( tf.keras.layers.Dense(16, activation='relu', name='hidden2') )  # use default weight initialization, don't use any regularization\n",
        "  model.add( tf.keras.layers.BatchNormalization(axis=-1, name='bn2') )\n",
        "  model.add( tf.keras.layers.Dense(8, activation='relu', name='hidden3') )   # use default weight initialization, don't use any regularization\n",
        "  model.add( tf.keras.layers.Dropout(0.3) )          # drop rate = 30%\n",
        "\n",
        "  # Output layer: For a regression problem, use a linear activation function (a.k.a., use no activation function)\n",
        "  model.add( tf.keras.layers.Dense(1, name='output') )\n",
        "\n",
        "  # Compile\n",
        "  model.compile( optimizer=config.optimizer, loss=config.loss, metrics=[config.metric] )\n",
        "\n",
        "  return model"
      ],
      "metadata": {
        "id": "nxIMT-CibwPB"
      },
      "execution_count": null,
      "outputs": []
    },
    {
      "cell_type": "markdown",
      "source": [
        "# 4. Train and evaluate models with WandB"
      ],
      "metadata": {
        "id": "lFJlaBtNrnLs"
      }
    },
    {
      "cell_type": "code",
      "source": [
        "menu = '\\n1. Save weights only\\n2. Save the full model\\nYour choice: '\n",
        "\n",
        "while True:\n",
        "  choice = input(menu).strip()\n",
        "  if choice in ['1', '2']:\n",
        "    save_weights_only = True if choice=='1' else False\n",
        "    break"
      ],
      "metadata": {
        "id": "5dnqknQDTpBV",
        "colab": {
          "base_uri": "https://localhost:8080/"
        },
        "outputId": "2d6217a4-632e-4c05-9059-c08dcb6c49d9"
      },
      "execution_count": null,
      "outputs": [
        {
          "name": "stdout",
          "output_type": "stream",
          "text": [
            "\n",
            "1. Save weights only\n",
            "2. Save the full model\n",
            "Your choice: 2\n"
          ]
        }
      ]
    },
    {
      "cell_type": "code",
      "source": [
        "def load_newest_model_from_disk(config, dir='./'):\n",
        "  '''\n",
        "    config (wandb.config): without this there will be error on 'create_model()'\n",
        "    dir (str): directory of the file to load\n",
        "  '''\n",
        "  if save_weights_only:\n",
        "    # Get the name of the newest .weights.h5 file\n",
        "    files = [os.path.join(dir,x) for x in os.listdir(dir) if x.endswith(\".weights.h5\")]\n",
        "    newest = max(files , key=os.path.getctime)\n",
        "\n",
        "    # Load weights of the newest model\n",
        "    newest_model = create_model(config)   # Load the network architecture\n",
        "    newest_model.load_weights(newest)     # Load weights\n",
        "    print(f\"Successfully loaded the newest model from '{newest}'\")\n",
        "  else:\n",
        "    # Get the name of the newest .keras file\n",
        "    files = [os.path.join(dir,x) for x in os.listdir(dir) if x.endswith(\".keras\")]\n",
        "    newest = max(files , key=os.path.getctime)\n",
        "\n",
        "    # Load the newest model\n",
        "    newest_model = tf.keras.models.load_model(newest)\n",
        "    print(f\"Successfully loaded the newest model from '{newest}'\")\n",
        "\n",
        "  return newest_model"
      ],
      "metadata": {
        "id": "bw4MzGqNXJij"
      },
      "execution_count": null,
      "outputs": []
    },
    {
      "cell_type": "code",
      "source": [
        "def experiment_with_wandb(project_name, config_dict):\n",
        "  '''\n",
        "    project_name (str): Name of WandB project\n",
        "    config_dict (dict): A python dict of WandB configurations/hyperparameters\n",
        "  '''\n",
        "  # Start a run: do it manually by calling wandb.init() or using the with block\n",
        "  #run = wandb.init(project=project_name, config=config_dict)\n",
        "  with wandb.init(project=project_name, config=config_dict) as run:\n",
        "    # Build a model\n",
        "    model = create_model(run.config)\n",
        "    #model.summary()\n",
        "\n",
        "    # Prepare the path to save model's checkpoints\n",
        "    if save_weights_only:\n",
        "      checkpoint_filepath = \"bestmodel_epoch{epoch:03d}_valloss{val_loss:.2f}.weights.h5\"\n",
        "      #checkpoint_filepath = \"bestmodel.weights.h5\"\n",
        "    else:\n",
        "      checkpoint_filepath = \"bestmodel_epoch{epoch:03d}_valloss{val_loss:.2f}.keras\"\n",
        "      #checkpoint_filepath = \"bestmodel.keras\"\n",
        "\n",
        "    # Add WandbMetricsLogger to log metrics\n",
        "    # Add WandbModelCheckpoint to log model checkpoints/weights\n",
        "    # |-- Note that, the model will be logged and saved to both WandB and your local computer\n",
        "    wandb_callbacks = [ wandb.keras.WandbMetricsLogger(),\n",
        "                        wandb.keras.WandbModelCheckpoint(\n",
        "                                        filepath=checkpoint_filepath,\n",
        "                                        save_weights_only=save_weights_only,\n",
        "                                        monitor='val_loss',\n",
        "                                        mode='min',\n",
        "                                        save_best_only=True\n",
        "                                  ),\n",
        "                      ]\n",
        "\n",
        "    # Train the model with two WandB callbacks\n",
        "    model.fit ( x_train_norm, y_train,\n",
        "                validation_split=run.config.val_split,\n",
        "                batch_size=run.config.batch_size, epochs=run.config.epoch, verbose=0,\n",
        "                callbacks=wandb_callbacks\n",
        "              )\n",
        "\n",
        "    # Evaluate the trained model (from the last epoch) on the test set\n",
        "    # Log the results to WandB\n",
        "    results = model.evaluate(x_test_norm, y_test, batch_size=50, verbose=0)\n",
        "    run.log( { f'test_{model.metrics_names[0]}': results[0],\n",
        "               f'test_{model.metrics_names[1]}': results[1]  }  )\n",
        "\n",
        "    # Evaluate the trained model (from the best epoch) on the test set\n",
        "    # Log the results to WandB\n",
        "    best_model = load_newest_model_from_disk(run.config)\n",
        "    results = best_model.evaluate(x_test_norm, y_test, batch_size=50, verbose=0)\n",
        "    run.log( { f'test_best_{model.metrics_names[0]}': results[0],\n",
        "               f'test_best_{model.metrics_names[1]}': results[1]  }  )\n",
        "\n",
        "    # Manually mark the run as finished\n",
        "    #run.finish()   # This line is not necessary when using the with block"
      ],
      "metadata": {
        "id": "_GxU2fgZ0KtV"
      },
      "execution_count": null,
      "outputs": []
    },
    {
      "cell_type": "markdown",
      "source": [
        "Try running several experiments with different configurations\n",
        "- To log multiple metrics on the same chart (e.g., train loss and val loss), follow https://community.wandb.ai/t/log-multiple-variables-at-the-same-plot/2474. However, this cannot be done by an anonymous user."
      ],
      "metadata": {
        "id": "G-Z_iCnwkovz"
      }
    },
    {
      "cell_type": "code",
      "source": [
        "# Use a Python dict to store whatever hyperparameters you want to log in this project\n",
        "default_configs = dict( model_name='MLP2',\n",
        "                        dataset='Boston',\n",
        "                        val_split=0.2,\n",
        "                        optimizer='adam',\n",
        "                        loss='mean_squared_error',\n",
        "                        metric='mean_absolute_error',\n",
        "                        epoch=5,\n",
        "                        batch_size=50\n",
        "                  )"
      ],
      "metadata": {
        "id": "5TyxIx4_X8s-"
      },
      "execution_count": null,
      "outputs": []
    },
    {
      "cell_type": "code",
      "source": [
        "# First experiment\n",
        "experiment_with_wandb('DLclass_MLP2', default_configs)"
      ],
      "metadata": {
        "id": "YkeHO6l79I2U",
        "colab": {
          "base_uri": "https://localhost:8080/",
          "height": 515,
          "referenced_widgets": [
            "16cd5a7de6e54ffa91045f36a35bc5ec",
            "e8195528297749938a276dd3dcefb90a",
            "4b9bc5be24124d36be36134fc97a7d76",
            "798cd7888856434594e1f8e96acb9052",
            "5c983d75193f45618f324b5f06f64ca6",
            "ca84eb479b174700a79fa344481b6b7e",
            "53dd27f7a68c432eaa4bd2d780193eb1",
            "0d1c13c9fc0044c682a6e86e94175f0d"
          ]
        },
        "outputId": "e2a57acc-0265-4cd4-eedd-3c8a1570948d"
      },
      "execution_count": null,
      "outputs": [
        {
          "output_type": "display_data",
          "data": {
            "text/plain": [
              "<IPython.core.display.HTML object>"
            ],
            "text/html": [
              "Tracking run with wandb version 0.17.7"
            ]
          },
          "metadata": {}
        },
        {
          "output_type": "display_data",
          "data": {
            "text/plain": [
              "<IPython.core.display.HTML object>"
            ],
            "text/html": [
              "Run data is saved locally in <code>/content/wandb/run-20240827_202538-iez65rfo</code>"
            ]
          },
          "metadata": {}
        },
        {
          "output_type": "display_data",
          "data": {
            "text/plain": [
              "<IPython.core.display.HTML object>"
            ],
            "text/html": [
              "Syncing run <strong><a href='https://wandb.ai/gsas_nida/DLclass_MLP2/runs/iez65rfo' target=\"_blank\">restful-sun-31</a></strong> to <a href='https://wandb.ai/gsas_nida/DLclass_MLP2' target=\"_blank\">Weights & Biases</a> (<a href='https://wandb.me/run' target=\"_blank\">docs</a>)<br/>"
            ]
          },
          "metadata": {}
        },
        {
          "output_type": "display_data",
          "data": {
            "text/plain": [
              "<IPython.core.display.HTML object>"
            ],
            "text/html": [
              " View project at <a href='https://wandb.ai/gsas_nida/DLclass_MLP2' target=\"_blank\">https://wandb.ai/gsas_nida/DLclass_MLP2</a>"
            ]
          },
          "metadata": {}
        },
        {
          "output_type": "display_data",
          "data": {
            "text/plain": [
              "<IPython.core.display.HTML object>"
            ],
            "text/html": [
              " View run at <a href='https://wandb.ai/gsas_nida/DLclass_MLP2/runs/iez65rfo' target=\"_blank\">https://wandb.ai/gsas_nida/DLclass_MLP2/runs/iez65rfo</a>"
            ]
          },
          "metadata": {}
        },
        {
          "output_type": "stream",
          "name": "stdout",
          "text": [
            "Successfully loaded the newest model from './bestmodel_epoch005_valloss638.85.keras'\n"
          ]
        },
        {
          "output_type": "display_data",
          "data": {
            "text/plain": [
              "VBox(children=(Label(value='0.237 MB of 0.237 MB uploaded\\r'), FloatProgress(value=1.0, max=1.0)))"
            ],
            "application/vnd.jupyter.widget-view+json": {
              "version_major": 2,
              "version_minor": 0,
              "model_id": "16cd5a7de6e54ffa91045f36a35bc5ec"
            }
          },
          "metadata": {}
        },
        {
          "output_type": "display_data",
          "data": {
            "text/plain": [
              "<IPython.core.display.HTML object>"
            ],
            "text/html": [
              "<style>\n",
              "    table.wandb td:nth-child(1) { padding: 0 10px; text-align: left ; width: auto;} td:nth-child(2) {text-align: left ; width: 100%}\n",
              "    .wandb-row { display: flex; flex-direction: row; flex-wrap: wrap; justify-content: flex-start; width: 100% }\n",
              "    .wandb-col { display: flex; flex-direction: column; flex-basis: 100%; flex: 1; padding: 10px; }\n",
              "    </style>\n",
              "<div class=\"wandb-row\"><div class=\"wandb-col\"><h3>Run history:</h3><br/><table class=\"wandb\"><tr><td>epoch/epoch</td><td>▁▃▅▆█</td></tr><tr><td>epoch/learning_rate</td><td>▁▁▁▁▁</td></tr><tr><td>epoch/loss</td><td>█▆▄▂▁</td></tr><tr><td>epoch/mean_absolute_error</td><td>█▆▄▂▁</td></tr><tr><td>epoch/val_loss</td><td>█▇▅▃▁</td></tr><tr><td>epoch/val_mean_absolute_error</td><td>█▇▅▃▁</td></tr><tr><td>test_best_loss</td><td>▁</td></tr><tr><td>test_best_mean_absolute_error</td><td>▁</td></tr><tr><td>test_loss</td><td>▁</td></tr><tr><td>test_mean_absolute_error</td><td>▁</td></tr></table><br/></div><div class=\"wandb-col\"><h3>Run summary:</h3><br/><table class=\"wandb\"><tr><td>epoch/epoch</td><td>4</td></tr><tr><td>epoch/learning_rate</td><td>0.001</td></tr><tr><td>epoch/loss</td><td>549.29486</td></tr><tr><td>epoch/mean_absolute_error</td><td>21.56817</td></tr><tr><td>epoch/val_loss</td><td>638.85193</td></tr><tr><td>epoch/val_mean_absolute_error</td><td>23.52385</td></tr><tr><td>test_best_loss</td><td>611.28925</td></tr><tr><td>test_best_mean_absolute_error</td><td>22.96962</td></tr><tr><td>test_loss</td><td>611.28925</td></tr><tr><td>test_mean_absolute_error</td><td>22.96962</td></tr></table><br/></div></div>"
            ]
          },
          "metadata": {}
        },
        {
          "output_type": "display_data",
          "data": {
            "text/plain": [
              "<IPython.core.display.HTML object>"
            ],
            "text/html": [
              " View run <strong style=\"color:#cdcd00\">restful-sun-31</strong> at: <a href='https://wandb.ai/gsas_nida/DLclass_MLP2/runs/iez65rfo' target=\"_blank\">https://wandb.ai/gsas_nida/DLclass_MLP2/runs/iez65rfo</a><br/> View project at: <a href='https://wandb.ai/gsas_nida/DLclass_MLP2' target=\"_blank\">https://wandb.ai/gsas_nida/DLclass_MLP2</a><br/>Synced 5 W&B file(s), 0 media file(s), 5 artifact file(s) and 0 other file(s)"
            ]
          },
          "metadata": {}
        },
        {
          "output_type": "display_data",
          "data": {
            "text/plain": [
              "<IPython.core.display.HTML object>"
            ],
            "text/html": [
              "Find logs at: <code>./wandb/run-20240827_202538-iez65rfo/logs</code>"
            ]
          },
          "metadata": {}
        },
        {
          "output_type": "display_data",
          "data": {
            "text/plain": [
              "<IPython.core.display.HTML object>"
            ],
            "text/html": [
              "The new W&B backend becomes opt-out in version 0.18.0; try it out with `wandb.require(\"core\")`! See https://wandb.me/wandb-core for more information."
            ]
          },
          "metadata": {}
        }
      ]
    },
    {
      "cell_type": "code",
      "source": [
        "# Second experiment\n",
        "default_configs['batch_size'] = 100\n",
        "default_configs['epoch'] = 100\n",
        "experiment_with_wandb('DLclass_MLP2', default_configs)"
      ],
      "metadata": {
        "id": "PhrknKEq9Ix8",
        "colab": {
          "base_uri": "https://localhost:8080/",
          "height": 823,
          "referenced_widgets": [
            "d8e5ed40f0dc4290885920ef3e835522",
            "108bc8904fac4b729c268306900f5e15",
            "02c531fcb519475cb49356da87dcac05",
            "00e0ef16c8f447c680d8e94dea84e507",
            "bd27ddad3fd247d2beb919eb2fdfd131",
            "b3aef9b45c0245329b899be31e0771f7",
            "03614891fd95413cba65f5c8c3710650",
            "fa0ff4805b9745798051175e4430ff8a"
          ]
        },
        "outputId": "3cb1ba74-6a7a-41e6-a819-5378065a9a98"
      },
      "execution_count": null,
      "outputs": [
        {
          "output_type": "display_data",
          "data": {
            "text/plain": [
              "<IPython.core.display.HTML object>"
            ],
            "text/html": [
              "Tracking run with wandb version 0.17.7"
            ]
          },
          "metadata": {}
        },
        {
          "output_type": "display_data",
          "data": {
            "text/plain": [
              "<IPython.core.display.HTML object>"
            ],
            "text/html": [
              "Run data is saved locally in <code>/content/wandb/run-20240827_202754-yiovno2o</code>"
            ]
          },
          "metadata": {}
        },
        {
          "output_type": "display_data",
          "data": {
            "text/plain": [
              "<IPython.core.display.HTML object>"
            ],
            "text/html": [
              "Syncing run <strong><a href='https://wandb.ai/gsas_nida/DLclass_MLP2/runs/yiovno2o' target=\"_blank\">decent-sun-33</a></strong> to <a href='https://wandb.ai/gsas_nida/DLclass_MLP2' target=\"_blank\">Weights & Biases</a> (<a href='https://wandb.me/run' target=\"_blank\">docs</a>)<br/>"
            ]
          },
          "metadata": {}
        },
        {
          "output_type": "display_data",
          "data": {
            "text/plain": [
              "<IPython.core.display.HTML object>"
            ],
            "text/html": [
              " View project at <a href='https://wandb.ai/gsas_nida/DLclass_MLP2' target=\"_blank\">https://wandb.ai/gsas_nida/DLclass_MLP2</a>"
            ]
          },
          "metadata": {}
        },
        {
          "output_type": "display_data",
          "data": {
            "text/plain": [
              "<IPython.core.display.HTML object>"
            ],
            "text/html": [
              " View run at <a href='https://wandb.ai/gsas_nida/DLclass_MLP2/runs/yiovno2o' target=\"_blank\">https://wandb.ai/gsas_nida/DLclass_MLP2/runs/yiovno2o</a>"
            ]
          },
          "metadata": {}
        },
        {
          "output_type": "stream",
          "name": "stdout",
          "text": [
            "Successfully loaded the newest model from './bestmodel_epoch100_valloss42.23.keras'\n"
          ]
        },
        {
          "output_type": "display_data",
          "data": {
            "text/plain": [
              "VBox(children=(Label(value='4.696 MB of 4.696 MB uploaded\\r'), FloatProgress(value=1.0, max=1.0)))"
            ],
            "application/vnd.jupyter.widget-view+json": {
              "version_major": 2,
              "version_minor": 0,
              "model_id": "d8e5ed40f0dc4290885920ef3e835522"
            }
          },
          "metadata": {}
        },
        {
          "output_type": "display_data",
          "data": {
            "text/plain": [
              "<IPython.core.display.HTML object>"
            ],
            "text/html": [
              "<style>\n",
              "    table.wandb td:nth-child(1) { padding: 0 10px; text-align: left ; width: auto;} td:nth-child(2) {text-align: left ; width: 100%}\n",
              "    .wandb-row { display: flex; flex-direction: row; flex-wrap: wrap; justify-content: flex-start; width: 100% }\n",
              "    .wandb-col { display: flex; flex-direction: column; flex-basis: 100%; flex: 1; padding: 10px; }\n",
              "    </style>\n",
              "<div class=\"wandb-row\"><div class=\"wandb-col\"><h3>Run history:</h3><br/><table class=\"wandb\"><tr><td>epoch/epoch</td><td>▁▁▁▁▂▂▂▂▂▃▃▃▃▃▃▄▄▄▄▄▅▅▅▅▅▅▆▆▆▆▆▇▇▇▇▇▇███</td></tr><tr><td>epoch/learning_rate</td><td>▁▁▁▁▁▁▁▁▁▁▁▁▁▁▁▁▁▁▁▁▁▁▁▁▁▁▁▁▁▁▁▁▁▁▁▁▁▁▁▁</td></tr><tr><td>epoch/loss</td><td>████▇▇▇▇▆▆▆▆▅▅▅▅▄▄▄▃▃▃▃▃▂▂▂▂▂▂▂▂▂▂▂▂▁▁▁▁</td></tr><tr><td>epoch/mean_absolute_error</td><td>████▇▇▇▇▇▇▇▆▆▆▆▅▅▅▅▄▄▃▄▃▃▃▂▂▂▂▂▂▂▂▂▂▁▁▁▁</td></tr><tr><td>epoch/val_loss</td><td>███████▇▇▇▇▇▆▆▆▅▅▅▄▄▄▃▃▃▂▂▂▂▂▂▁▁▁▁▁▁▁▁▁▁</td></tr><tr><td>epoch/val_mean_absolute_error</td><td>█████████▇▇▇▇▇▇▆▆▆▅▅▅▄▄▄▃▃▃▃▂▂▂▂▂▂▁▁▁▁▁▁</td></tr><tr><td>test_best_loss</td><td>▁</td></tr><tr><td>test_best_mean_absolute_error</td><td>▁</td></tr><tr><td>test_loss</td><td>▁</td></tr><tr><td>test_mean_absolute_error</td><td>▁</td></tr></table><br/></div><div class=\"wandb-col\"><h3>Run summary:</h3><br/><table class=\"wandb\"><tr><td>epoch/epoch</td><td>99</td></tr><tr><td>epoch/learning_rate</td><td>0.001</td></tr><tr><td>epoch/loss</td><td>76.90458</td></tr><tr><td>epoch/mean_absolute_error</td><td>6.76534</td></tr><tr><td>epoch/val_loss</td><td>42.23407</td></tr><tr><td>epoch/val_mean_absolute_error</td><td>4.90496</td></tr><tr><td>test_best_loss</td><td>38.69742</td></tr><tr><td>test_best_mean_absolute_error</td><td>4.73919</td></tr><tr><td>test_loss</td><td>38.69742</td></tr><tr><td>test_mean_absolute_error</td><td>4.73919</td></tr></table><br/></div></div>"
            ]
          },
          "metadata": {}
        },
        {
          "output_type": "display_data",
          "data": {
            "text/plain": [
              "<IPython.core.display.HTML object>"
            ],
            "text/html": [
              " View run <strong style=\"color:#cdcd00\">decent-sun-33</strong> at: <a href='https://wandb.ai/gsas_nida/DLclass_MLP2/runs/yiovno2o' target=\"_blank\">https://wandb.ai/gsas_nida/DLclass_MLP2/runs/yiovno2o</a><br/> View project at: <a href='https://wandb.ai/gsas_nida/DLclass_MLP2' target=\"_blank\">https://wandb.ai/gsas_nida/DLclass_MLP2</a><br/>Synced 5 W&B file(s), 0 media file(s), 100 artifact file(s) and 0 other file(s)"
            ]
          },
          "metadata": {}
        },
        {
          "output_type": "display_data",
          "data": {
            "text/plain": [
              "<IPython.core.display.HTML object>"
            ],
            "text/html": [
              "Find logs at: <code>./wandb/run-20240827_202754-yiovno2o/logs</code>"
            ]
          },
          "metadata": {}
        },
        {
          "output_type": "display_data",
          "data": {
            "text/plain": [
              "<IPython.core.display.HTML object>"
            ],
            "text/html": [
              "The new W&B backend becomes opt-out in version 0.18.0; try it out with `wandb.require(\"core\")`! See https://wandb.me/wandb-core for more information."
            ]
          },
          "metadata": {}
        }
      ]
    },
    {
      "cell_type": "code",
      "source": [
        "# Third experiment\n",
        "default_configs['batch_size'] = 100\n",
        "default_configs['epoch'] = 20\n",
        "experiment_with_wandb('DLclass_MLP2', default_configs)"
      ],
      "metadata": {
        "id": "UV2sxcSQ9IrV",
        "colab": {
          "base_uri": "https://localhost:8080/",
          "height": 515,
          "referenced_widgets": [
            "3326d4567278417f8484814352c0201f",
            "b9b67f4be80d41068905b19911bf9a04",
            "cf47737c625c4f10921d15c6a67b4ca3",
            "3dec901948a4468bb9161aa1f67f4f2e",
            "729702be406046d39e98cf88f721c8ad",
            "a27ff4bb5d8c478699f6f4a969335186",
            "5b2a03d4cd224a039aa77cfb83972120",
            "88fb0ab4590f4c21a40d7a62ee029e68"
          ]
        },
        "outputId": "298ef838-1b00-4461-865d-1c16dfb08c65"
      },
      "execution_count": null,
      "outputs": [
        {
          "output_type": "display_data",
          "data": {
            "text/plain": [
              "<IPython.core.display.HTML object>"
            ],
            "text/html": [
              "Tracking run with wandb version 0.17.7"
            ]
          },
          "metadata": {}
        },
        {
          "output_type": "display_data",
          "data": {
            "text/plain": [
              "<IPython.core.display.HTML object>"
            ],
            "text/html": [
              "Run data is saved locally in <code>/content/wandb/run-20240827_203044-zp94vvo4</code>"
            ]
          },
          "metadata": {}
        },
        {
          "output_type": "display_data",
          "data": {
            "text/plain": [
              "<IPython.core.display.HTML object>"
            ],
            "text/html": [
              "Syncing run <strong><a href='https://wandb.ai/gsas_nida/DLclass_MLP2/runs/zp94vvo4' target=\"_blank\">scarlet-river-34</a></strong> to <a href='https://wandb.ai/gsas_nida/DLclass_MLP2' target=\"_blank\">Weights & Biases</a> (<a href='https://wandb.me/run' target=\"_blank\">docs</a>)<br/>"
            ]
          },
          "metadata": {}
        },
        {
          "output_type": "display_data",
          "data": {
            "text/plain": [
              "<IPython.core.display.HTML object>"
            ],
            "text/html": [
              " View project at <a href='https://wandb.ai/gsas_nida/DLclass_MLP2' target=\"_blank\">https://wandb.ai/gsas_nida/DLclass_MLP2</a>"
            ]
          },
          "metadata": {}
        },
        {
          "output_type": "display_data",
          "data": {
            "text/plain": [
              "<IPython.core.display.HTML object>"
            ],
            "text/html": [
              " View run at <a href='https://wandb.ai/gsas_nida/DLclass_MLP2/runs/zp94vvo4' target=\"_blank\">https://wandb.ai/gsas_nida/DLclass_MLP2/runs/zp94vvo4</a>"
            ]
          },
          "metadata": {}
        },
        {
          "output_type": "stream",
          "name": "stdout",
          "text": [
            "Successfully loaded the newest model from './bestmodel_epoch020_valloss589.66.keras'\n"
          ]
        },
        {
          "output_type": "display_data",
          "data": {
            "text/plain": [
              "VBox(children=(Label(value='0.941 MB of 0.941 MB uploaded\\r'), FloatProgress(value=1.0, max=1.0)))"
            ],
            "application/vnd.jupyter.widget-view+json": {
              "version_major": 2,
              "version_minor": 0,
              "model_id": "3326d4567278417f8484814352c0201f"
            }
          },
          "metadata": {}
        },
        {
          "output_type": "display_data",
          "data": {
            "text/plain": [
              "<IPython.core.display.HTML object>"
            ],
            "text/html": [
              "<style>\n",
              "    table.wandb td:nth-child(1) { padding: 0 10px; text-align: left ; width: auto;} td:nth-child(2) {text-align: left ; width: 100%}\n",
              "    .wandb-row { display: flex; flex-direction: row; flex-wrap: wrap; justify-content: flex-start; width: 100% }\n",
              "    .wandb-col { display: flex; flex-direction: column; flex-basis: 100%; flex: 1; padding: 10px; }\n",
              "    </style>\n",
              "<div class=\"wandb-row\"><div class=\"wandb-col\"><h3>Run history:</h3><br/><table class=\"wandb\"><tr><td>epoch/epoch</td><td>▁▁▂▂▂▃▃▄▄▄▅▅▅▆▆▇▇▇██</td></tr><tr><td>epoch/learning_rate</td><td>▁▁▁▁▁▁▁▁▁▁▁▁▁▁▁▁▁▁▁▁</td></tr><tr><td>epoch/loss</td><td>███▇▇▆▆▆▅▅▄▄▄▃▃▂▂▂▁▁</td></tr><tr><td>epoch/mean_absolute_error</td><td>███▇▇▆▆▆▅▅▅▄▄▃▃▂▂▂▁▁</td></tr><tr><td>epoch/val_loss</td><td>██▇▇▇▇▆▆▆▅▅▅▄▄▄▃▃▂▂▁</td></tr><tr><td>epoch/val_mean_absolute_error</td><td>███▇▇▇▆▆▆▆▅▅▄▄▄▃▃▂▂▁</td></tr><tr><td>test_best_loss</td><td>▁</td></tr><tr><td>test_best_mean_absolute_error</td><td>▁</td></tr><tr><td>test_loss</td><td>▁</td></tr><tr><td>test_mean_absolute_error</td><td>▁</td></tr></table><br/></div><div class=\"wandb-col\"><h3>Run summary:</h3><br/><table class=\"wandb\"><tr><td>epoch/epoch</td><td>19</td></tr><tr><td>epoch/learning_rate</td><td>0.001</td></tr><tr><td>epoch/loss</td><td>493.56116</td></tr><tr><td>epoch/mean_absolute_error</td><td>20.30404</td></tr><tr><td>epoch/val_loss</td><td>589.65607</td></tr><tr><td>epoch/val_mean_absolute_error</td><td>22.51228</td></tr><tr><td>test_best_loss</td><td>565.87781</td></tr><tr><td>test_best_mean_absolute_error</td><td>22.06592</td></tr><tr><td>test_loss</td><td>565.87781</td></tr><tr><td>test_mean_absolute_error</td><td>22.06592</td></tr></table><br/></div></div>"
            ]
          },
          "metadata": {}
        },
        {
          "output_type": "display_data",
          "data": {
            "text/plain": [
              "<IPython.core.display.HTML object>"
            ],
            "text/html": [
              " View run <strong style=\"color:#cdcd00\">scarlet-river-34</strong> at: <a href='https://wandb.ai/gsas_nida/DLclass_MLP2/runs/zp94vvo4' target=\"_blank\">https://wandb.ai/gsas_nida/DLclass_MLP2/runs/zp94vvo4</a><br/> View project at: <a href='https://wandb.ai/gsas_nida/DLclass_MLP2' target=\"_blank\">https://wandb.ai/gsas_nida/DLclass_MLP2</a><br/>Synced 5 W&B file(s), 0 media file(s), 20 artifact file(s) and 0 other file(s)"
            ]
          },
          "metadata": {}
        },
        {
          "output_type": "display_data",
          "data": {
            "text/plain": [
              "<IPython.core.display.HTML object>"
            ],
            "text/html": [
              "Find logs at: <code>./wandb/run-20240827_203044-zp94vvo4/logs</code>"
            ]
          },
          "metadata": {}
        },
        {
          "output_type": "display_data",
          "data": {
            "text/plain": [
              "<IPython.core.display.HTML object>"
            ],
            "text/html": [
              "The new W&B backend becomes opt-out in version 0.18.0; try it out with `wandb.require(\"core\")`! See https://wandb.me/wandb-core for more information."
            ]
          },
          "metadata": {}
        }
      ]
    },
    {
      "cell_type": "markdown",
      "source": [
        "# 5. Load and use WandB's artifacts\n",
        "\n",
        "1. Go to the `Artifacts` tab in WandB\n",
        "2. In the target run, choose the file you want to retrieve. Then,\n",
        "  - Under the `Version` tab, copy the url specified in the `Full Name` field and paste it in the cell below\n",
        "  - Find example codes under the `Usage` tab"
      ],
      "metadata": {
        "id": "1MXnuVPvuNqh"
      }
    },
    {
      "cell_type": "code",
      "source": [
        "# Below is just a dummy url, DO NOT USE IT\n",
        "# Instead, replace the below url with YOUR URL from WandB\n",
        "FILE_URL = 'gsas_nida/DLclass_MLP2/run_zp94vvo4_model:v19'"
      ],
      "metadata": {
        "id": "LJ4-zNR3heO7"
      },
      "execution_count": null,
      "outputs": []
    },
    {
      "cell_type": "code",
      "source": [
        "# Download the file from this WandB artifact to your local computer\n",
        "run = wandb.init(config=default_configs)\n",
        "artifact = run.use_artifact(FILE_URL, type='model')\n",
        "artifact_dir = artifact.download()\n",
        "run.finish()\n",
        "\n",
        "print(f'{artifact_dir=}')"
      ],
      "metadata": {
        "id": "eWQFNYdbem2R",
        "colab": {
          "base_uri": "https://localhost:8080/",
          "height": 225,
          "referenced_widgets": [
            "b3d9a1f92e6c414ba2f02e71bdf78950",
            "bba112ecf3cb4110aa2d7bd589bd1d2c",
            "1b138f72df774afb9f077a3a74ca371e",
            "e1ab0243b2aa47d5bb7d2d1b1d27caae",
            "bb0731c2110f44ba90ce2dfa27a62244",
            "5f69c5ccd49042079f7372bb84d8c196",
            "b39359bff5a9479a8e5c13def07ca076",
            "3144975f8d544c74b24dd1d6dd02a69e"
          ]
        },
        "outputId": "8b1254ac-1cf7-4bed-b526-a83164d24733"
      },
      "execution_count": null,
      "outputs": [
        {
          "output_type": "display_data",
          "data": {
            "text/plain": [
              "<IPython.core.display.HTML object>"
            ],
            "text/html": [
              "Tracking run with wandb version 0.17.7"
            ]
          },
          "metadata": {}
        },
        {
          "output_type": "display_data",
          "data": {
            "text/plain": [
              "<IPython.core.display.HTML object>"
            ],
            "text/html": [
              "Run data is saved locally in <code>/content/wandb/run-20240827_203247-61pxvd02</code>"
            ]
          },
          "metadata": {}
        },
        {
          "output_type": "display_data",
          "data": {
            "text/plain": [
              "<IPython.core.display.HTML object>"
            ],
            "text/html": [
              "Syncing run <strong><a href='https://wandb.ai/gsas_nida/uncategorized/runs/61pxvd02' target=\"_blank\">noble-brook-2</a></strong> to <a href='https://wandb.ai/gsas_nida/uncategorized' target=\"_blank\">Weights & Biases</a> (<a href='https://wandb.me/run' target=\"_blank\">docs</a>)<br/>"
            ]
          },
          "metadata": {}
        },
        {
          "output_type": "display_data",
          "data": {
            "text/plain": [
              "<IPython.core.display.HTML object>"
            ],
            "text/html": [
              " View project at <a href='https://wandb.ai/gsas_nida/uncategorized' target=\"_blank\">https://wandb.ai/gsas_nida/uncategorized</a>"
            ]
          },
          "metadata": {}
        },
        {
          "output_type": "display_data",
          "data": {
            "text/plain": [
              "<IPython.core.display.HTML object>"
            ],
            "text/html": [
              " View run at <a href='https://wandb.ai/gsas_nida/uncategorized/runs/61pxvd02' target=\"_blank\">https://wandb.ai/gsas_nida/uncategorized/runs/61pxvd02</a>"
            ]
          },
          "metadata": {}
        },
        {
          "output_type": "stream",
          "name": "stderr",
          "text": [
            "\u001b[34m\u001b[1mwandb\u001b[0m:   1 of 1 files downloaded.  \n"
          ]
        },
        {
          "output_type": "display_data",
          "data": {
            "text/plain": [
              "VBox(children=(Label(value='0.002 MB of 0.002 MB uploaded\\r'), FloatProgress(value=1.0, max=1.0)))"
            ],
            "application/vnd.jupyter.widget-view+json": {
              "version_major": 2,
              "version_minor": 0,
              "model_id": "b3d9a1f92e6c414ba2f02e71bdf78950"
            }
          },
          "metadata": {}
        },
        {
          "output_type": "display_data",
          "data": {
            "text/plain": [
              "<IPython.core.display.HTML object>"
            ],
            "text/html": [
              " View run <strong style=\"color:#cdcd00\">noble-brook-2</strong> at: <a href='https://wandb.ai/gsas_nida/uncategorized/runs/61pxvd02' target=\"_blank\">https://wandb.ai/gsas_nida/uncategorized/runs/61pxvd02</a><br/> View project at: <a href='https://wandb.ai/gsas_nida/uncategorized' target=\"_blank\">https://wandb.ai/gsas_nida/uncategorized</a><br/>Synced 5 W&B file(s), 0 media file(s), 0 artifact file(s) and 0 other file(s)"
            ]
          },
          "metadata": {}
        },
        {
          "output_type": "display_data",
          "data": {
            "text/plain": [
              "<IPython.core.display.HTML object>"
            ],
            "text/html": [
              "Find logs at: <code>./wandb/run-20240827_203247-61pxvd02/logs</code>"
            ]
          },
          "metadata": {}
        },
        {
          "output_type": "display_data",
          "data": {
            "text/plain": [
              "<IPython.core.display.HTML object>"
            ],
            "text/html": [
              "The new W&B backend becomes opt-out in version 0.18.0; try it out with `wandb.require(\"core\")`! See https://wandb.me/wandb-core for more information."
            ]
          },
          "metadata": {}
        },
        {
          "output_type": "stream",
          "name": "stdout",
          "text": [
            "artifact_dir='/content/artifacts/run_zp94vvo4_model:v19'\n"
          ]
        }
      ]
    },
    {
      "cell_type": "code",
      "source": [
        "# Load the model and use it\n",
        "artifact_model = load_newest_model_from_disk(run.config, dir=artifact_dir)\n",
        "results = artifact_model.evaluate(x_test_norm, y_test, batch_size=50)\n",
        "print( f\"{artifact_model.metrics_names} = {results}\" )"
      ],
      "metadata": {
        "id": "szLClxRqJNpy",
        "colab": {
          "base_uri": "https://localhost:8080/"
        },
        "outputId": "fdf7a86a-914a-4e8e-a11a-2d2ea55c9620"
      },
      "execution_count": null,
      "outputs": [
        {
          "output_type": "stream",
          "name": "stdout",
          "text": [
            "Successfully loaded the newest model from '/content/artifacts/run_zp94vvo4_model:v19/bestmodel_epoch020_valloss589.66.keras'\n",
            "3/3 [==============================] - 0s 4ms/step - loss: 565.8778 - mean_absolute_error: 22.0659\n",
            "['loss', 'mean_absolute_error'] = [565.8778076171875, 22.065919876098633]\n"
          ]
        }
      ]
    }
  ]
}