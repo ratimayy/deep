{
  "nbformat": 4,
  "nbformat_minor": 0,
  "metadata": {
    "colab": {
      "provenance": [],
      "include_colab_link": true
    },
    "kernelspec": {
      "name": "python3",
      "display_name": "Python 3"
    },
    "language_info": {
      "name": "python"
    }
  },
  "cells": [
    {
      "cell_type": "markdown",
      "metadata": {
        "id": "view-in-github",
        "colab_type": "text"
      },
      "source": [
        "<a href=\"https://colab.research.google.com/github/ratimayy/deep/blob/main/MLP1.ipynb\" target=\"_parent\"><img src=\"https://colab.research.google.com/assets/colab-badge.svg\" alt=\"Open In Colab\"/></a>"
      ]
    },
    {
      "cell_type": "markdown",
      "source": [
        "# 1. Prepare the environment"
      ],
      "metadata": {
        "id": "Am8MiduBQF7w"
      }
    },
    {
      "cell_type": "code",
      "execution_count": null,
      "metadata": {
        "colab": {
          "base_uri": "https://localhost:8080/"
        },
        "id": "dP0wi2yRP46L",
        "outputId": "1d438ec7-cfe6-4492-9e8a-52dcf799705d"
      },
      "outputs": [
        {
          "output_type": "stream",
          "name": "stdout",
          "text": [
            "/bin/bash: line 1: nvidia-smi: command not found\n"
          ]
        }
      ],
      "source": [
        "# List all NVIDIA GPUs as available in this computer (or Colab's session)\n",
        "!nvidia-smi -L"
      ]
    },
    {
      "cell_type": "code",
      "source": [
        "import sys\n",
        "print( f\"Python {sys.version}\\n\" )\n",
        "\n",
        "import numpy as np\n",
        "print( f\"NumPy {np.__version__}\\n\" )\n",
        "\n",
        "import matplotlib.pyplot as plt\n",
        "%matplotlib inline\n",
        "\n",
        "import tensorflow as tf\n",
        "print( f\"TensorFlow {tf.__version__}\" )\n",
        "print( f\"tf.keras.backend.image_data_format() = {tf.keras.backend.image_data_format()}\" )\n",
        "\n",
        "# Count the number of GPUs as detected by tensorflow\n",
        "gpus = tf.config.list_physical_devices('GPU')\n",
        "print( f\"TensorFlow detected { len(gpus) } GPU(s):\" )\n",
        "for i, gpu in enumerate(gpus):\n",
        "  print( f\".... GPU No. {i}: Name = {gpu.name} , Type = {gpu.device_type}\" )"
      ],
      "metadata": {
        "colab": {
          "base_uri": "https://localhost:8080/"
        },
        "id": "lml-duVyQK78",
        "outputId": "0828fe76-b567-4b0d-88de-1724374fb7ed"
      },
      "execution_count": null,
      "outputs": [
        {
          "output_type": "stream",
          "name": "stdout",
          "text": [
            "Python 3.10.12 (main, Jul 29 2024, 16:56:48) [GCC 11.4.0]\n",
            "\n",
            "NumPy 1.26.4\n",
            "\n",
            "TensorFlow 2.17.0\n",
            "tf.keras.backend.image_data_format() = channels_last\n",
            "TensorFlow detected 0 GPU(s):\n"
          ]
        }
      ]
    },
    {
      "cell_type": "code",
      "source": [
        "# Set fixed seeding values for reproducability during experiments\n",
        "# Skip this cell if random initialization (with varied results) is needed\n",
        "np.random.seed(1234)\n",
        "tf.random.set_seed(5678)"
      ],
      "metadata": {
        "id": "F8LiRMTQUVKY"
      },
      "execution_count": null,
      "outputs": []
    },
    {
      "cell_type": "markdown",
      "source": [
        "# 2. Prepare the data in NumPy\n",
        "\n",
        "Suppose that this example deals with the single-label multi-class classification problem where a single input is a 1D vector of shape (100,) and there are 10 predefined classes of output.\n",
        "\n",
        "1. Load train and test data\n",
        "2. Data preprocessing\n",
        "3. Format the data (e.g, shape, dtype) to suit with the model's requirement (i.e., MLP)"
      ],
      "metadata": {
        "id": "QsNLz02cTzDS"
      }
    },
    {
      "cell_type": "code",
      "source": [
        "input_dim = 100     # the number of features per one input\n",
        "output_dim = 10     # the number of output classes"
      ],
      "metadata": {
        "id": "WmSKh9VecnFS"
      },
      "execution_count": null,
      "outputs": []
    },
    {
      "cell_type": "code",
      "source": [
        "# Load the train data\n",
        "n_train = 10000\n",
        "x_train = np.random.randn( n_train, input_dim )\n",
        "y_train = np.random.randint( 0, output_dim, size=(n_train,) )\n",
        "\n",
        "print( f\"x_train.shape={x_train.shape} , x_train.dtype={x_train.dtype} , min(x_train)={np.min(x_train)} , max(x_train)={np.max(x_train)}\" )\n",
        "print( f\"y_train.shape={y_train.shape} , y_train.dtype={y_train.dtype} , min(y_train)={np.min(y_train)} , max(y_train)={np.max(y_train)}\" )"
      ],
      "metadata": {
        "colab": {
          "base_uri": "https://localhost:8080/"
        },
        "id": "t9TVlIn-Txct",
        "outputId": "197cb897-c304-474e-c035-1c5fbbcce155"
      },
      "execution_count": null,
      "outputs": [
        {
          "output_type": "stream",
          "name": "stdout",
          "text": [
            "x_train.shape=(10000, 100) , x_train.dtype=float64 , min(x_train)=-4.750607746925718 , max(x_train)=5.029272727084725\n",
            "y_train.shape=(10000,) , y_train.dtype=int64 , min(y_train)=0 , max(y_train)=9\n"
          ]
        }
      ]
    },
    {
      "cell_type": "code",
      "source": [
        "# Load the test data\n",
        "n_test = 2000\n",
        "x_test = np.random.randn( n_test, input_dim )\n",
        "y_test = np.random.randint( 0, output_dim, size=(n_test,) )\n",
        "\n",
        "print( f\"x_test.shape={x_test.shape} , x_test.dtype={x_test.dtype} , min(x_test)={np.min(x_test)} , max(x_test)={np.max(x_test)}\" )\n",
        "print( f\"y_test.shape={y_test.shape} , y_test.dtype={y_test.dtype} , min(y_test)={np.min(y_test)} , max(y_test)={np.max(y_test)}\" )"
      ],
      "metadata": {
        "colab": {
          "base_uri": "https://localhost:8080/"
        },
        "id": "ysO6gQdYQUy7",
        "outputId": "67d9e7b8-699c-4740-eec8-207241463ce1"
      },
      "execution_count": null,
      "outputs": [
        {
          "output_type": "stream",
          "name": "stdout",
          "text": [
            "x_test.shape=(2000, 100) , x_test.dtype=float64 , min(x_test)=-4.9507365019892084 , max(x_test)=5.053759567589386\n",
            "y_test.shape=(2000,) , y_test.dtype=int64 , min(y_test)=0 , max(y_test)=9\n"
          ]
        }
      ]
    },
    {
      "cell_type": "code",
      "source": [
        "# Data preprocessing\n",
        "pass"
      ],
      "metadata": {
        "id": "ghySlWoeY7km"
      },
      "execution_count": null,
      "outputs": []
    },
    {
      "cell_type": "code",
      "source": [
        "# Data format: shape\n",
        "# The dense layer of MLP expects the input of shape (n_samples, n_features)\n",
        "pass\n",
        "\n",
        "# Data format: data type\n",
        "# Most DL frameworks use float32 as a default data type\n",
        "x_train = x_train.astype(np.float32)\n",
        "x_test = x_test.astype(np.float32)\n",
        "\n",
        "print( f\"x_train.shape={x_train.shape} , x_train.dtype={x_train.dtype} , min(x_train)={np.min(x_train)} , max(x_train)={np.max(x_train)}\" )\n",
        "print( f\"x_test.shape={x_test.shape} , x_test.dtype={x_test.dtype} , min(x_test)={np.min(x_test)} , max(x_test)={np.max(x_test)}\" )"
      ],
      "metadata": {
        "colab": {
          "base_uri": "https://localhost:8080/"
        },
        "id": "KMpjtUWRZhe6",
        "outputId": "edc8f4bb-a8b3-4108-e26f-f67bab402de2"
      },
      "execution_count": null,
      "outputs": [
        {
          "output_type": "stream",
          "name": "stdout",
          "text": [
            "x_train.shape=(10000, 100) , x_train.dtype=float32 , min(x_train)=-4.750607967376709 , max(x_train)=5.029272556304932\n",
            "x_test.shape=(2000, 100) , x_test.dtype=float32 , min(x_test)=-4.9507365226745605 , max(x_test)=5.053759574890137\n"
          ]
        }
      ]
    },
    {
      "cell_type": "markdown",
      "source": [
        "# 3. Create the network architecture"
      ],
      "metadata": {
        "id": "bxZpE_g2bsUd"
      }
    },
    {
      "cell_type": "code",
      "source": [
        "model = tf.keras.models.Sequential() #ค่อยๆใส่ layer ตามลำดับ เหมือนไม้เสียบลูกชิ้น\n",
        "\n",
        "# Input layer\n",
        "model.add( tf.keras.Input(shape=(input_dim,)) )\n",
        "\n",
        "#input_dim คือจน feature, ไม่ต้องกำำหนด batch size\n",
        "\n",
        "# Hidden layer, ตัวเลขก็มั่วขึ้นมา แต่อยากรู้เลขก็ต้องไปอ่านวิจัยที่คนอื่นเคยทำไว้\n",
        "model.add( tf.keras.layers.Dense(32, activation='relu', name='hidden1') )\n",
        "model.add( tf.keras.layers.Dense(64, activation='relu', name='hidden2') )\n",
        "model.add( tf.keras.layers.Dense(32, activation='relu', name='hidden3') )\n",
        "\n",
        "# Output layer\n",
        "model.add( tf.keras.layers.Dense(output_dim, activation='softmax', name='output') )\n",
        "\n",
        "model.summary()"
      ],
      "metadata": {
        "colab": {
          "base_uri": "https://localhost:8080/",
          "height": 263
        },
        "id": "nxIMT-CibwPB",
        "outputId": "fd653059-2d92-4efe-8f12-2c91e1a31ed0"
      },
      "execution_count": null,
      "outputs": [
        {
          "output_type": "display_data",
          "data": {
            "text/plain": [
              "\u001b[1mModel: \"sequential\"\u001b[0m\n"
            ],
            "text/html": [
              "<pre style=\"white-space:pre;overflow-x:auto;line-height:normal;font-family:Menlo,'DejaVu Sans Mono',consolas,'Courier New',monospace\"><span style=\"font-weight: bold\">Model: \"sequential\"</span>\n",
              "</pre>\n"
            ]
          },
          "metadata": {}
        },
        {
          "output_type": "display_data",
          "data": {
            "text/plain": [
              "┏━━━━━━━━━━━━━━━━━━━━━━━━━━━━━━━━━━━━━━┳━━━━━━━━━━━━━━━━━━━━━━━━━━━━━┳━━━━━━━━━━━━━━━━━┓\n",
              "┃\u001b[1m \u001b[0m\u001b[1mLayer (type)                        \u001b[0m\u001b[1m \u001b[0m┃\u001b[1m \u001b[0m\u001b[1mOutput Shape               \u001b[0m\u001b[1m \u001b[0m┃\u001b[1m \u001b[0m\u001b[1m        Param #\u001b[0m\u001b[1m \u001b[0m┃\n",
              "┡━━━━━━━━━━━━━━━━━━━━━━━━━━━━━━━━━━━━━━╇━━━━━━━━━━━━━━━━━━━━━━━━━━━━━╇━━━━━━━━━━━━━━━━━┩\n",
              "│ hidden1 (\u001b[38;5;33mDense\u001b[0m)                      │ (\u001b[38;5;45mNone\u001b[0m, \u001b[38;5;34m32\u001b[0m)                  │           \u001b[38;5;34m3,232\u001b[0m │\n",
              "├──────────────────────────────────────┼─────────────────────────────┼─────────────────┤\n",
              "│ hidden2 (\u001b[38;5;33mDense\u001b[0m)                      │ (\u001b[38;5;45mNone\u001b[0m, \u001b[38;5;34m64\u001b[0m)                  │           \u001b[38;5;34m2,112\u001b[0m │\n",
              "├──────────────────────────────────────┼─────────────────────────────┼─────────────────┤\n",
              "│ hidden3 (\u001b[38;5;33mDense\u001b[0m)                      │ (\u001b[38;5;45mNone\u001b[0m, \u001b[38;5;34m32\u001b[0m)                  │           \u001b[38;5;34m2,080\u001b[0m │\n",
              "├──────────────────────────────────────┼─────────────────────────────┼─────────────────┤\n",
              "│ output (\u001b[38;5;33mDense\u001b[0m)                       │ (\u001b[38;5;45mNone\u001b[0m, \u001b[38;5;34m10\u001b[0m)                  │             \u001b[38;5;34m330\u001b[0m │\n",
              "└──────────────────────────────────────┴─────────────────────────────┴─────────────────┘\n"
            ],
            "text/html": [
              "<pre style=\"white-space:pre;overflow-x:auto;line-height:normal;font-family:Menlo,'DejaVu Sans Mono',consolas,'Courier New',monospace\">┏━━━━━━━━━━━━━━━━━━━━━━━━━━━━━━━━━━━━━━┳━━━━━━━━━━━━━━━━━━━━━━━━━━━━━┳━━━━━━━━━━━━━━━━━┓\n",
              "┃<span style=\"font-weight: bold\"> Layer (type)                         </span>┃<span style=\"font-weight: bold\"> Output Shape                </span>┃<span style=\"font-weight: bold\">         Param # </span>┃\n",
              "┡━━━━━━━━━━━━━━━━━━━━━━━━━━━━━━━━━━━━━━╇━━━━━━━━━━━━━━━━━━━━━━━━━━━━━╇━━━━━━━━━━━━━━━━━┩\n",
              "│ hidden1 (<span style=\"color: #0087ff; text-decoration-color: #0087ff\">Dense</span>)                      │ (<span style=\"color: #00d7ff; text-decoration-color: #00d7ff\">None</span>, <span style=\"color: #00af00; text-decoration-color: #00af00\">32</span>)                  │           <span style=\"color: #00af00; text-decoration-color: #00af00\">3,232</span> │\n",
              "├──────────────────────────────────────┼─────────────────────────────┼─────────────────┤\n",
              "│ hidden2 (<span style=\"color: #0087ff; text-decoration-color: #0087ff\">Dense</span>)                      │ (<span style=\"color: #00d7ff; text-decoration-color: #00d7ff\">None</span>, <span style=\"color: #00af00; text-decoration-color: #00af00\">64</span>)                  │           <span style=\"color: #00af00; text-decoration-color: #00af00\">2,112</span> │\n",
              "├──────────────────────────────────────┼─────────────────────────────┼─────────────────┤\n",
              "│ hidden3 (<span style=\"color: #0087ff; text-decoration-color: #0087ff\">Dense</span>)                      │ (<span style=\"color: #00d7ff; text-decoration-color: #00d7ff\">None</span>, <span style=\"color: #00af00; text-decoration-color: #00af00\">32</span>)                  │           <span style=\"color: #00af00; text-decoration-color: #00af00\">2,080</span> │\n",
              "├──────────────────────────────────────┼─────────────────────────────┼─────────────────┤\n",
              "│ output (<span style=\"color: #0087ff; text-decoration-color: #0087ff\">Dense</span>)                       │ (<span style=\"color: #00d7ff; text-decoration-color: #00d7ff\">None</span>, <span style=\"color: #00af00; text-decoration-color: #00af00\">10</span>)                  │             <span style=\"color: #00af00; text-decoration-color: #00af00\">330</span> │\n",
              "└──────────────────────────────────────┴─────────────────────────────┴─────────────────┘\n",
              "</pre>\n"
            ]
          },
          "metadata": {}
        },
        {
          "output_type": "display_data",
          "data": {
            "text/plain": [
              "\u001b[1m Total params: \u001b[0m\u001b[38;5;34m7,754\u001b[0m (30.29 KB)\n"
            ],
            "text/html": [
              "<pre style=\"white-space:pre;overflow-x:auto;line-height:normal;font-family:Menlo,'DejaVu Sans Mono',consolas,'Courier New',monospace\"><span style=\"font-weight: bold\"> Total params: </span><span style=\"color: #00af00; text-decoration-color: #00af00\">7,754</span> (30.29 KB)\n",
              "</pre>\n"
            ]
          },
          "metadata": {}
        },
        {
          "output_type": "display_data",
          "data": {
            "text/plain": [
              "\u001b[1m Trainable params: \u001b[0m\u001b[38;5;34m7,754\u001b[0m (30.29 KB)\n"
            ],
            "text/html": [
              "<pre style=\"white-space:pre;overflow-x:auto;line-height:normal;font-family:Menlo,'DejaVu Sans Mono',consolas,'Courier New',monospace\"><span style=\"font-weight: bold\"> Trainable params: </span><span style=\"color: #00af00; text-decoration-color: #00af00\">7,754</span> (30.29 KB)\n",
              "</pre>\n"
            ]
          },
          "metadata": {}
        },
        {
          "output_type": "display_data",
          "data": {
            "text/plain": [
              "\u001b[1m Non-trainable params: \u001b[0m\u001b[38;5;34m0\u001b[0m (0.00 B)\n"
            ],
            "text/html": [
              "<pre style=\"white-space:pre;overflow-x:auto;line-height:normal;font-family:Menlo,'DejaVu Sans Mono',consolas,'Courier New',monospace\"><span style=\"font-weight: bold\"> Non-trainable params: </span><span style=\"color: #00af00; text-decoration-color: #00af00\">0</span> (0.00 B)\n",
              "</pre>\n"
            ]
          },
          "metadata": {}
        }
      ]
    },
    {
      "cell_type": "code",
      "source": [
        "model.weights #ตอนนี้เป็น random weight"
      ],
      "metadata": {
        "colab": {
          "base_uri": "https://localhost:8080/"
        },
        "id": "A-iNSOk3LyB6",
        "outputId": "6424be05-0c1c-41e1-f371-e46ea3c2c717"
      },
      "execution_count": null,
      "outputs": [
        {
          "output_type": "execute_result",
          "data": {
            "text/plain": [
              "[<KerasVariable shape=(100, 32), dtype=float32, path=sequential/hidden1/kernel>,\n",
              " <KerasVariable shape=(32,), dtype=float32, path=sequential/hidden1/bias>,\n",
              " <KerasVariable shape=(32, 64), dtype=float32, path=sequential/hidden2/kernel>,\n",
              " <KerasVariable shape=(64,), dtype=float32, path=sequential/hidden2/bias>,\n",
              " <KerasVariable shape=(64, 32), dtype=float32, path=sequential/hidden3/kernel>,\n",
              " <KerasVariable shape=(32,), dtype=float32, path=sequential/hidden3/bias>,\n",
              " <KerasVariable shape=(32, 10), dtype=float32, path=sequential/output/kernel>,\n",
              " <KerasVariable shape=(10,), dtype=float32, path=sequential/output/bias>]"
            ]
          },
          "metadata": {},
          "execution_count": 10
        }
      ]
    },
    {
      "cell_type": "markdown",
      "source": [
        "# 4. Compile the model\n",
        "\n",
        "Examples of compiling the model\n",
        "\n",
        "4.1 คือแบบสั้น\n",
        "4.2 คือแบบยาว"
      ],
      "metadata": {
        "id": "cgkFrrPKrY_1"
      }
    },
    {
      "cell_type": "code",
      "source": [
        "# Compile with default values for both optimizer and loss #ต้องระบุ optimizer and loss (loss='sparse_categorical_crossentropy' เป็นตัวที่เขาศึกษามาแล้ว)\n",
        "model.compile( optimizer='adam', loss='sparse_categorical_crossentropy', metrics=['acc'] )  #metrics=['acc'] เป็นตัวกำหนด model สำหรับการ evaluate"
      ],
      "metadata": {
        "id": "m2UJy6pgb9nQ"
      },
      "execution_count": null,
      "outputs": []
    },
    {
      "cell_type": "code",
      "source": [
        "# Compile with hyperparameter tuning, การเทรนจะคืบหน้าหรือไม่ ขึ้นกับ learning rate\n",
        "model.compile( optimizer=tf.keras.optimizers.Adam(learning_rate=0.001) ,\n",
        "               loss=tf.keras.losses.SparseCategoricalCrossentropy(from_logits=False) ,\n",
        "               metrics=['acc']\n",
        "             )"
      ],
      "metadata": {
        "id": "is-9uPIdq-7Y"
      },
      "execution_count": null,
      "outputs": []
    },
    {
      "cell_type": "markdown",
      "source": [
        "# 5. Train the model on train set\n",
        "\n",
        "\n",
        "- เป็นการ train แบบ keras เลยสั้นหน่อย\n",
        "- y คือ output\n",
        "- ถ้า verbose=1 คือไม่ print result อะไรออกมาเลย\n",
        "- แบบนี้คือ เอา train data ขึ้น GPU ทั้งหมด\n",
        "- model.fit เป็นตัวเก็บ result ของ epoc สุดท้าย ซึ่งส่วนใหญ่เป็นผลลัพธ์ที่ดีที่สุด\n"
      ],
      "metadata": {
        "id": "lFJlaBtNrnLs"
      }
    },
    {
      "cell_type": "code",
      "source": [
        "history = model.fit ( x_train, y_train, batch_size=128, epochs=20, verbose=1, validation_split=0.2 )"
      ],
      "metadata": {
        "colab": {
          "base_uri": "https://localhost:8080/"
        },
        "id": "OLCsnBIirRIE",
        "outputId": "8565e56a-1d2d-4b59-94e1-d149bd43b360"
      },
      "execution_count": null,
      "outputs": [
        {
          "output_type": "stream",
          "name": "stdout",
          "text": [
            "Epoch 1/20\n",
            "\u001b[1m63/63\u001b[0m \u001b[32m━━━━━━━━━━━━━━━━━━━━\u001b[0m\u001b[37m\u001b[0m \u001b[1m7s\u001b[0m 24ms/step - acc: 0.0990 - loss: 2.3429 - val_acc: 0.0995 - val_loss: 2.3143\n",
            "Epoch 2/20\n",
            "\u001b[1m63/63\u001b[0m \u001b[32m━━━━━━━━━━━━━━━━━━━━\u001b[0m\u001b[37m\u001b[0m \u001b[1m0s\u001b[0m 3ms/step - acc: 0.1276 - loss: 2.2922 - val_acc: 0.0955 - val_loss: 2.3158\n",
            "Epoch 3/20\n",
            "\u001b[1m63/63\u001b[0m \u001b[32m━━━━━━━━━━━━━━━━━━━━\u001b[0m\u001b[37m\u001b[0m \u001b[1m0s\u001b[0m 3ms/step - acc: 0.1416 - loss: 2.2784 - val_acc: 0.0955 - val_loss: 2.3181\n",
            "Epoch 4/20\n",
            "\u001b[1m63/63\u001b[0m \u001b[32m━━━━━━━━━━━━━━━━━━━━\u001b[0m\u001b[37m\u001b[0m \u001b[1m0s\u001b[0m 3ms/step - acc: 0.1538 - loss: 2.2652 - val_acc: 0.0950 - val_loss: 2.3216\n",
            "Epoch 5/20\n",
            "\u001b[1m63/63\u001b[0m \u001b[32m━━━━━━━━━━━━━━━━━━━━\u001b[0m\u001b[37m\u001b[0m \u001b[1m0s\u001b[0m 2ms/step - acc: 0.1687 - loss: 2.2518 - val_acc: 0.0940 - val_loss: 2.3263\n",
            "Epoch 6/20\n",
            "\u001b[1m63/63\u001b[0m \u001b[32m━━━━━━━━━━━━━━━━━━━━\u001b[0m\u001b[37m\u001b[0m \u001b[1m0s\u001b[0m 3ms/step - acc: 0.1762 - loss: 2.2374 - val_acc: 0.0890 - val_loss: 2.3316\n",
            "Epoch 7/20\n",
            "\u001b[1m63/63\u001b[0m \u001b[32m━━━━━━━━━━━━━━━━━━━━\u001b[0m\u001b[37m\u001b[0m \u001b[1m0s\u001b[0m 2ms/step - acc: 0.1846 - loss: 2.2217 - val_acc: 0.0900 - val_loss: 2.3394\n",
            "Epoch 8/20\n",
            "\u001b[1m63/63\u001b[0m \u001b[32m━━━━━━━━━━━━━━━━━━━━\u001b[0m\u001b[37m\u001b[0m \u001b[1m0s\u001b[0m 2ms/step - acc: 0.1928 - loss: 2.2053 - val_acc: 0.0925 - val_loss: 2.3475\n",
            "Epoch 9/20\n",
            "\u001b[1m63/63\u001b[0m \u001b[32m━━━━━━━━━━━━━━━━━━━━\u001b[0m\u001b[37m\u001b[0m \u001b[1m0s\u001b[0m 3ms/step - acc: 0.2047 - loss: 2.1876 - val_acc: 0.0965 - val_loss: 2.3567\n",
            "Epoch 10/20\n",
            "\u001b[1m63/63\u001b[0m \u001b[32m━━━━━━━━━━━━━━━━━━━━\u001b[0m\u001b[37m\u001b[0m \u001b[1m0s\u001b[0m 3ms/step - acc: 0.2159 - loss: 2.1688 - val_acc: 0.1005 - val_loss: 2.3692\n",
            "Epoch 11/20\n",
            "\u001b[1m63/63\u001b[0m \u001b[32m━━━━━━━━━━━━━━━━━━━━\u001b[0m\u001b[37m\u001b[0m \u001b[1m0s\u001b[0m 3ms/step - acc: 0.2221 - loss: 2.1500 - val_acc: 0.1030 - val_loss: 2.3820\n",
            "Epoch 12/20\n",
            "\u001b[1m63/63\u001b[0m \u001b[32m━━━━━━━━━━━━━━━━━━━━\u001b[0m\u001b[37m\u001b[0m \u001b[1m0s\u001b[0m 3ms/step - acc: 0.2386 - loss: 2.1299 - val_acc: 0.1000 - val_loss: 2.3985\n",
            "Epoch 13/20\n",
            "\u001b[1m63/63\u001b[0m \u001b[32m━━━━━━━━━━━━━━━━━━━━\u001b[0m\u001b[37m\u001b[0m \u001b[1m0s\u001b[0m 3ms/step - acc: 0.2453 - loss: 2.1104 - val_acc: 0.0980 - val_loss: 2.4138\n",
            "Epoch 14/20\n",
            "\u001b[1m63/63\u001b[0m \u001b[32m━━━━━━━━━━━━━━━━━━━━\u001b[0m\u001b[37m\u001b[0m \u001b[1m0s\u001b[0m 3ms/step - acc: 0.2511 - loss: 2.0913 - val_acc: 0.0965 - val_loss: 2.4308\n",
            "Epoch 15/20\n",
            "\u001b[1m63/63\u001b[0m \u001b[32m━━━━━━━━━━━━━━━━━━━━\u001b[0m\u001b[37m\u001b[0m \u001b[1m0s\u001b[0m 2ms/step - acc: 0.2604 - loss: 2.0725 - val_acc: 0.0990 - val_loss: 2.4475\n",
            "Epoch 16/20\n",
            "\u001b[1m63/63\u001b[0m \u001b[32m━━━━━━━━━━━━━━━━━━━━\u001b[0m\u001b[37m\u001b[0m \u001b[1m0s\u001b[0m 2ms/step - acc: 0.2673 - loss: 2.0532 - val_acc: 0.1005 - val_loss: 2.4672\n",
            "Epoch 17/20\n",
            "\u001b[1m63/63\u001b[0m \u001b[32m━━━━━━━━━━━━━━━━━━━━\u001b[0m\u001b[37m\u001b[0m \u001b[1m0s\u001b[0m 3ms/step - acc: 0.2743 - loss: 2.0354 - val_acc: 0.1020 - val_loss: 2.4869\n",
            "Epoch 18/20\n",
            "\u001b[1m63/63\u001b[0m \u001b[32m━━━━━━━━━━━━━━━━━━━━\u001b[0m\u001b[37m\u001b[0m \u001b[1m0s\u001b[0m 3ms/step - acc: 0.2829 - loss: 2.0170 - val_acc: 0.1005 - val_loss: 2.5049\n",
            "Epoch 19/20\n",
            "\u001b[1m63/63\u001b[0m \u001b[32m━━━━━━━━━━━━━━━━━━━━\u001b[0m\u001b[37m\u001b[0m \u001b[1m0s\u001b[0m 3ms/step - acc: 0.2903 - loss: 1.9995 - val_acc: 0.0975 - val_loss: 2.5216\n",
            "Epoch 20/20\n",
            "\u001b[1m63/63\u001b[0m \u001b[32m━━━━━━━━━━━━━━━━━━━━\u001b[0m\u001b[37m\u001b[0m \u001b[1m0s\u001b[0m 2ms/step - acc: 0.2949 - loss: 1.9822 - val_acc: 0.0950 - val_loss: 2.5435\n"
          ]
        }
      ]
    },
    {
      "cell_type": "code",
      "source": [
        "# Check the keys in 'history'\n",
        "history.history.keys()"
      ],
      "metadata": {
        "id": "G0YfCYUfxNAG",
        "colab": {
          "base_uri": "https://localhost:8080/"
        },
        "outputId": "5275a4e2-0bb1-4788-9960-1d58b8aa6382"
      },
      "execution_count": null,
      "outputs": [
        {
          "output_type": "execute_result",
          "data": {
            "text/plain": [
              "dict_keys(['acc', 'loss', 'val_acc', 'val_loss'])"
            ]
          },
          "metadata": {},
          "execution_count": 14
        }
      ]
    },
    {
      "cell_type": "code",
      "source": [
        "# Summarize history for accuracy\n",
        "plt.figure(figsize=(15,5))\n",
        "plt.plot(history.history['acc'])\n",
        "plt.plot(history.history['val_acc'])\n",
        "plt.title('Train accuracy')\n",
        "plt.ylabel('accuracy')\n",
        "plt.xlabel('epoch')\n",
        "plt.legend(['train', 'val'], loc='upper left')\n",
        "plt.grid()\n",
        "plt.show()\n",
        "\n",
        "# Summarize history for loss\n",
        "plt.figure(figsize=(15,5))\n",
        "plt.plot(history.history['loss'])\n",
        "plt.plot(history.history['val_loss'])\n",
        "plt.title('Train loss')\n",
        "plt.ylabel('loss')\n",
        "plt.xlabel('epoch')\n",
        "plt.legend(['train', 'val'], loc='upper right')\n",
        "plt.grid()\n",
        "plt.show()"
      ],
      "metadata": {
        "id": "qJI8gZn1rpAr",
        "colab": {
          "base_uri": "https://localhost:8080/",
          "height": 749
        },
        "outputId": "0a03fc7a-a59e-4dfe-d480-31c8d1c7ebd8"
      },
      "execution_count": null,
      "outputs": [
        {
          "output_type": "display_data",
          "data": {
            "text/plain": [
              "<Figure size 1500x500 with 1 Axes>"
            ],
            "image/png": "[encoded data removed]"
          },
          "metadata": {}
        },
        {
          "output_type": "display_data",
          "data": {
            "text/plain": [
              "<Figure size 1500x500 with 1 Axes>"
            ],
            "image/png": "[encoded data removed]"
          },
          "metadata": {}
        }
      ]
    },
    {
      "cell_type": "markdown",
      "source": [
        "# 6. Evaluate the model on test set"
      ],
      "metadata": {
        "id": "1MXnuVPvuNqh"
      }
    },
    {
      "cell_type": "code",
      "source": [
        "results = model.evaluate(x_test, y_test, batch_size=128)\n",
        "print( f\"{model.metrics_names} = {results}\" )"
      ],
      "metadata": {
        "id": "weZoYwx7uQpE",
        "colab": {
          "base_uri": "https://localhost:8080/"
        },
        "outputId": "b393efec-d90a-4aed-e99e-842daba8c180"
      },
      "execution_count": null,
      "outputs": [
        {
          "output_type": "stream",
          "name": "stdout",
          "text": [
            "\u001b[1m16/16\u001b[0m \u001b[32m━━━━━━━━━━━━━━━━━━━━\u001b[0m\u001b[37m\u001b[0m \u001b[1m0s\u001b[0m 2ms/step - acc: 0.1007 - loss: 2.5613 \n",
            "['loss', 'compile_metrics'] = [2.5667483806610107, 0.10199999809265137]\n"
          ]
        }
      ]
    },
    {
      "cell_type": "markdown",
      "source": [
        "# 7. Inference"
      ],
      "metadata": {
        "id": "_uNX2_0luetg"
      }
    },
    {
      "cell_type": "code",
      "source": [
        "# Test using the model on x_test[i]\n",
        "i = 0\n",
        "y_pred = model.predict( x_test[i].reshape(1,-1) )   # Reshape x_test[i] from (n_feature,) to (1, n_feature)\n",
        "\n",
        "print( f\"{'#'*10} Input: x_test[{i}] {'#'*10}\" )\n",
        "print( f\"shape={x_test[i].shape}\\nvalue={x_test[i]}\\n\" )\n",
        "\n",
        "print( f\"{'#'*10} Ground truth: y_test[{i}] {'#'*10}\" )\n",
        "print( f\"shape={y_test[i].shape}\\nvalue={y_test[i]}\\n\" )\n",
        "\n",
        "print( f\"{'#'*10} Prediction: y_pred {'#'*10}\" )\n",
        "print( f\"type={type(y_pred)}\\ndtype={y_pred.dtype}\\nshape={y_pred.shape}\" )\n",
        "print( f\"value={y_pred}\" )\n",
        "print( f\"np.argmax(y_pred)={np.argmax(y_pred)}\" )"
      ],
      "metadata": {
        "id": "1J8GjHggug8U",
        "colab": {
          "base_uri": "https://localhost:8080/"
        },
        "outputId": "d8b31541-b971-4521-d162-0d47378a833b"
      },
      "execution_count": null,
      "outputs": [
        {
          "output_type": "stream",
          "name": "stdout",
          "text": [
            "\u001b[1m1/1\u001b[0m \u001b[32m━━━━━━━━━━━━━━━━━━━━\u001b[0m\u001b[37m\u001b[0m \u001b[1m0s\u001b[0m 63ms/step\n",
            "########## Input: x_test[0] ##########\n",
            "shape=(100,)\n",
            "value=[ 5.10549903e-01 -1.83352447e+00 -1.49723217e-01  1.11129284e+00\n",
            "  1.42249716e-02 -5.62348604e-01  9.51292276e-01 -6.17010534e-01\n",
            " -3.60237151e-01 -1.38861024e+00  4.92188305e-01  1.01176178e+00\n",
            "  1.80850446e+00  5.89353263e-01  1.36130667e+00 -5.62302768e-03\n",
            " -7.39900172e-01  2.56012976e-02  2.96016812e-01  1.08451247e+00\n",
            " -1.32617605e+00 -2.80883074e-01 -1.16435957e+00 -5.38934112e-01\n",
            " -2.56118089e-01 -1.22306556e-01 -3.43174607e-01 -6.91529632e-01\n",
            "  7.18301907e-02 -1.80278540e+00 -1.04563855e-01  1.32607853e+00\n",
            "  9.78216887e-01 -1.11498392e+00 -5.67678213e-01 -1.33293435e-01\n",
            "  1.21934079e-01  4.03834641e-01 -9.09104645e-01 -1.77769288e-01\n",
            " -3.14136744e-01 -4.53699589e-01  1.23750997e+00  3.33860934e-01\n",
            " -3.71486664e-01  5.12168765e-01 -1.69686899e-01  2.44636559e+00\n",
            "  1.00375104e+00  1.39884210e+00 -8.26856732e-01  6.08823121e-01\n",
            " -1.26637721e+00  1.69943726e+00  1.27452350e+00 -1.63716283e-02\n",
            "  2.08334970e+00 -8.04833710e-01  1.86827552e+00  8.59860122e-01\n",
            "  4.93265629e-01 -1.02298284e+00 -1.03264415e+00  5.43476224e-01\n",
            "  2.26267803e-04  2.24713668e-01 -1.87730968e+00  3.83956581e-01\n",
            " -1.11119974e+00 -8.96241009e-01 -9.78519022e-01  1.70683897e+00\n",
            " -6.51706040e-01 -1.89457983e-01  9.71473753e-02  1.64963499e-01\n",
            " -9.39990699e-01  1.29780722e+00 -8.17328513e-01  2.60565311e-01\n",
            "  1.30762672e+00  8.55308697e-02 -7.23364353e-01 -6.65355444e-01\n",
            " -3.31233978e-01 -1.03652930e+00  5.74929535e-01  2.86493719e-01\n",
            "  2.83403754e-01 -2.07380795e+00 -9.65704441e-01 -3.96392345e-01\n",
            " -4.54469264e-01 -4.72624451e-01 -7.82060698e-02 -6.79431140e-01\n",
            " -1.26565063e+00 -1.34346163e+00  1.13605595e+00  7.67716467e-02]\n",
            "\n",
            "########## Ground truth: y_test[0] ##########\n",
            "shape=()\n",
            "value=7\n",
            "\n",
            "########## Prediction: y_pred ##########\n",
            "type=<class 'numpy.ndarray'>\n",
            "dtype=float32\n",
            "shape=(1, 10)\n",
            "value=[[0.10995485 0.17730676 0.10562874 0.04660145 0.08985599 0.0929521\n",
            "  0.12558822 0.1437013  0.05380362 0.05460697]]\n",
            "np.argmax(y_pred)=1\n"
          ]
        }
      ]
    },
    {
      "cell_type": "markdown",
      "source": [
        "argmax(y_pred) บอกตัวที่ค่าสูงสุด"
      ],
      "metadata": {
        "id": "wctLYVXySARB"
      }
    }
  ]
}